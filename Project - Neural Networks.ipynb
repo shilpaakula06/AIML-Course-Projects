{
 "cells": [
  {
   "cell_type": "markdown",
   "metadata": {},
   "source": [
    "# Project -Neural Network  \n",
    "# Street View Housing Number Digit Recognition  \n",
    "# The Problem Description:\n",
    "    Recognizing multi-digit numbers in photographs captured at street level is an important component of modernday map \n",
    "    making. A classic example of a corpus of such street-level photographs is Google’s Street View imagery comprised of\n",
    "    hundreds of millions of geo-located 360-degree panoramic images."
   ]
  },
  {
   "cell_type": "code",
   "execution_count": 91,
   "metadata": {},
   "outputs": [],
   "source": [
    "# Import required libraries\n",
    "\n",
    "import h5py\n",
    "import itertools\n",
    "import numpy as np\n",
    "import pandas as pd\n",
    "import matplotlib.pyplot as plt\n",
    "from tensorflow.keras.models import Sequential\n",
    "from tensorflow.keras.utils import to_categorical\n",
    "from tensorflow.keras.layers import Dense, Activation, Flatten, BatchNormalization, Dropout\n",
    "from tensorflow.keras.callbacks import EarlyStopping\n",
    "from tensorflow.keras import optimizers, regularizers\n",
    "from tensorflow.keras.layers import LeakyReLU\n",
    "from tensorflow.keras.wrappers.scikit_learn import KerasClassifier\n",
    "#remove warnings\n",
    "import tensorflow as tf\n",
    "if type(tf.contrib) != type(tf): tf.contrib._warning = None\n",
    "import os\n",
    "os.environ['TF_CPP_MIN_LOG_LEVEL'] = '3'\n",
    "from tensorflow.python.util import deprecation\n",
    "deprecation._PRINT_DEPRECATION_WARNINGS = False\n",
    "import warnings\n",
    "warnings.simplefilter(action='ignore', category=FutureWarning)\n",
    "from sklearn.model_selection import GridSearchCV,cross_val_score,cross_validate\n",
    "from sklearn.metrics import confusion_matrix,classification_report,f1_score,roc_auc_score,log_loss\n"
   ]
  },
  {
   "cell_type": "code",
   "execution_count": 2,
   "metadata": {},
   "outputs": [],
   "source": [
    "# To open and read HDF5 file  \n",
    "infile = h5py.File('SVHN_single_grey1.h5','r')"
   ]
  },
  {
   "cell_type": "code",
   "execution_count": 3,
   "metadata": {},
   "outputs": [
    {
     "data": {
      "text/plain": [
       "<KeysViewHDF5 ['X_test', 'X_train', 'X_val', 'y_test', 'y_train', 'y_val']>"
      ]
     },
     "execution_count": 3,
     "metadata": {},
     "output_type": "execute_result"
    }
   ],
   "source": [
    "# To see what data is in this HDF5 file, we can call the keys() method on the file object.\n",
    "infile.keys()"
   ]
  },
  {
   "cell_type": "code",
   "execution_count": 4,
   "metadata": {},
   "outputs": [],
   "source": [
    "#Load the training, testing, and validation data\n",
    "X_trainNew = infile['X_train'][:]\n",
    "X_testNew = infile['X_test'][:]\n",
    "X_valNew = infile['X_val'][:]\n",
    "y_trainNew = infile['y_train'][:]\n",
    "y_testNew = infile['y_test'][:]\n",
    "y_valNew = infile['y_val'][:]"
   ]
  },
  {
   "cell_type": "code",
   "execution_count": 5,
   "metadata": {},
   "outputs": [],
   "source": [
    "#Load the back up of training, testing, and validation data\n",
    "X_train = X_trainNew.copy()\n",
    "X_test = X_testNew.copy()\n",
    "X_val = X_valNew.copy()\n",
    "y_train = y_trainNew.copy()\n",
    "y_test = y_testNew.copy()\n",
    "y_val = y_valNew.copy()"
   ]
  },
  {
   "cell_type": "code",
   "execution_count": 6,
   "metadata": {
    "scrolled": true
   },
   "outputs": [
    {
     "name": "stdout",
     "output_type": "stream",
     "text": [
      "Shape of X_train :  (42000, 32, 32)     Data Type :  float32\n",
      "Shape of y_train :  (42000,)            Data Type :  uint8\n",
      "Shape of X_test :  (18000, 32, 32)      Data Type :  float32\n",
      "Shape of y_test :  (18000,)             Data Type :  uint8\n",
      "Shape of X_val :  (60000, 32, 32)       Data Type :  float32\n",
      "Shape of y_val :  (60000,)              Data Type :  uint8\n"
     ]
    }
   ],
   "source": [
    "print(\"Shape of X_train : \", X_train.shape,\"    Data Type : \",X_train.dtype)\n",
    "print(\"Shape of y_train : \", y_train.shape,\"           Data Type : \",y_train.dtype)\n",
    "print(\"Shape of X_test : \", X_test.shape,\"     Data Type : \",X_test.dtype)\n",
    "print(\"Shape of y_test : \", y_test.shape,\"            Data Type : \",y_test.dtype)\n",
    "print(\"Shape of X_val : \", X_val.shape,\"      Data Type : \",X_val.dtype)\n",
    "print(\"Shape of y_val : \", y_val.shape,\"             Data Type : \",y_val.dtype)"
   ]
  },
  {
   "cell_type": "code",
   "execution_count": 7,
   "metadata": {},
   "outputs": [
    {
     "name": "stdout",
     "output_type": "stream",
     "text": [
      "[33.0704 30.2601 26.852  25.8844 28.5421 33.1673 33.9069 31.277  27.3313\n",
      " 23.9556 21.3518 22.5258 24.2868 31.2322 37.2917 38.1776 30.8902 24.4887\n",
      " 27.983  23.3641 19.7774 23.0159 24.7168 24.9941 27.5701 38.5474 52.8341\n",
      " 65.9037 73.5609 71.4471 58.2204 42.9939]\n",
      "[ 25.2283  25.5533  29.9765  40.96    54.0358  60.7317  57.5965  47.9611\n",
      "  33.0103  24.3362  24.3793  33.1997  44.1339  61.1815  80.5278  86.1744\n",
      "  79.7621  66.5893  47.4926  29.7548  21.8804  22.9943  25.2822  26.6303\n",
      "  39.7923  64.9531  91.0815 108.8795 113.6079 113.0209 103.3639  84.2949]\n",
      "[ 32.3478  26.8044  51.4383  87.5396 106.8321 113.38   104.0219  70.8233\n",
      "  38.3626  24.8415  46.8948  82.9853 107.8966 112.3738  97.9068  93.7331\n",
      " 108.9227 119.4009 116.9173  89.2128  50.6665  25.2544  25.3899  53.6383\n",
      "  92.8703 121.9661 121.1557  95.4017  66.5016  75.0554 106.8196 122.5531]\n"
     ]
    }
   ],
   "source": [
    "# prints first 3 values from X_train - 32X32 array\n",
    "print(X_train[0][0])\n",
    "print(X_train[0][1])\n",
    "print(X_train[0][3])"
   ]
  },
  {
   "cell_type": "markdown",
   "metadata": {},
   "source": [
    "# Data Visualization"
   ]
  },
  {
   "cell_type": "code",
   "execution_count": 8,
   "metadata": {
    "scrolled": true
   },
   "outputs": [
    {
     "data": {
      "image/png": "[encoded data removed]",
      "text/plain": [
       "<Figure size 720x72 with 10 Axes>"
      ]
     },
     "metadata": {
      "needs_background": "light"
     },
     "output_type": "display_data"
    },
    {
     "name": "stdout",
     "output_type": "stream",
     "text": [
      "label for each of the above image: [2 6 7 4 4 0 3 0 7 3]\n"
     ]
    }
   ],
   "source": [
    "# Visualizing the first 10 images in the dataset and their labels\n",
    "plt.figure(figsize=(10, 1))\n",
    "for i in range(10):\n",
    "    plt.subplot(1, 10, i+1)\n",
    "    plt.imshow(X_train[i].reshape(32,32), cmap=\"gray\")\n",
    "    plt.axis('off')\n",
    "plt.show()\n",
    "print('label for each of the above image: %s' % (y_train[0:10]))"
   ]
  },
  {
   "cell_type": "code",
   "execution_count": 9,
   "metadata": {},
   "outputs": [
    {
     "name": "stdout",
     "output_type": "stream",
     "text": [
      "[33.0704 30.2601 26.852  25.8844 28.5421 33.1673 33.9069 31.277  27.3313\n",
      " 23.9556 21.3518 22.5258 24.2868 31.2322 37.2917 38.1776 30.8902 24.4887\n",
      " 27.983  23.3641 19.7774 23.0159 24.7168 24.9941 27.5701 38.5474 52.8341\n",
      " 65.9037 73.5609 71.4471 58.2204 42.9939]\n",
      "[ 25.2283  25.5533  29.9765  40.96    54.0358  60.7317  57.5965  47.9611\n",
      "  33.0103  24.3362  24.3793  33.1997  44.1339  61.1815  80.5278  86.1744\n",
      "  79.7621  66.5893  47.4926  29.7548  21.8804  22.9943  25.2822  26.6303\n",
      "  39.7923  64.9531  91.0815 108.8795 113.6079 113.0209 103.3639  84.2949]\n"
     ]
    }
   ],
   "source": [
    "# prints first 2 records from X_train - 32X32 array\n",
    "print(X_train[0][0])\n",
    "print(X_train[0][1])"
   ]
  },
  {
   "cell_type": "markdown",
   "metadata": {},
   "source": [
    "# Reshape and one-hot encoding on train, test, validation features"
   ]
  },
  {
   "cell_type": "code",
   "execution_count": 10,
   "metadata": {},
   "outputs": [],
   "source": [
    "# reshaping X data: (n, 32, 32) => (n, 1024).  \n",
    "X_train_re = X_train.reshape((X_train.shape[0], -1)) #.reshaped 32*32 array into single dimensional 1024 size array \n",
    "X_test_re = X_test.reshape((X_test.shape[0], -1))\n",
    "X_val_re = X_val.reshape((X_val.shape[0], -1))"
   ]
  },
  {
   "cell_type": "code",
   "execution_count": 11,
   "metadata": {},
   "outputs": [
    {
     "name": "stdout",
     "output_type": "stream",
     "text": [
      "Number of unique classes:  10\n",
      "Classes:  [0 1 2 3 4 5 6 7 8 9]\n"
     ]
    }
   ],
   "source": [
    "print('Number of unique classes: ', len(np.unique(y_train)))\n",
    "print('Classes: ', np.unique(y_train))"
   ]
  },
  {
   "cell_type": "code",
   "execution_count": 12,
   "metadata": {},
   "outputs": [],
   "source": [
    "# One hot encode the labels for train, test, and validation data\n",
    "# converting y data into categorical (one-hot encoding)\n",
    "y_train = to_categorical(y_train)\n",
    "y_test = to_categorical(y_test)\n",
    "y_val = to_categorical(y_val)"
   ]
  },
  {
   "cell_type": "code",
   "execution_count": 13,
   "metadata": {
    "scrolled": false
   },
   "outputs": [
    {
     "name": "stdout",
     "output_type": "stream",
     "text": [
      "Before One hot encoding :  2\n",
      "After One hot encoding  :  [0. 0. 1. 0. 0. 0. 0. 0. 0. 0.]\n"
     ]
    }
   ],
   "source": [
    "print(\"Before One hot encoding : \", y_trainNew[0])\n",
    "print(\"After One hot encoding  : \", y_train[0])"
   ]
  },
  {
   "cell_type": "code",
   "execution_count": 14,
   "metadata": {},
   "outputs": [
    {
     "name": "stdout",
     "output_type": "stream",
     "text": [
      "(42000, 1024) (18000, 1024) (60000, 1024) (42000, 10) (18000, 10) (60000, 10)\n"
     ]
    }
   ],
   "source": [
    "print(X_train_re.shape, X_test_re.shape,X_val_re.shape, y_train.shape, y_test.shape,  y_val.shape)"
   ]
  },
  {
   "cell_type": "code",
   "execution_count": 15,
   "metadata": {},
   "outputs": [
    {
     "name": "stdout",
     "output_type": "stream",
     "text": [
      "Minimum value in X_train - \n",
      "0.0\n",
      "Maximum value in X_train - \n",
      "254.9745\n"
     ]
    }
   ],
   "source": [
    "print(\"Minimum value in X_train - \")\n",
    "print(X_train_re.min())\n",
    "print(\"Maximum value in X_train - \") \n",
    "print(X_train_re.max())"
   ]
  },
  {
   "cell_type": "code",
   "execution_count": 16,
   "metadata": {},
   "outputs": [],
   "source": [
    "# Normalize the Train, Validation and Test sets. Get the values in the range of 0 to 1\n",
    "X_train_reNew = X_train_re / 255.0\n",
    "X_val_reNew   = X_val_re   / 255.0\n",
    "X_test_reNew  = X_test_re  / 255.0"
   ]
  },
  {
   "cell_type": "code",
   "execution_count": 17,
   "metadata": {},
   "outputs": [
    {
     "name": "stdout",
     "output_type": "stream",
     "text": [
      "Minimum & Maximum value after Normalization: \n",
      "Minimum value in X_train - \n",
      "0.0\n",
      "Maximum value in X_train - \n",
      "0.9999\n"
     ]
    }
   ],
   "source": [
    "print(\"Minimum & Maximum value after Normalization: \")\n",
    "print(\"Minimum value in X_train - \")\n",
    "print(X_train_reNew.min())\n",
    "print(\"Maximum value in X_train - \") \n",
    "print(X_train_reNew.max())"
   ]
  },
  {
   "cell_type": "markdown",
   "metadata": {},
   "source": [
    "## Build neural networks with single hidden layer"
   ]
  },
  {
   "cell_type": "code",
   "execution_count": 18,
   "metadata": {},
   "outputs": [
    {
     "name": "stdout",
     "output_type": "stream",
     "text": [
      "(42000, 1024) (42000, 10)\n",
      "(60000, 1024) (60000, 10)\n"
     ]
    }
   ],
   "source": [
    "print(X_train_reNew.shape, y_train.shape)\n",
    "print(X_val_reNew.shape,y_val.shape)"
   ]
  },
  {
   "cell_type": "code",
   "execution_count": 19,
   "metadata": {},
   "outputs": [],
   "source": [
    "tf.keras.backend.clear_session()"
   ]
  },
  {
   "cell_type": "markdown",
   "metadata": {},
   "source": [
    "# Using Adam Optimizer"
   ]
  },
  {
   "cell_type": "code",
   "execution_count": 20,
   "metadata": {},
   "outputs": [],
   "source": [
    "mod1 = Sequential()\n",
    "mod1.add(Flatten())\n",
    "mod1.add(Dense(777, input_shape = (1024,), activation='relu', name='Hidden_Layer_1')) #first hidden layer with 777 neurons, and activation function relu.\n",
    "mod1.add(Dense(10, activation='softmax', name='Output_Layer')) #output layer with 10 neurons since we have 10 different classes\n",
    "adam = optimizers.Adam(lr = 0.001)\n",
    "mod1.compile(optimizer=adam, loss='categorical_crossentropy', metrics=['accuracy']) # Adam optimizer is used"
   ]
  },
  {
   "cell_type": "code",
   "execution_count": 21,
   "metadata": {
    "scrolled": false
   },
   "outputs": [
    {
     "name": "stdout",
     "output_type": "stream",
     "text": [
      "Train on 42000 samples, validate on 60000 samples\n",
      "Epoch 1/50\n",
      "42000/42000 [==============================] - 7s 155us/sample - loss: 2.3175 - acc: 0.1348 - val_loss: 2.2055 - val_acc: 0.2313\n",
      "Epoch 2/50\n",
      "42000/42000 [==============================] - 6s 145us/sample - loss: 1.9841 - acc: 0.3552 - val_loss: 1.7336 - val_acc: 0.5128\n",
      "Epoch 3/50\n",
      "42000/42000 [==============================] - 6s 143us/sample - loss: 1.5581 - acc: 0.5416 - val_loss: 1.3967 - val_acc: 0.6076\n",
      "Epoch 4/50\n",
      "42000/42000 [==============================] - 6s 143us/sample - loss: 1.3253 - acc: 0.6111 - val_loss: 1.2630 - val_acc: 0.6213\n",
      "Epoch 5/50\n",
      "42000/42000 [==============================] - 6s 143us/sample - loss: 1.1985 - acc: 0.6498 - val_loss: 1.1649 - val_acc: 0.6501\n",
      "Epoch 6/50\n",
      "42000/42000 [==============================] - 6s 154us/sample - loss: 1.1250 - acc: 0.6699 - val_loss: 1.1070 - val_acc: 0.6608\n",
      "Epoch 7/50\n",
      "42000/42000 [==============================] - 6s 153us/sample - loss: 1.0720 - acc: 0.6853 - val_loss: 1.0555 - val_acc: 0.6819\n",
      "Epoch 8/50\n",
      "42000/42000 [==============================] - 6s 149us/sample - loss: 1.0173 - acc: 0.6994 - val_loss: 1.0079 - val_acc: 0.7013\n",
      "Epoch 9/50\n",
      "42000/42000 [==============================] - 6s 149us/sample - loss: 0.9838 - acc: 0.7102 - val_loss: 0.9456 - val_acc: 0.7244\n",
      "Epoch 10/50\n",
      "42000/42000 [==============================] - 6s 153us/sample - loss: 0.9451 - acc: 0.7205 - val_loss: 0.9388 - val_acc: 0.7199\n",
      "Epoch 11/50\n",
      "42000/42000 [==============================] - 6s 154us/sample - loss: 0.9162 - acc: 0.7291 - val_loss: 0.9001 - val_acc: 0.7348\n",
      "Epoch 12/50\n",
      "42000/42000 [==============================] - 6s 141us/sample - loss: 0.8885 - acc: 0.7328 - val_loss: 0.8793 - val_acc: 0.7378\n",
      "Epoch 13/50\n",
      "42000/42000 [==============================] - 6s 135us/sample - loss: 0.8704 - acc: 0.7395 - val_loss: 0.8992 - val_acc: 0.7295\n",
      "Epoch 14/50\n",
      "42000/42000 [==============================] - 6s 147us/sample - loss: 0.8502 - acc: 0.7479 - val_loss: 0.8387 - val_acc: 0.7502\n",
      "Epoch 15/50\n",
      "42000/42000 [==============================] - 6s 148us/sample - loss: 0.8269 - acc: 0.7558 - val_loss: 0.8339 - val_acc: 0.7512\n",
      "Epoch 16/50\n",
      "42000/42000 [==============================] - 6s 147us/sample - loss: 0.8086 - acc: 0.7593 - val_loss: 0.8380 - val_acc: 0.7477\n",
      "Epoch 17/50\n",
      "42000/42000 [==============================] - 6s 144us/sample - loss: 0.7972 - acc: 0.7617 - val_loss: 0.7978 - val_acc: 0.7622\n",
      "Epoch 18/50\n",
      "42000/42000 [==============================] - 6s 151us/sample - loss: 0.7821 - acc: 0.7681 - val_loss: 0.7814 - val_acc: 0.7698\n",
      "Epoch 19/50\n",
      "42000/42000 [==============================] - 7s 155us/sample - loss: 0.7666 - acc: 0.7727 - val_loss: 0.7412 - val_acc: 0.7842\n",
      "Epoch 20/50\n",
      "42000/42000 [==============================] - 6s 146us/sample - loss: 0.7526 - acc: 0.7754 - val_loss: 0.7500 - val_acc: 0.7781\n",
      "Epoch 21/50\n",
      "42000/42000 [==============================] - 6s 149us/sample - loss: 0.7429 - acc: 0.7805 - val_loss: 0.7506 - val_acc: 0.7816 acc: 0. - ETA: 1s - l\n",
      "Epoch 22/50\n",
      "42000/42000 [==============================] - 6s 146us/sample - loss: 0.7325 - acc: 0.7815 - val_loss: 0.7196 - val_acc: 0.7903\n",
      "Epoch 23/50\n",
      "42000/42000 [==============================] - 6s 144us/sample - loss: 0.7218 - acc: 0.7864 - val_loss: 0.7484 - val_acc: 0.7773\n",
      "Epoch 24/50\n",
      "42000/42000 [==============================] - 6s 144us/sample - loss: 0.7136 - acc: 0.7875 - val_loss: 0.7160 - val_acc: 0.7886\n",
      "Epoch 25/50\n",
      "42000/42000 [==============================] - 6s 144us/sample - loss: 0.6990 - acc: 0.7936 - val_loss: 0.6969 - val_acc: 0.7957\n",
      "Epoch 26/50\n",
      "42000/42000 [==============================] - 6s 147us/sample - loss: 0.6862 - acc: 0.7963 - val_loss: 0.7128 - val_acc: 0.7886\n",
      "Epoch 27/50\n",
      "42000/42000 [==============================] - 6s 144us/sample - loss: 0.6872 - acc: 0.7972 - val_loss: 0.7292 - val_acc: 0.7843\n",
      "Epoch 28/50\n",
      "42000/42000 [==============================] - 6s 152us/sample - loss: 0.6734 - acc: 0.8000 - val_loss: 0.7107 - val_acc: 0.7893\n",
      "Epoch 29/50\n",
      "42000/42000 [==============================] - 6s 152us/sample - loss: 0.6666 - acc: 0.8027 - val_loss: 0.6775 - val_acc: 0.8019\n",
      "Epoch 30/50\n",
      "42000/42000 [==============================] - 6s 150us/sample - loss: 0.6559 - acc: 0.8059 - val_loss: 0.6758 - val_acc: 0.8030\n",
      "Epoch 31/50\n",
      "42000/42000 [==============================] - 7s 156us/sample - loss: 0.6594 - acc: 0.8056 - val_loss: 0.6837 - val_acc: 0.7980\n",
      "Epoch 32/50\n",
      "42000/42000 [==============================] - 6s 153us/sample - loss: 0.6490 - acc: 0.8083 - val_loss: 0.6657 - val_acc: 0.8062\n",
      "Epoch 33/50\n",
      "42000/42000 [==============================] - 6s 149us/sample - loss: 0.6365 - acc: 0.8121 - val_loss: 0.6502 - val_acc: 0.8100\n",
      "Epoch 34/50\n",
      "42000/42000 [==============================] - 6s 147us/sample - loss: 0.6324 - acc: 0.8138 - val_loss: 0.6762 - val_acc: 0.8008\n",
      "Epoch 35/50\n",
      "42000/42000 [==============================] - 6s 143us/sample - loss: 0.6235 - acc: 0.8147 - val_loss: 0.6637 - val_acc: 0.8049\n",
      "Epoch 36/50\n",
      "42000/42000 [==============================] - 6s 143us/sample - loss: 0.6162 - acc: 0.8187 - val_loss: 0.6573 - val_acc: 0.8082\n",
      "Epoch 37/50\n",
      "42000/42000 [==============================] - 6s 134us/sample - loss: 0.6114 - acc: 0.8192 - val_loss: 0.6347 - val_acc: 0.8159\n",
      "Epoch 38/50\n",
      "42000/42000 [==============================] - 5s 131us/sample - loss: 0.6060 - acc: 0.8209 - val_loss: 0.6217 - val_acc: 0.8183\n",
      "Epoch 39/50\n",
      "42000/42000 [==============================] - 6s 142us/sample - loss: 0.6011 - acc: 0.8229 - val_loss: 0.6198 - val_acc: 0.8198\n",
      "Epoch 40/50\n",
      "42000/42000 [==============================] - 6s 148us/sample - loss: 0.5959 - acc: 0.8246 - val_loss: 0.6369 - val_acc: 0.8115\n",
      "Epoch 41/50\n",
      "42000/42000 [==============================] - 6s 146us/sample - loss: 0.5932 - acc: 0.8238 - val_loss: 0.6156 - val_acc: 0.8216- ETA: 1\n",
      "Epoch 42/50\n",
      "42000/42000 [==============================] - 6s 145us/sample - loss: 0.5890 - acc: 0.8258 - val_loss: 0.6601 - val_acc: 0.8060\n",
      "Epoch 43/50\n",
      "42000/42000 [==============================] - 6s 146us/sample - loss: 0.5874 - acc: 0.8252 - val_loss: 0.7136 - val_acc: 0.7847\n",
      "Epoch 44/50\n",
      "42000/42000 [==============================] - 6s 145us/sample - loss: 0.5786 - acc: 0.8290 - val_loss: 0.6029 - val_acc: 0.8254\n",
      "Epoch 45/50\n",
      "42000/42000 [==============================] - 6s 146us/sample - loss: 0.5725 - acc: 0.8309 - val_loss: 0.5796 - val_acc: 0.8310\n",
      "Epoch 46/50\n",
      "42000/42000 [==============================] - 6s 146us/sample - loss: 0.5700 - acc: 0.8325 - val_loss: 0.6018 - val_acc: 0.8244\n",
      "Epoch 47/50\n",
      "42000/42000 [==============================] - 6s 148us/sample - loss: 0.5710 - acc: 0.8310 - val_loss: 0.6332 - val_acc: 0.8140\n",
      "Epoch 48/50\n",
      "42000/42000 [==============================] - 6s 146us/sample - loss: 0.5606 - acc: 0.8343 - val_loss: 0.5640 - val_acc: 0.8380\n",
      "Epoch 49/50\n",
      "42000/42000 [==============================] - 6s 147us/sample - loss: 0.5612 - acc: 0.8343 - val_loss: 0.5676 - val_acc: 0.8360\n",
      "Epoch 50/50\n",
      "42000/42000 [==============================] - 6s 150us/sample - loss: 0.5587 - acc: 0.8345 - val_loss: 0.5826 - val_acc: 0.8303\n"
     ]
    }
   ],
   "source": [
    "history =mod1.fit(X_train_reNew, y_train, batch_size = 200, validation_data=(X_val_reNew,y_val), epochs = 50, verbose = 1) #50 epochs with batch size 200."
   ]
  },
  {
   "cell_type": "code",
   "execution_count": 22,
   "metadata": {},
   "outputs": [
    {
     "data": {
      "text/plain": [
       "[0.13478571,\n",
       " 0.3551905,\n",
       " 0.5415952,\n",
       " 0.61109525,\n",
       " 0.6498333,\n",
       " 0.66985714,\n",
       " 0.6852619,\n",
       " 0.69935715,\n",
       " 0.7101905,\n",
       " 0.7205,\n",
       " 0.7290952,\n",
       " 0.7328333,\n",
       " 0.7395238,\n",
       " 0.74788094,\n",
       " 0.7557857,\n",
       " 0.7592857,\n",
       " 0.7617143,\n",
       " 0.7680714,\n",
       " 0.77271426,\n",
       " 0.7753571,\n",
       " 0.7805,\n",
       " 0.7815476,\n",
       " 0.78638095,\n",
       " 0.7875,\n",
       " 0.79359525,\n",
       " 0.79630953,\n",
       " 0.7971905,\n",
       " 0.7999524,\n",
       " 0.80266666,\n",
       " 0.80590475,\n",
       " 0.80557144,\n",
       " 0.8083095,\n",
       " 0.81214285,\n",
       " 0.81378573,\n",
       " 0.8147143,\n",
       " 0.8187381,\n",
       " 0.8191905,\n",
       " 0.8209286,\n",
       " 0.8228809,\n",
       " 0.82464284,\n",
       " 0.8238095,\n",
       " 0.8257619,\n",
       " 0.8252381,\n",
       " 0.82902384,\n",
       " 0.83085716,\n",
       " 0.8325476,\n",
       " 0.8309762,\n",
       " 0.8343095,\n",
       " 0.83433336,\n",
       " 0.8344762]"
      ]
     },
     "execution_count": 22,
     "metadata": {},
     "output_type": "execute_result"
    }
   ],
   "source": [
    "history.history['acc']"
   ]
  },
  {
   "cell_type": "code",
   "execution_count": 23,
   "metadata": {},
   "outputs": [
    {
     "name": "stdout",
     "output_type": "stream",
     "text": [
      "Model: \"sequential\"\n",
      "_________________________________________________________________\n",
      "Layer (type)                 Output Shape              Param #   \n",
      "=================================================================\n",
      "flatten (Flatten)            multiple                  0         \n",
      "_________________________________________________________________\n",
      "Hidden_Layer_1 (Dense)       multiple                  796425    \n",
      "_________________________________________________________________\n",
      "Output_Layer (Dense)         multiple                  7780      \n",
      "=================================================================\n",
      "Total params: 804,205\n",
      "Trainable params: 804,205\n",
      "Non-trainable params: 0\n",
      "_________________________________________________________________\n"
     ]
    }
   ],
   "source": [
    "mod1.summary()"
   ]
  },
  {
   "cell_type": "code",
   "execution_count": 24,
   "metadata": {},
   "outputs": [
    {
     "name": "stdout",
     "output_type": "stream",
     "text": [
      "18000/18000 [==============================] - 2s 133us/sample - loss: 0.6785 - acc: 0.8098\n"
     ]
    }
   ],
   "source": [
    "res1= mod1.evaluate(X_test_reNew, y_test)"
   ]
  },
  {
   "cell_type": "code",
   "execution_count": 25,
   "metadata": {},
   "outputs": [
    {
     "name": "stdout",
     "output_type": "stream",
     "text": [
      "Accuracy\n",
      "18000/18000 [==============================] - 2s 113us/sample - loss: 0.6785 - acc: 0.8098\n",
      "0.8097778\n",
      "[[1561   48    6   25   21   29   17   23   20   64]\n",
      " [  26 1599   13   53   39   25   10   31   15   17]\n",
      " [  26   66 1453   65   26   32    3   67   27   38]\n",
      " [  14   65   32 1288   17  201   10   32   36   24]\n",
      " [  30   75   29   26 1513   40   31    7   27   34]\n",
      " [  21   23    6   74   14 1532   26    9   31   32]\n",
      " [  69   49   13   27   40  161 1329    6  115   23]\n",
      " [  15  133   50   30   10   21    9 1501   12   27]\n",
      " [  38   64   24   68   29  101   50    7 1373   58]\n",
      " [  72   60   24   53   16   86    6   18   42 1427]]\n",
      "              precision    recall  f1-score   support\n",
      "\n",
      "           0       0.86      0.83      0.85      1872\n",
      "           1       0.87      0.73      0.80      2182\n",
      "           2       0.81      0.88      0.84      1650\n",
      "           3       0.75      0.75      0.75      1709\n",
      "           4       0.83      0.88      0.86      1725\n",
      "           5       0.87      0.69      0.77      2228\n",
      "           6       0.73      0.89      0.80      1491\n",
      "           7       0.83      0.88      0.86      1701\n",
      "           8       0.76      0.81      0.78      1698\n",
      "           9       0.79      0.82      0.80      1744\n",
      "\n",
      "    accuracy                           0.81     18000\n",
      "   macro avg       0.81      0.82      0.81     18000\n",
      "weighted avg       0.81      0.81      0.81     18000\n",
      "\n"
     ]
    }
   ],
   "source": [
    "Y_pred_cls = mod1.predict_classes(X_test_reNew, batch_size=200, verbose=0)\n",
    "\n",
    "print('Accuracy') \n",
    "print( str(mod1.evaluate(X_test_reNew,y_test)[1]) )\n",
    "\n",
    "\n",
    "label=np.argmax(y_test.T, axis=0)\n",
    "print(confusion_matrix(label, Y_pred_cls))\n",
    "print(classification_report(Y_pred_cls, label))"
   ]
  },
  {
   "cell_type": "code",
   "execution_count": 26,
   "metadata": {},
   "outputs": [
    {
     "data": {
      "text/html": [
       "<div>\n",
       "<style scoped>\n",
       "    .dataframe tbody tr th:only-of-type {\n",
       "        vertical-align: middle;\n",
       "    }\n",
       "\n",
       "    .dataframe tbody tr th {\n",
       "        vertical-align: top;\n",
       "    }\n",
       "\n",
       "    .dataframe thead th {\n",
       "        text-align: right;\n",
       "    }\n",
       "</style>\n",
       "<table border=\"1\" class=\"dataframe\">\n",
       "  <thead>\n",
       "    <tr style=\"text-align: right;\">\n",
       "      <th></th>\n",
       "      <th>Test accuracy</th>\n",
       "      <th>F1 score</th>\n",
       "      <th>ROC AUC score</th>\n",
       "      <th>Total Loss</th>\n",
       "    </tr>\n",
       "  </thead>\n",
       "  <tbody>\n",
       "    <tr>\n",
       "      <th>0</th>\n",
       "      <td>80.978</td>\n",
       "      <td>0.81</td>\n",
       "      <td>0.973</td>\n",
       "      <td>0.679</td>\n",
       "    </tr>\n",
       "  </tbody>\n",
       "</table>\n",
       "</div>"
      ],
      "text/plain": [
       "   Test accuracy  F1 score  ROC AUC score  Total Loss\n",
       "0         80.978      0.81          0.973       0.679"
      ]
     },
     "metadata": {},
     "output_type": "display_data"
    }
   ],
   "source": [
    "#calculate evaluation parameters\n",
    "f1_e25 = f1_score(label, Y_pred_cls, average='micro')\n",
    "roc_e25 = roc_auc_score(y_test, mod1.predict_proba(X_test_reNew))\n",
    "#create evaluation dataframe\n",
    "stats_e25 = pd.DataFrame({'Test accuracy' :  round(res1[1]*100,3),\n",
    "                      'F1 score'      : round(f1_e25,3),\n",
    "                      'ROC AUC score' : round(roc_e25,3),\n",
    "                      'Total Loss'    : round(res1[0],3)}, index=[0])\n",
    "#print evaluation dataframe\n",
    "display(stats_e25)"
   ]
  },
  {
   "cell_type": "markdown",
   "metadata": {},
   "source": [
    "Accuracy Plot"
   ]
  },
  {
   "cell_type": "code",
   "execution_count": 27,
   "metadata": {
    "scrolled": false
   },
   "outputs": [
    {
     "data": {
      "image/png": "[encoded data removed]",
      "text/plain": [
       "<Figure size 432x288 with 1 Axes>"
      ]
     },
     "metadata": {
      "needs_background": "light"
     },
     "output_type": "display_data"
    }
   ],
   "source": [
    "plt.plot(history.history['acc'])\n",
    "plt.plot(history.history['val_acc'])\n",
    "plt.title('model accuracy')\n",
    "plt.ylabel('accuracy')\n",
    "plt.xlabel('epoch')\n",
    "plt.legend(['train', 'test'], loc='upper left')\n",
    "plt.show()"
   ]
  },
  {
   "cell_type": "markdown",
   "metadata": {},
   "source": [
    "Loss Plot"
   ]
  },
  {
   "cell_type": "code",
   "execution_count": 28,
   "metadata": {},
   "outputs": [
    {
     "data": {
      "image/png": "[encoded data removed]",
      "text/plain": [
       "<Figure size 432x288 with 1 Axes>"
      ]
     },
     "metadata": {
      "needs_background": "light"
     },
     "output_type": "display_data"
    }
   ],
   "source": [
    "plt.plot(history.history['loss'])\n",
    "plt.plot(history.history['val_loss'])\n",
    "plt.title('model loss')\n",
    "plt.ylabel('loss')\n",
    "plt.xlabel('epoch')\n",
    "plt.legend(['train', 'test'], loc='upper left')\n",
    "plt.show()"
   ]
  },
  {
   "cell_type": "code",
   "execution_count": 29,
   "metadata": {},
   "outputs": [
    {
     "data": {
      "text/html": [
       "<div>\n",
       "<style scoped>\n",
       "    .dataframe tbody tr th:only-of-type {\n",
       "        vertical-align: middle;\n",
       "    }\n",
       "\n",
       "    .dataframe tbody tr th {\n",
       "        vertical-align: top;\n",
       "    }\n",
       "\n",
       "    .dataframe thead th {\n",
       "        text-align: right;\n",
       "    }\n",
       "</style>\n",
       "<table border=\"1\" class=\"dataframe\">\n",
       "  <thead>\n",
       "    <tr style=\"text-align: right;\">\n",
       "      <th></th>\n",
       "      <th>Models</th>\n",
       "      <th>loss</th>\n",
       "      <th>Accuracy</th>\n",
       "    </tr>\n",
       "  </thead>\n",
       "  <tbody>\n",
       "    <tr>\n",
       "      <th>1</th>\n",
       "      <td>Adam with one Layer</td>\n",
       "      <td>0.678502</td>\n",
       "      <td>0.809778</td>\n",
       "    </tr>\n",
       "  </tbody>\n",
       "</table>\n",
       "</div>"
      ],
      "text/plain": [
       "                Models      loss  Accuracy\n",
       "1  Adam with one Layer  0.678502  0.809778"
      ]
     },
     "execution_count": 29,
     "metadata": {},
     "output_type": "execute_result"
    }
   ],
   "source": [
    "#Store the Accuracy in a dataframe for final comparison\n",
    "final_df = pd.DataFrame({'Models':['Adam with one Layer'], 'loss': res1[0], 'Accuracy': res1[1]},index={'1'})\n",
    "final_df = final_df[['Models','loss', 'Accuracy']]\n",
    "final_df"
   ]
  },
  {
   "cell_type": "markdown",
   "metadata": {},
   "source": [
    "# Using adam Optimizer"
   ]
  },
  {
   "cell_type": "code",
   "execution_count": 30,
   "metadata": {},
   "outputs": [],
   "source": [
    "tf.keras.backend.clear_session()\n",
    "mod1b = Sequential()\n",
    "mod1b.add(Flatten())\n",
    "mod1b.add(Dense(777, input_shape = (1024,), activation='relu', name='Hidden_Layer_1')) #first hidden layer with 777 neurons, and activation function relu.\n",
    "mod1b.add(Dense(777, input_shape = (1024,), activation='relu', name='Hidden_Layer_2')) #second hidden layer with 777 neurons, and activation function relu.\n",
    "mod1b.add(Dense(10, activation='softmax', name='Output_Layer')) #output layer with 10 neurons since we have 10 different classes\n",
    "adam = optimizers.Adam(lr = 0.001)\n",
    "mod1b.compile(optimizer=adam, loss='categorical_crossentropy', metrics=['accuracy']) # SGD optimizer is used"
   ]
  },
  {
   "cell_type": "code",
   "execution_count": 31,
   "metadata": {
    "scrolled": false
   },
   "outputs": [
    {
     "name": "stdout",
     "output_type": "stream",
     "text": [
      "Train on 42000 samples, validate on 60000 samples\n",
      "Epoch 1/50\n",
      "42000/42000 [==============================] - 11s 257us/sample - loss: 2.0655 - acc: 0.2555 - val_loss: 1.5394 - val_acc: 0.4986\n",
      "Epoch 2/50\n",
      "42000/42000 [==============================] - 11s 260us/sample - loss: 1.3801 - acc: 0.5531 - val_loss: 1.2148 - val_acc: 0.6223\n",
      "Epoch 3/50\n",
      "42000/42000 [==============================] - 11s 258us/sample - loss: 1.1675 - acc: 0.6351 - val_loss: 1.0705 - val_acc: 0.6706\n",
      "Epoch 4/50\n",
      "42000/42000 [==============================] - 11s 252us/sample - loss: 1.0485 - acc: 0.6746 - val_loss: 0.9820 - val_acc: 0.7029\n",
      "Epoch 5/50\n",
      "42000/42000 [==============================] - 11s 252us/sample - loss: 0.9612 - acc: 0.7059 - val_loss: 0.9165 - val_acc: 0.7212\n",
      "Epoch 6/50\n",
      "42000/42000 [==============================] - 11s 252us/sample - loss: 0.9186 - acc: 0.7177 - val_loss: 0.9144 - val_acc: 0.7170\n",
      "Epoch 7/50\n",
      "42000/42000 [==============================] - 11s 253us/sample - loss: 0.8654 - acc: 0.7347 - val_loss: 0.9211 - val_acc: 0.7094\n",
      "Epoch 8/50\n",
      "42000/42000 [==============================] - 11s 255us/sample - loss: 0.8397 - acc: 0.7409 - val_loss: 0.8403 - val_acc: 0.7433\n",
      "Epoch 9/50\n",
      "42000/42000 [==============================] - 11s 252us/sample - loss: 0.7926 - acc: 0.7573 - val_loss: 0.8270 - val_acc: 0.7406\n",
      "Epoch 10/50\n",
      "42000/42000 [==============================] - 11s 254us/sample - loss: 0.7613 - acc: 0.7670 - val_loss: 0.7532 - val_acc: 0.7679\n",
      "Epoch 11/50\n",
      "42000/42000 [==============================] - 11s 254us/sample - loss: 0.7297 - acc: 0.7762 - val_loss: 0.7496 - val_acc: 0.7732\n",
      "Epoch 12/50\n",
      "42000/42000 [==============================] - 11s 253us/sample - loss: 0.7137 - acc: 0.7817 - val_loss: 0.6873 - val_acc: 0.7938\n",
      "Epoch 13/50\n",
      "42000/42000 [==============================] - 11s 252us/sample - loss: 0.6880 - acc: 0.7899 - val_loss: 0.7080 - val_acc: 0.7855\n",
      "Epoch 14/50\n",
      "42000/42000 [==============================] - 11s 253us/sample - loss: 0.6669 - acc: 0.7974 - val_loss: 0.6884 - val_acc: 0.7891\n",
      "Epoch 15/50\n",
      "42000/42000 [==============================] - 11s 265us/sample - loss: 0.6559 - acc: 0.8001 - val_loss: 0.6837 - val_acc: 0.7925\n",
      "Epoch 16/50\n",
      "42000/42000 [==============================] - 12s 280us/sample - loss: 0.6443 - acc: 0.8036 - val_loss: 0.6387 - val_acc: 0.8059\n",
      "Epoch 17/50\n",
      "42000/42000 [==============================] - 11s 253us/sample - loss: 0.6185 - acc: 0.8149 - val_loss: 0.6392 - val_acc: 0.8051\n",
      "Epoch 18/50\n",
      "42000/42000 [==============================] - 11s 255us/sample - loss: 0.6007 - acc: 0.8174 - val_loss: 0.6361 - val_acc: 0.8097\n",
      "Epoch 19/50\n",
      "42000/42000 [==============================] - 11s 254us/sample - loss: 0.5962 - acc: 0.8176 - val_loss: 0.5928 - val_acc: 0.8233\n",
      "Epoch 20/50\n",
      "42000/42000 [==============================] - 11s 260us/sample - loss: 0.5734 - acc: 0.8268 - val_loss: 0.5912 - val_acc: 0.8227\n",
      "Epoch 21/50\n",
      "42000/42000 [==============================] - 11s 255us/sample - loss: 0.5620 - acc: 0.8286 - val_loss: 0.6182 - val_acc: 0.8130\n",
      "Epoch 22/50\n",
      "42000/42000 [==============================] - 11s 256us/sample - loss: 0.5536 - acc: 0.8319 - val_loss: 0.5807 - val_acc: 0.8246\n",
      "Epoch 23/50\n",
      "42000/42000 [==============================] - 11s 266us/sample - loss: 0.5352 - acc: 0.8375 - val_loss: 0.5638 - val_acc: 0.8311\n",
      "Epoch 24/50\n",
      "42000/42000 [==============================] - 12s 286us/sample - loss: 0.5243 - acc: 0.8404 - val_loss: 0.5475 - val_acc: 0.8359\n",
      "Epoch 25/50\n",
      "42000/42000 [==============================] - 12s 290us/sample - loss: 0.5231 - acc: 0.8403 - val_loss: 0.5537 - val_acc: 0.8347\n",
      "Epoch 26/50\n",
      "42000/42000 [==============================] - 11s 273us/sample - loss: 0.5031 - acc: 0.8464 - val_loss: 0.5296 - val_acc: 0.8400\n",
      "Epoch 27/50\n",
      "42000/42000 [==============================] - 11s 273us/sample - loss: 0.5048 - acc: 0.8444 - val_loss: 0.5431 - val_acc: 0.8370\n",
      "Epoch 28/50\n",
      "42000/42000 [==============================] - 11s 265us/sample - loss: 0.4957 - acc: 0.8485 - val_loss: 0.5021 - val_acc: 0.8517\n",
      "Epoch 29/50\n",
      "42000/42000 [==============================] - 11s 266us/sample - loss: 0.4832 - acc: 0.8537 - val_loss: 0.5110 - val_acc: 0.8468\n",
      "Epoch 30/50\n",
      "42000/42000 [==============================] - 11s 270us/sample - loss: 0.4701 - acc: 0.8564 - val_loss: 0.5122 - val_acc: 0.8466\n",
      "Epoch 31/50\n",
      "42000/42000 [==============================] - 11s 262us/sample - loss: 0.4639 - acc: 0.8573 - val_loss: 0.5069 - val_acc: 0.8472\n",
      "Epoch 32/50\n",
      "42000/42000 [==============================] - 12s 279us/sample - loss: 0.4490 - acc: 0.8616 - val_loss: 0.4791 - val_acc: 0.8576\n",
      "Epoch 33/50\n",
      "42000/42000 [==============================] - 12s 287us/sample - loss: 0.4493 - acc: 0.8612 - val_loss: 0.4835 - val_acc: 0.8556\n",
      "Epoch 34/50\n",
      "42000/42000 [==============================] - 11s 270us/sample - loss: 0.4356 - acc: 0.8668 - val_loss: 0.4717 - val_acc: 0.8596\n",
      "Epoch 35/50\n",
      "42000/42000 [==============================] - 11s 261us/sample - loss: 0.4329 - acc: 0.8668 - val_loss: 0.4726 - val_acc: 0.8598\n",
      "Epoch 36/50\n",
      "42000/42000 [==============================] - 11s 260us/sample - loss: 0.4250 - acc: 0.8695 - val_loss: 0.4660 - val_acc: 0.8627\n",
      "Epoch 37/50\n",
      "42000/42000 [==============================] - 11s 263us/sample - loss: 0.4212 - acc: 0.8693 - val_loss: 0.4711 - val_acc: 0.8594\n",
      "Epoch 38/50\n",
      "42000/42000 [==============================] - 11s 258us/sample - loss: 0.4078 - acc: 0.8752 - val_loss: 0.4520 - val_acc: 0.8653\n",
      "Epoch 39/50\n",
      "42000/42000 [==============================] - 11s 260us/sample - loss: 0.4092 - acc: 0.8733 - val_loss: 0.4512 - val_acc: 0.8671\n",
      "Epoch 40/50\n",
      "42000/42000 [==============================] - 11s 259us/sample - loss: 0.3930 - acc: 0.8795 - val_loss: 0.4452 - val_acc: 0.8684\n",
      "Epoch 41/50\n",
      "42000/42000 [==============================] - 11s 260us/sample - loss: 0.3926 - acc: 0.8786 - val_loss: 0.4458 - val_acc: 0.8693\n",
      "Epoch 42/50\n",
      "42000/42000 [==============================] - 11s 259us/sample - loss: 0.3795 - acc: 0.8823 - val_loss: 0.4100 - val_acc: 0.8817\n",
      "Epoch 43/50\n",
      "42000/42000 [==============================] - 11s 261us/sample - loss: 0.3696 - acc: 0.8844 - val_loss: 0.4257 - val_acc: 0.8737\n",
      "Epoch 44/50\n",
      "42000/42000 [==============================] - 11s 260us/sample - loss: 0.3689 - acc: 0.8858 - val_loss: 0.4716 - val_acc: 0.8593\n",
      "Epoch 45/50\n",
      "42000/42000 [==============================] - 11s 260us/sample - loss: 0.3619 - acc: 0.8878 - val_loss: 0.4206 - val_acc: 0.8754\n",
      "Epoch 46/50\n",
      "42000/42000 [==============================] - 11s 259us/sample - loss: 0.3569 - acc: 0.8879 - val_loss: 0.4343 - val_acc: 0.8725\n",
      "Epoch 47/50\n",
      "42000/42000 [==============================] - 11s 260us/sample - loss: 0.3560 - acc: 0.8894 - val_loss: 0.4018 - val_acc: 0.8830\n",
      "Epoch 48/50\n",
      "42000/42000 [==============================] - 11s 259us/sample - loss: 0.3444 - acc: 0.8932 - val_loss: 0.3941 - val_acc: 0.8868\n",
      "Epoch 49/50\n",
      "42000/42000 [==============================] - 11s 259us/sample - loss: 0.3351 - acc: 0.8958 - val_loss: 0.4087 - val_acc: 0.8807\n",
      "Epoch 50/50\n",
      "42000/42000 [==============================] - 11s 260us/sample - loss: 0.3305 - acc: 0.8957 - val_loss: 0.4193 - val_acc: 0.8772\n"
     ]
    }
   ],
   "source": [
    "history_sgd = mod1b.fit(X_train_reNew, y_train, batch_size = 200, validation_data=(X_val_reNew,y_val), epochs = 50, verbose = 1) #50 epochs with batch size 200."
   ]
  },
  {
   "cell_type": "code",
   "execution_count": 32,
   "metadata": {},
   "outputs": [
    {
     "name": "stdout",
     "output_type": "stream",
     "text": [
      "Model: \"sequential\"\n",
      "_________________________________________________________________\n",
      "Layer (type)                 Output Shape              Param #   \n",
      "=================================================================\n",
      "flatten (Flatten)            multiple                  0         \n",
      "_________________________________________________________________\n",
      "Hidden_Layer_1 (Dense)       multiple                  796425    \n",
      "_________________________________________________________________\n",
      "Hidden_Layer_2 (Dense)       multiple                  604506    \n",
      "_________________________________________________________________\n",
      "Output_Layer (Dense)         multiple                  7780      \n",
      "=================================================================\n",
      "Total params: 1,408,711\n",
      "Trainable params: 1,408,711\n",
      "Non-trainable params: 0\n",
      "_________________________________________________________________\n"
     ]
    }
   ],
   "source": [
    "mod1b.summary()"
   ]
  },
  {
   "cell_type": "code",
   "execution_count": 33,
   "metadata": {},
   "outputs": [
    {
     "name": "stdout",
     "output_type": "stream",
     "text": [
      "18000/18000 [==============================] - 3s 186us/sample - loss: 0.6289 - acc: 0.8317\n"
     ]
    }
   ],
   "source": [
    "res1b = mod1b.evaluate(X_test_reNew, y_test)"
   ]
  },
  {
   "cell_type": "code",
   "execution_count": 34,
   "metadata": {},
   "outputs": [
    {
     "name": "stdout",
     "output_type": "stream",
     "text": [
      "Accuracy\n",
      "18000/18000 [==============================] - 3s 184us/sample - loss: 0.6289 - acc: 0.8317\n",
      "0.8317222\n",
      "[[1475   46    6   26   48    9   47   26   52   79]\n",
      " [  17 1584   18   21   71    4   21   39   37   16]\n",
      " [  10   21 1481   37   47   15   14   82   43   53]\n",
      " [  10   41   40 1325   42  103   24   45   59   30]\n",
      " [   8   40   20   23 1633    7   27   16   17   21]\n",
      " [  13   24   10   75   31 1431   69   12   54   49]\n",
      " [  24   17   13   21   58   48 1535   15   90   11]\n",
      " [  13   65   36   15   20   13   11 1600   11   24]\n",
      " [  18   48   22   37   46   33   95    8 1450   55]\n",
      " [  35   37   24   39   53   42   15   22   80 1457]]\n",
      "              precision    recall  f1-score   support\n",
      "\n",
      "           0       0.81      0.91      0.86      1623\n",
      "           1       0.87      0.82      0.84      1923\n",
      "           2       0.82      0.89      0.85      1670\n",
      "           3       0.77      0.82      0.79      1619\n",
      "           4       0.90      0.80      0.85      2049\n",
      "           5       0.81      0.84      0.82      1705\n",
      "           6       0.84      0.83      0.83      1858\n",
      "           7       0.88      0.86      0.87      1865\n",
      "           8       0.80      0.77      0.78      1893\n",
      "           9       0.81      0.81      0.81      1795\n",
      "\n",
      "    accuracy                           0.83     18000\n",
      "   macro avg       0.83      0.83      0.83     18000\n",
      "weighted avg       0.83      0.83      0.83     18000\n",
      "\n"
     ]
    },
    {
     "data": {
      "text/html": [
       "<div>\n",
       "<style scoped>\n",
       "    .dataframe tbody tr th:only-of-type {\n",
       "        vertical-align: middle;\n",
       "    }\n",
       "\n",
       "    .dataframe tbody tr th {\n",
       "        vertical-align: top;\n",
       "    }\n",
       "\n",
       "    .dataframe thead th {\n",
       "        text-align: right;\n",
       "    }\n",
       "</style>\n",
       "<table border=\"1\" class=\"dataframe\">\n",
       "  <thead>\n",
       "    <tr style=\"text-align: right;\">\n",
       "      <th></th>\n",
       "      <th>Test accuracy</th>\n",
       "      <th>F1 score</th>\n",
       "      <th>ROC AUC score</th>\n",
       "      <th>Total Loss</th>\n",
       "    </tr>\n",
       "  </thead>\n",
       "  <tbody>\n",
       "    <tr>\n",
       "      <th>0</th>\n",
       "      <td>83.172</td>\n",
       "      <td>0.832</td>\n",
       "      <td>0.979</td>\n",
       "      <td>0.679</td>\n",
       "    </tr>\n",
       "  </tbody>\n",
       "</table>\n",
       "</div>"
      ],
      "text/plain": [
       "   Test accuracy  F1 score  ROC AUC score  Total Loss\n",
       "0         83.172     0.832          0.979       0.679"
      ]
     },
     "metadata": {},
     "output_type": "display_data"
    }
   ],
   "source": [
    "Y_pred_cls_2layer = mod1b.predict_classes(X_test_reNew, batch_size=200, verbose=0)\n",
    "\n",
    "print('Accuracy') \n",
    "print( str(mod1b.evaluate(X_test_reNew,y_test)[1]) )\n",
    "\n",
    "label_2layer=np.argmax(y_test.T, axis=0)\n",
    "print(confusion_matrix(label_2layer, Y_pred_cls_2layer))\n",
    "print(classification_report(Y_pred_cls_2layer, label_2layer))\n",
    "\n",
    "#create evaluation dataframe\n",
    "stats_2 = pd.DataFrame({'Test accuracy' :  round(res1b[1]*100,3),\n",
    "                      'F1 score'      : round(f1_score(label_2layer, Y_pred_cls_2layer, average='micro'),3),\n",
    "                      'ROC AUC score' : round(roc_auc_score(y_test, mod1b.predict_proba(X_test_reNew)),3),\n",
    "                      'Total Loss'    : round(res1[0],3)}, index=[0])\n",
    "#print evaluation dataframe\n",
    "display(stats_2)"
   ]
  },
  {
   "cell_type": "code",
   "execution_count": 35,
   "metadata": {},
   "outputs": [
    {
     "data": {
      "image/png": "[encoded data removed]",
      "text/plain": [
       "<Figure size 432x288 with 1 Axes>"
      ]
     },
     "metadata": {
      "needs_background": "light"
     },
     "output_type": "display_data"
    }
   ],
   "source": [
    "#Accuracy Plot\n",
    "plt.plot(history_sgd.history['acc'])\n",
    "plt.plot(history_sgd.history['val_acc'])\n",
    "plt.title('model accuracy')\n",
    "plt.ylabel('accuracy')\n",
    "plt.xlabel('epoch')\n",
    "plt.legend(['train', 'test'], loc='upper left')\n",
    "plt.show()"
   ]
  },
  {
   "cell_type": "code",
   "execution_count": 36,
   "metadata": {
    "scrolled": true
   },
   "outputs": [
    {
     "data": {
      "image/png": "[encoded data removed]",
      "text/plain": [
       "<Figure size 432x288 with 1 Axes>"
      ]
     },
     "metadata": {
      "needs_background": "light"
     },
     "output_type": "display_data"
    }
   ],
   "source": [
    "#loss plot\n",
    "\n",
    "plt.plot(history_sgd.history['loss'])\n",
    "plt.plot(history_sgd.history['val_loss'])\n",
    "plt.title('model loss')\n",
    "plt.ylabel('loss')\n",
    "plt.xlabel('epoch')\n",
    "plt.legend(['train', 'test'], loc='upper left')\n",
    "plt.show()"
   ]
  },
  {
   "cell_type": "code",
   "execution_count": 37,
   "metadata": {},
   "outputs": [
    {
     "data": {
      "text/html": [
       "<div>\n",
       "<style scoped>\n",
       "    .dataframe tbody tr th:only-of-type {\n",
       "        vertical-align: middle;\n",
       "    }\n",
       "\n",
       "    .dataframe tbody tr th {\n",
       "        vertical-align: top;\n",
       "    }\n",
       "\n",
       "    .dataframe thead th {\n",
       "        text-align: right;\n",
       "    }\n",
       "</style>\n",
       "<table border=\"1\" class=\"dataframe\">\n",
       "  <thead>\n",
       "    <tr style=\"text-align: right;\">\n",
       "      <th></th>\n",
       "      <th>Models</th>\n",
       "      <th>loss</th>\n",
       "      <th>Accuracy</th>\n",
       "    </tr>\n",
       "  </thead>\n",
       "  <tbody>\n",
       "    <tr>\n",
       "      <th>1</th>\n",
       "      <td>Adam with one Layer</td>\n",
       "      <td>0.678502</td>\n",
       "      <td>0.809778</td>\n",
       "    </tr>\n",
       "    <tr>\n",
       "      <th>2</th>\n",
       "      <td>Adam with two Layer</td>\n",
       "      <td>0.628856</td>\n",
       "      <td>0.831722</td>\n",
       "    </tr>\n",
       "  </tbody>\n",
       "</table>\n",
       "</div>"
      ],
      "text/plain": [
       "                Models      loss  Accuracy\n",
       "1  Adam with one Layer  0.678502  0.809778\n",
       "2  Adam with two Layer  0.628856  0.831722"
      ]
     },
     "execution_count": 37,
     "metadata": {},
     "output_type": "execute_result"
    }
   ],
   "source": [
    "temp_df = pd.DataFrame({'Models':['Adam with two Layer'],'loss': res1b[0], 'Accuracy': [res1b[1]]},index={'2'})\n",
    "final_df= pd.concat([final_df, temp_df])\n",
    "final_df"
   ]
  },
  {
   "cell_type": "markdown",
   "metadata": {},
   "source": [
    "# Build NN with 4 hidden layer. "
   ]
  },
  {
   "cell_type": "markdown",
   "metadata": {},
   "source": [
    "* 4 hidden layers and activation function as sigmoid \n",
    "* adam optimizer with learning rate as 0.01 is used. \n",
    "* In this step, we use 100 epochs"
   ]
  },
  {
   "cell_type": "code",
   "execution_count": 38,
   "metadata": {},
   "outputs": [],
   "source": [
    "tf.keras.backend.clear_session()\n",
    "mod2 = Sequential()\n",
    "mod2.add(Flatten())\n",
    "mod2.add(Dense(50, input_shape = (1024,), activation='sigmoid', name='Hidden_Layer_1')) # First hidden layer  \n",
    "mod2.add(Dense(50, activation='sigmoid', name='Hidden_Layer_2')) #second hidden layer \n",
    "mod2.add(Dense(50, activation='sigmoid', name='Hidden_Layer_3')) #Third hidden layer  \n",
    "mod2.add(Dense(50, activation='sigmoid', name='Hidden_Layer_4')) #Fourth hidden layer  \n",
    "mod2.add(Dense(10, activation='softmax', name='Output_Layer')) #output layer  "
   ]
  },
  {
   "cell_type": "code",
   "execution_count": 39,
   "metadata": {},
   "outputs": [],
   "source": [
    "adam = optimizers.Adam(lr = 0.001)\n",
    "mod2.compile(optimizer = adam, loss = 'categorical_crossentropy', metrics = ['accuracy'])"
   ]
  },
  {
   "cell_type": "code",
   "execution_count": 40,
   "metadata": {
    "scrolled": false
   },
   "outputs": [
    {
     "name": "stdout",
     "output_type": "stream",
     "text": [
      "Train on 42000 samples, validate on 60000 samples\n",
      "Epoch 1/100\n",
      "42000/42000 [==============================] - 2s 46us/sample - loss: 2.3103 - acc: 0.1005 - val_loss: 2.3048 - val_acc: 0.1000\n",
      "Epoch 2/100\n",
      "42000/42000 [==============================] - 2s 41us/sample - loss: 2.3026 - acc: 0.1070 - val_loss: 2.2950 - val_acc: 0.1274\n",
      "Epoch 3/100\n",
      "42000/42000 [==============================] - 2s 40us/sample - loss: 2.2189 - acc: 0.1392 - val_loss: 2.0692 - val_acc: 0.1884\n",
      "Epoch 4/100\n",
      "42000/42000 [==============================] - 2s 40us/sample - loss: 1.9980 - acc: 0.2103 - val_loss: 1.9995 - val_acc: 0.2115\n",
      "Epoch 5/100\n",
      "42000/42000 [==============================] - 2s 40us/sample - loss: 1.9353 - acc: 0.2376 - val_loss: 1.9065 - val_acc: 0.2430\n",
      "Epoch 6/100\n",
      "42000/42000 [==============================] - 2s 40us/sample - loss: 1.8986 - acc: 0.2503 - val_loss: 1.8881 - val_acc: 0.2569\n",
      "Epoch 7/100\n",
      "42000/42000 [==============================] - 2s 40us/sample - loss: 1.8685 - acc: 0.2633 - val_loss: 1.8571 - val_acc: 0.2665\n",
      "Epoch 8/100\n",
      "42000/42000 [==============================] - 2s 41us/sample - loss: 1.8308 - acc: 0.2745 - val_loss: 1.8035 - val_acc: 0.2837\n",
      "Epoch 9/100\n",
      "42000/42000 [==============================] - 2s 40us/sample - loss: 1.7999 - acc: 0.2935 - val_loss: 1.7819 - val_acc: 0.2988\n",
      "Epoch 10/100\n",
      "42000/42000 [==============================] - 2s 40us/sample - loss: 1.7600 - acc: 0.3259 - val_loss: 1.7444 - val_acc: 0.3461\n",
      "Epoch 11/100\n",
      "42000/42000 [==============================] - 2s 41us/sample - loss: 1.6911 - acc: 0.3870 - val_loss: 1.6442 - val_acc: 0.4084\n",
      "Epoch 12/100\n",
      "42000/42000 [==============================] - 2s 40us/sample - loss: 1.6075 - acc: 0.4263 - val_loss: 1.5725 - val_acc: 0.4372\n",
      "Epoch 13/100\n",
      "42000/42000 [==============================] - 2s 40us/sample - loss: 1.5471 - acc: 0.4544 - val_loss: 1.5272 - val_acc: 0.4505\n",
      "Epoch 14/100\n",
      "42000/42000 [==============================] - 2s 41us/sample - loss: 1.4867 - acc: 0.4851 - val_loss: 1.4490 - val_acc: 0.5013\n",
      "Epoch 15/100\n",
      "42000/42000 [==============================] - 2s 41us/sample - loss: 1.4361 - acc: 0.5110 - val_loss: 1.4054 - val_acc: 0.5243\n",
      "Epoch 16/100\n",
      "42000/42000 [==============================] - 2s 40us/sample - loss: 1.3761 - acc: 0.5362 - val_loss: 1.3403 - val_acc: 0.5528\n",
      "Epoch 17/100\n",
      "42000/42000 [==============================] - 2s 41us/sample - loss: 1.3382 - acc: 0.5513 - val_loss: 1.2934 - val_acc: 0.5690\n",
      "Epoch 18/100\n",
      "42000/42000 [==============================] - 2s 40us/sample - loss: 1.2959 - acc: 0.5669 - val_loss: 1.3074 - val_acc: 0.5623\n",
      "Epoch 19/100\n",
      "42000/42000 [==============================] - 2s 41us/sample - loss: 1.2682 - acc: 0.5773 - val_loss: 1.2491 - val_acc: 0.5839\n",
      "Epoch 20/100\n",
      "42000/42000 [==============================] - 2s 43us/sample - loss: 1.2366 - acc: 0.5897 - val_loss: 1.2316 - val_acc: 0.5908\n",
      "Epoch 21/100\n",
      "42000/42000 [==============================] - 2s 47us/sample - loss: 1.2127 - acc: 0.5984 - val_loss: 1.2075 - val_acc: 0.5979\n",
      "Epoch 22/100\n",
      "42000/42000 [==============================] - 2s 44us/sample - loss: 1.1790 - acc: 0.6104 - val_loss: 1.1859 - val_acc: 0.6085\n",
      "Epoch 23/100\n",
      "42000/42000 [==============================] - 2s 41us/sample - loss: 1.1680 - acc: 0.6162 - val_loss: 1.1431 - val_acc: 0.6278\n",
      "Epoch 24/100\n",
      "42000/42000 [==============================] - 2s 41us/sample - loss: 1.1410 - acc: 0.6259 - val_loss: 1.1332 - val_acc: 0.6291\n",
      "Epoch 25/100\n",
      "42000/42000 [==============================] - 2s 40us/sample - loss: 1.1315 - acc: 0.6271 - val_loss: 1.1067 - val_acc: 0.6403\n",
      "Epoch 26/100\n",
      "42000/42000 [==============================] - 2s 41us/sample - loss: 1.1082 - acc: 0.6351 - val_loss: 1.1192 - val_acc: 0.6314\n",
      "Epoch 27/100\n",
      "42000/42000 [==============================] - 2s 40us/sample - loss: 1.0937 - acc: 0.6405 - val_loss: 1.1139 - val_acc: 0.6324\n",
      "Epoch 28/100\n",
      "42000/42000 [==============================] - 2s 40us/sample - loss: 1.0853 - acc: 0.6440 - val_loss: 1.0855 - val_acc: 0.6431\n",
      "Epoch 29/100\n",
      "42000/42000 [==============================] - 2s 40us/sample - loss: 1.0662 - acc: 0.6510 - val_loss: 1.0574 - val_acc: 0.6535\n",
      "Epoch 30/100\n",
      "42000/42000 [==============================] - 2s 40us/sample - loss: 1.0490 - acc: 0.6577 - val_loss: 1.0777 - val_acc: 0.6469\n",
      "Epoch 31/100\n",
      "42000/42000 [==============================] - 2s 41us/sample - loss: 1.0366 - acc: 0.6616 - val_loss: 1.0262 - val_acc: 0.6698\n",
      "Epoch 32/100\n",
      "42000/42000 [==============================] - 2s 41us/sample - loss: 1.0263 - acc: 0.6647 - val_loss: 1.0071 - val_acc: 0.6759\n",
      "Epoch 33/100\n",
      "42000/42000 [==============================] - 2s 40us/sample - loss: 1.0250 - acc: 0.6661 - val_loss: 1.0042 - val_acc: 0.6779\n",
      "Epoch 34/100\n",
      "42000/42000 [==============================] - 2s 40us/sample - loss: 1.0041 - acc: 0.6742 - val_loss: 1.0117 - val_acc: 0.6720\n",
      "Epoch 35/100\n",
      "42000/42000 [==============================] - 2s 40us/sample - loss: 0.9935 - acc: 0.6790 - val_loss: 0.9879 - val_acc: 0.6827\n",
      "Epoch 36/100\n",
      "42000/42000 [==============================] - 2s 40us/sample - loss: 0.9818 - acc: 0.6814 - val_loss: 0.9689 - val_acc: 0.6865\n",
      "Epoch 37/100\n",
      "42000/42000 [==============================] - 2s 40us/sample - loss: 0.9703 - acc: 0.6853 - val_loss: 1.0101 - val_acc: 0.6698\n",
      "Epoch 38/100\n",
      "42000/42000 [==============================] - 2s 41us/sample - loss: 0.9700 - acc: 0.6851 - val_loss: 0.9697 - val_acc: 0.6817\n",
      "Epoch 39/100\n",
      "42000/42000 [==============================] - 2s 40us/sample - loss: 0.9586 - acc: 0.6893 - val_loss: 0.9557 - val_acc: 0.6887\n",
      "Epoch 40/100\n",
      "42000/42000 [==============================] - 2s 41us/sample - loss: 0.9367 - acc: 0.6983 - val_loss: 0.9596 - val_acc: 0.6896\n",
      "Epoch 41/100\n",
      "42000/42000 [==============================] - 2s 40us/sample - loss: 0.9311 - acc: 0.7006 - val_loss: 0.9341 - val_acc: 0.6997\n",
      "Epoch 42/100\n",
      "42000/42000 [==============================] - 2s 40us/sample - loss: 0.9238 - acc: 0.7023 - val_loss: 0.9220 - val_acc: 0.7041\n",
      "Epoch 43/100\n",
      "42000/42000 [==============================] - 2s 40us/sample - loss: 0.9152 - acc: 0.7046 - val_loss: 0.9400 - val_acc: 0.6922\n",
      "Epoch 44/100\n",
      "42000/42000 [==============================] - 2s 41us/sample - loss: 0.9095 - acc: 0.7075 - val_loss: 0.8988 - val_acc: 0.7143\n",
      "Epoch 45/100\n",
      "42000/42000 [==============================] - 2s 41us/sample - loss: 0.9019 - acc: 0.7110 - val_loss: 0.9443 - val_acc: 0.6924\n",
      "Epoch 46/100\n",
      "42000/42000 [==============================] - 2s 41us/sample - loss: 0.8959 - acc: 0.7124 - val_loss: 0.8890 - val_acc: 0.7166\n",
      "Epoch 47/100\n",
      "42000/42000 [==============================] - 2s 40us/sample - loss: 0.8876 - acc: 0.7163 - val_loss: 0.8967 - val_acc: 0.7139\n",
      "Epoch 48/100\n",
      "42000/42000 [==============================] - 2s 41us/sample - loss: 0.8755 - acc: 0.7202 - val_loss: 0.8859 - val_acc: 0.7198\n",
      "Epoch 49/100\n",
      "42000/42000 [==============================] - 2s 40us/sample - loss: 0.8654 - acc: 0.7234 - val_loss: 0.8726 - val_acc: 0.7216\n",
      "Epoch 50/100\n",
      "42000/42000 [==============================] - 2s 41us/sample - loss: 0.8621 - acc: 0.7245 - val_loss: 0.8861 - val_acc: 0.7148\n",
      "Epoch 51/100\n",
      "42000/42000 [==============================] - 2s 41us/sample - loss: 0.8618 - acc: 0.7254 - val_loss: 0.8933 - val_acc: 0.7150\n",
      "Epoch 52/100\n",
      "42000/42000 [==============================] - 2s 41us/sample - loss: 0.8564 - acc: 0.7249 - val_loss: 0.8665 - val_acc: 0.7247\n",
      "Epoch 53/100\n",
      "42000/42000 [==============================] - 2s 41us/sample - loss: 0.8515 - acc: 0.7305 - val_loss: 0.8590 - val_acc: 0.7254\n",
      "Epoch 54/100\n",
      "42000/42000 [==============================] - 2s 40us/sample - loss: 0.8465 - acc: 0.7281 - val_loss: 0.8444 - val_acc: 0.7312\n",
      "Epoch 55/100\n",
      "42000/42000 [==============================] - 2s 41us/sample - loss: 0.8389 - acc: 0.7302 - val_loss: 0.8470 - val_acc: 0.7319\n",
      "Epoch 56/100\n",
      "42000/42000 [==============================] - 2s 40us/sample - loss: 0.8311 - acc: 0.7347 - val_loss: 0.8594 - val_acc: 0.7271\n",
      "Epoch 57/100\n",
      "42000/42000 [==============================] - 2s 41us/sample - loss: 0.8311 - acc: 0.7352 - val_loss: 0.8699 - val_acc: 0.7203\n",
      "Epoch 58/100\n",
      "42000/42000 [==============================] - 2s 40us/sample - loss: 0.8270 - acc: 0.7363 - val_loss: 0.8368 - val_acc: 0.7317\n",
      "Epoch 59/100\n",
      "42000/42000 [==============================] - 2s 40us/sample - loss: 0.8230 - acc: 0.7384 - val_loss: 0.8287 - val_acc: 0.7390\n",
      "Epoch 60/100\n",
      "42000/42000 [==============================] - 2s 40us/sample - loss: 0.8201 - acc: 0.7392 - val_loss: 0.8865 - val_acc: 0.7109\n",
      "Epoch 61/100\n",
      "42000/42000 [==============================] - 2s 40us/sample - loss: 0.8205 - acc: 0.7366 - val_loss: 0.8828 - val_acc: 0.7149\n",
      "Epoch 62/100\n",
      "42000/42000 [==============================] - 2s 40us/sample - loss: 0.8199 - acc: 0.7379 - val_loss: 0.8443 - val_acc: 0.7297\n",
      "Epoch 63/100\n",
      "42000/42000 [==============================] - 2s 40us/sample - loss: 0.8155 - acc: 0.7395 - val_loss: 0.8199 - val_acc: 0.7406\n",
      "Epoch 64/100\n",
      "42000/42000 [==============================] - 2s 41us/sample - loss: 0.8003 - acc: 0.7467 - val_loss: 0.8297 - val_acc: 0.7352\n",
      "Epoch 65/100\n",
      "42000/42000 [==============================] - 2s 40us/sample - loss: 0.8126 - acc: 0.7405 - val_loss: 0.8130 - val_acc: 0.7448\n",
      "Epoch 66/100\n",
      "42000/42000 [==============================] - 2s 41us/sample - loss: 0.8019 - acc: 0.7453 - val_loss: 0.8328 - val_acc: 0.7326\n",
      "Epoch 67/100\n",
      "42000/42000 [==============================] - 2s 40us/sample - loss: 0.7921 - acc: 0.7498 - val_loss: 0.8474 - val_acc: 0.7265\n",
      "Epoch 68/100\n",
      "42000/42000 [==============================] - 2s 41us/sample - loss: 0.8003 - acc: 0.7462 - val_loss: 0.8167 - val_acc: 0.7390\n",
      "Epoch 69/100\n",
      "42000/42000 [==============================] - 2s 40us/sample - loss: 0.7959 - acc: 0.7478 - val_loss: 0.8040 - val_acc: 0.7475\n",
      "Epoch 70/100\n",
      "42000/42000 [==============================] - 2s 40us/sample - loss: 0.8037 - acc: 0.7439 - val_loss: 0.8263 - val_acc: 0.7338\n",
      "Epoch 71/100\n",
      "42000/42000 [==============================] - 2s 40us/sample - loss: 0.7920 - acc: 0.7471 - val_loss: 0.8163 - val_acc: 0.7414\n",
      "Epoch 72/100\n",
      "42000/42000 [==============================] - 2s 40us/sample - loss: 0.7809 - acc: 0.7538 - val_loss: 0.8023 - val_acc: 0.7457\n",
      "Epoch 73/100\n",
      "42000/42000 [==============================] - 2s 41us/sample - loss: 0.7768 - acc: 0.7553 - val_loss: 0.7854 - val_acc: 0.7514\n",
      "Epoch 74/100\n",
      "42000/42000 [==============================] - 2s 40us/sample - loss: 0.7735 - acc: 0.7543 - val_loss: 0.7965 - val_acc: 0.7469\n",
      "Epoch 75/100\n",
      "42000/42000 [==============================] - 2s 40us/sample - loss: 0.7711 - acc: 0.7552 - val_loss: 0.7741 - val_acc: 0.7584\n",
      "Epoch 76/100\n",
      "42000/42000 [==============================] - 2s 41us/sample - loss: 0.7789 - acc: 0.7532 - val_loss: 0.7747 - val_acc: 0.7592\n",
      "Epoch 77/100\n",
      "42000/42000 [==============================] - 2s 41us/sample - loss: 0.7749 - acc: 0.7551 - val_loss: 0.8650 - val_acc: 0.7163\n",
      "Epoch 78/100\n",
      "42000/42000 [==============================] - 2s 41us/sample - loss: 0.7735 - acc: 0.7526 - val_loss: 0.8165 - val_acc: 0.7374\n",
      "Epoch 79/100\n",
      "42000/42000 [==============================] - 2s 41us/sample - loss: 0.7643 - acc: 0.7583 - val_loss: 0.7942 - val_acc: 0.7506\n",
      "Epoch 80/100\n",
      "42000/42000 [==============================] - 2s 41us/sample - loss: 0.7618 - acc: 0.7607 - val_loss: 0.7901 - val_acc: 0.7506\n",
      "Epoch 81/100\n",
      "42000/42000 [==============================] - 2s 41us/sample - loss: 0.7631 - acc: 0.7570 - val_loss: 0.8073 - val_acc: 0.7430\n",
      "Epoch 82/100\n",
      "42000/42000 [==============================] - 2s 41us/sample - loss: 0.7599 - acc: 0.7615 - val_loss: 0.7733 - val_acc: 0.7563\n",
      "Epoch 83/100\n",
      "42000/42000 [==============================] - 2s 41us/sample - loss: 0.7562 - acc: 0.7598 - val_loss: 0.7756 - val_acc: 0.7557\n",
      "Epoch 84/100\n",
      "42000/42000 [==============================] - 2s 41us/sample - loss: 0.7571 - acc: 0.7591 - val_loss: 0.7611 - val_acc: 0.7638\n",
      "Epoch 85/100\n",
      "42000/42000 [==============================] - 2s 40us/sample - loss: 0.7543 - acc: 0.7619 - val_loss: 0.7886 - val_acc: 0.7505\n",
      "Epoch 86/100\n",
      "42000/42000 [==============================] - 2s 41us/sample - loss: 0.7548 - acc: 0.7609 - val_loss: 0.7610 - val_acc: 0.7621\n",
      "Epoch 87/100\n",
      "42000/42000 [==============================] - 2s 40us/sample - loss: 0.7531 - acc: 0.7603 - val_loss: 0.7561 - val_acc: 0.7634\n",
      "Epoch 88/100\n",
      "42000/42000 [==============================] - 2s 40us/sample - loss: 0.7508 - acc: 0.7645 - val_loss: 0.7569 - val_acc: 0.7642\n",
      "Epoch 89/100\n",
      "42000/42000 [==============================] - 2s 41us/sample - loss: 0.7458 - acc: 0.7636 - val_loss: 0.7713 - val_acc: 0.7566\n",
      "Epoch 90/100\n",
      "42000/42000 [==============================] - 2s 41us/sample - loss: 0.7478 - acc: 0.7625 - val_loss: 0.7583 - val_acc: 0.7635\n",
      "Epoch 91/100\n",
      "42000/42000 [==============================] - 2s 40us/sample - loss: 0.7410 - acc: 0.7653 - val_loss: 0.7945 - val_acc: 0.7469\n",
      "Epoch 92/100\n",
      "42000/42000 [==============================] - 2s 40us/sample - loss: 0.7417 - acc: 0.7647 - val_loss: 0.7556 - val_acc: 0.7646\n",
      "Epoch 93/100\n",
      "42000/42000 [==============================] - 2s 40us/sample - loss: 0.7433 - acc: 0.7648 - val_loss: 0.7490 - val_acc: 0.7682\n",
      "Epoch 94/100\n",
      "42000/42000 [==============================] - 2s 40us/sample - loss: 0.7331 - acc: 0.7695 - val_loss: 0.7533 - val_acc: 0.7637\n",
      "Epoch 95/100\n",
      "42000/42000 [==============================] - 2s 41us/sample - loss: 0.7272 - acc: 0.7712 - val_loss: 0.8015 - val_acc: 0.7460\n",
      "Epoch 96/100\n",
      "42000/42000 [==============================] - 2s 41us/sample - loss: 0.7297 - acc: 0.7696 - val_loss: 0.7555 - val_acc: 0.7626\n",
      "Epoch 97/100\n",
      "42000/42000 [==============================] - 2s 41us/sample - loss: 0.7323 - acc: 0.7694 - val_loss: 0.7647 - val_acc: 0.7610\n",
      "Epoch 98/100\n",
      "42000/42000 [==============================] - 2s 40us/sample - loss: 0.7273 - acc: 0.7687 - val_loss: 0.7603 - val_acc: 0.7611\n",
      "Epoch 99/100\n",
      "42000/42000 [==============================] - 2s 40us/sample - loss: 0.7272 - acc: 0.7716 - val_loss: 0.7483 - val_acc: 0.7655\n",
      "Epoch 100/100\n",
      "42000/42000 [==============================] - 2s 41us/sample - loss: 0.7264 - acc: 0.7698 - val_loss: 0.7659 - val_acc: 0.7573\n"
     ]
    }
   ],
   "source": [
    "history_4L_adm = mod2.fit(X_train_reNew, y_train, batch_size = 200, validation_data=(X_val_reNew,y_val), epochs = 100, verbose = 1)"
   ]
  },
  {
   "cell_type": "code",
   "execution_count": 41,
   "metadata": {
    "scrolled": true
   },
   "outputs": [
    {
     "name": "stdout",
     "output_type": "stream",
     "text": [
      "Model: \"sequential\"\n",
      "_________________________________________________________________\n",
      "Layer (type)                 Output Shape              Param #   \n",
      "=================================================================\n",
      "flatten (Flatten)            multiple                  0         \n",
      "_________________________________________________________________\n",
      "Hidden_Layer_1 (Dense)       multiple                  51250     \n",
      "_________________________________________________________________\n",
      "Hidden_Layer_2 (Dense)       multiple                  2550      \n",
      "_________________________________________________________________\n",
      "Hidden_Layer_3 (Dense)       multiple                  2550      \n",
      "_________________________________________________________________\n",
      "Hidden_Layer_4 (Dense)       multiple                  2550      \n",
      "_________________________________________________________________\n",
      "Output_Layer (Dense)         multiple                  510       \n",
      "=================================================================\n",
      "Total params: 59,410\n",
      "Trainable params: 59,410\n",
      "Non-trainable params: 0\n",
      "_________________________________________________________________\n"
     ]
    }
   ],
   "source": [
    "mod2.summary()"
   ]
  },
  {
   "cell_type": "code",
   "execution_count": 42,
   "metadata": {},
   "outputs": [
    {
     "name": "stdout",
     "output_type": "stream",
     "text": [
      "18000/18000 [==============================] - 1s 39us/sample - loss: 0.8589 - acc: 0.7301\n"
     ]
    }
   ],
   "source": [
    "res2 = mod2.evaluate(X_test_reNew, y_test)"
   ]
  },
  {
   "cell_type": "code",
   "execution_count": 43,
   "metadata": {},
   "outputs": [
    {
     "name": "stdout",
     "output_type": "stream",
     "text": [
      "Accuracy\n",
      "18000/18000 [==============================] - 1s 37us/sample - loss: 0.8589 - acc: 0.7301\n",
      "0.7301111\n",
      "[[1462   17   25   18   46    6   89    8   74   69]\n",
      " [  36 1372   12   65  184   31   16   42   49   21]\n",
      " [  62   63 1251   86   31   11    4   94   37  164]\n",
      " [  14   52   27 1164   24  270    8   17   78   65]\n",
      " [  40   69   15   21 1435   47  112    4   56   13]\n",
      " [  13   21   11  107   31 1302   87    2  174   20]\n",
      " [  39   21    4   15   88   84 1427    5  136   13]\n",
      " [  46  161  151   66   24    9    6 1296   34   15]\n",
      " [  47   18    9   43   39  144  166    4 1266   76]\n",
      " [ 124   33   37   65   30   50   21   10  267 1167]]\n",
      "              precision    recall  f1-score   support\n",
      "\n",
      "           0       0.81      0.78      0.79      1883\n",
      "           1       0.75      0.75      0.75      1827\n",
      "           2       0.69      0.81      0.75      1542\n",
      "           3       0.68      0.71      0.69      1650\n",
      "           4       0.79      0.74      0.77      1932\n",
      "           5       0.74      0.67      0.70      1954\n",
      "           6       0.78      0.74      0.76      1936\n",
      "           7       0.72      0.87      0.79      1482\n",
      "           8       0.70      0.58      0.64      2171\n",
      "           9       0.65      0.72      0.68      1623\n",
      "\n",
      "    accuracy                           0.73     18000\n",
      "   macro avg       0.73      0.74      0.73     18000\n",
      "weighted avg       0.73      0.73      0.73     18000\n",
      "\n"
     ]
    },
    {
     "data": {
      "text/html": [
       "<div>\n",
       "<style scoped>\n",
       "    .dataframe tbody tr th:only-of-type {\n",
       "        vertical-align: middle;\n",
       "    }\n",
       "\n",
       "    .dataframe tbody tr th {\n",
       "        vertical-align: top;\n",
       "    }\n",
       "\n",
       "    .dataframe thead th {\n",
       "        text-align: right;\n",
       "    }\n",
       "</style>\n",
       "<table border=\"1\" class=\"dataframe\">\n",
       "  <thead>\n",
       "    <tr style=\"text-align: right;\">\n",
       "      <th></th>\n",
       "      <th>Test accuracy</th>\n",
       "      <th>F1 score</th>\n",
       "      <th>ROC AUC score</th>\n",
       "      <th>Total Loss</th>\n",
       "    </tr>\n",
       "  </thead>\n",
       "  <tbody>\n",
       "    <tr>\n",
       "      <th>0</th>\n",
       "      <td>73.011</td>\n",
       "      <td>0.73</td>\n",
       "      <td>0.956</td>\n",
       "      <td>0.859</td>\n",
       "    </tr>\n",
       "  </tbody>\n",
       "</table>\n",
       "</div>"
      ],
      "text/plain": [
       "   Test accuracy  F1 score  ROC AUC score  Total Loss\n",
       "0         73.011      0.73          0.956       0.859"
      ]
     },
     "metadata": {},
     "output_type": "display_data"
    }
   ],
   "source": [
    "Y_pred_cls_4layer = mod2.predict_classes(X_test_reNew, batch_size=200, verbose=0)\n",
    "\n",
    "print('Accuracy') \n",
    "print( str(mod2.evaluate(X_test_reNew,y_test)[1]) )\n",
    "\n",
    "label_4layer=np.argmax(y_test.T, axis=0)\n",
    "print(confusion_matrix(label_4layer, Y_pred_cls_4layer))\n",
    "print(classification_report(Y_pred_cls_4layer, label_4layer))\n",
    "\n",
    "#create evaluation dataframe\n",
    "stats_3 = pd.DataFrame({'Test accuracy' :  round(res2[1]*100,3),\n",
    "                      'F1 score'      : round(f1_score(label_4layer, Y_pred_cls_4layer, average='micro'),3),\n",
    "                      'ROC AUC score' : round(roc_auc_score(y_test, mod2.predict_proba(X_test_reNew)),3),\n",
    "                      'Total Loss'    : round(res2[0],3)}, index=[0])\n",
    "#print evaluation dataframe\n",
    "display(stats_3)"
   ]
  },
  {
   "cell_type": "code",
   "execution_count": 44,
   "metadata": {},
   "outputs": [
    {
     "data": {
      "image/png": "[encoded data removed]",
      "text/plain": [
       "<Figure size 432x288 with 1 Axes>"
      ]
     },
     "metadata": {
      "needs_background": "light"
     },
     "output_type": "display_data"
    }
   ],
   "source": [
    "#Accuracy plot\n",
    "plt.plot(history_4L_adm.history['acc'])\n",
    "plt.plot(history_4L_adm.history['val_acc'])\n",
    "plt.title('model accuracy')\n",
    "plt.ylabel('accuracy')\n",
    "plt.xlabel('epoch')\n",
    "plt.legend(['train', 'test'], loc='upper left')\n",
    "plt.show()"
   ]
  },
  {
   "cell_type": "code",
   "execution_count": 45,
   "metadata": {},
   "outputs": [
    {
     "data": {
      "image/png": "[encoded data removed]",
      "text/plain": [
       "<Figure size 432x288 with 1 Axes>"
      ]
     },
     "metadata": {
      "needs_background": "light"
     },
     "output_type": "display_data"
    }
   ],
   "source": [
    "#Loss Plot\n",
    "plt.plot(history_4L_adm.history['loss'])\n",
    "plt.plot(history_4L_adm.history['val_loss'])\n",
    "plt.title('model loss')\n",
    "plt.ylabel('loss')\n",
    "plt.xlabel('epoch')\n",
    "plt.legend(['train', 'test'], loc='upper left')\n",
    "plt.show()"
   ]
  },
  {
   "cell_type": "code",
   "execution_count": 46,
   "metadata": {},
   "outputs": [
    {
     "data": {
      "text/html": [
       "<div>\n",
       "<style scoped>\n",
       "    .dataframe tbody tr th:only-of-type {\n",
       "        vertical-align: middle;\n",
       "    }\n",
       "\n",
       "    .dataframe tbody tr th {\n",
       "        vertical-align: top;\n",
       "    }\n",
       "\n",
       "    .dataframe thead th {\n",
       "        text-align: right;\n",
       "    }\n",
       "</style>\n",
       "<table border=\"1\" class=\"dataframe\">\n",
       "  <thead>\n",
       "    <tr style=\"text-align: right;\">\n",
       "      <th></th>\n",
       "      <th>Models</th>\n",
       "      <th>loss</th>\n",
       "      <th>Accuracy</th>\n",
       "    </tr>\n",
       "  </thead>\n",
       "  <tbody>\n",
       "    <tr>\n",
       "      <th>1</th>\n",
       "      <td>Adam with one Layer</td>\n",
       "      <td>0.678502</td>\n",
       "      <td>0.809778</td>\n",
       "    </tr>\n",
       "    <tr>\n",
       "      <th>2</th>\n",
       "      <td>Adam with two Layer</td>\n",
       "      <td>0.628856</td>\n",
       "      <td>0.831722</td>\n",
       "    </tr>\n",
       "    <tr>\n",
       "      <th>3</th>\n",
       "      <td>adam with 4 Layers</td>\n",
       "      <td>0.858889</td>\n",
       "      <td>0.730111</td>\n",
       "    </tr>\n",
       "  </tbody>\n",
       "</table>\n",
       "</div>"
      ],
      "text/plain": [
       "                Models      loss  Accuracy\n",
       "1  Adam with one Layer  0.678502  0.809778\n",
       "2  Adam with two Layer  0.628856  0.831722\n",
       "3   adam with 4 Layers  0.858889  0.730111"
      ]
     },
     "execution_count": 46,
     "metadata": {},
     "output_type": "execute_result"
    }
   ],
   "source": [
    "temp_df = pd.DataFrame({'Models':['adam with 4 Layers'],'loss': res2[0], 'Accuracy': [res2[1]]},index={'3'})\n",
    "final_df= pd.concat([final_df, temp_df])\n",
    "final_df"
   ]
  },
  {
   "cell_type": "markdown",
   "metadata": {},
   "source": [
    "* Accuracy level has increased when the model is build with 4 hidden layers, activation function as sigmoid, \n",
    "adam optimizer with learning rate as 0.01, and with 100 epochs. "
   ]
  },
  {
   "cell_type": "markdown",
   "metadata": {},
   "source": [
    "###  Weight Initialization\n"
   ]
  },
  {
   "cell_type": "markdown",
   "metadata": {},
   "source": [
    "Weight initialization scheme can significantly improve training of the model by preventing vanishing gradient problem up to some degree"
   ]
  },
  {
   "cell_type": "code",
   "execution_count": 47,
   "metadata": {},
   "outputs": [],
   "source": [
    "def mlp_model():\n",
    "    model = Sequential()\n",
    "    model.add(Flatten())\n",
    "    model.add(Dense(50, input_shape = (1024, ), kernel_initializer='uniform'))     # use uniform initializer\n",
    "    model.add(Activation('sigmoid'))    \n",
    "    model.add(Dense(50, kernel_initializer='uniform'))                            # use uniform initializer\n",
    "    model.add(Activation('sigmoid'))    \n",
    "    model.add(Dense(50, kernel_initializer='uniform'))                            # use uniform initializer\n",
    "    model.add(Activation('sigmoid'))    \n",
    "    model.add(Dense(50, kernel_initializer='uniform'))                            # use uniform initializer\n",
    "    model.add(Activation('sigmoid'))    \n",
    "    model.add(Dense(10, kernel_initializer='uniform'))                            # use uniform initializer\n",
    "    model.add(Activation('softmax'))\n",
    "    \n",
    "    adam = optimizers.Adam(lr = 0.001)\n",
    "    model.compile(optimizer = adam, loss = 'categorical_crossentropy', metrics = ['accuracy'])\n",
    "    \n",
    "    return model"
   ]
  },
  {
   "cell_type": "code",
   "execution_count": 48,
   "metadata": {
    "scrolled": false
   },
   "outputs": [
    {
     "name": "stdout",
     "output_type": "stream",
     "text": [
      "Train on 42000 samples, validate on 60000 samples\n",
      "Epoch 1/100\n",
      "42000/42000 [==============================] - 2s 52us/sample - loss: 2.3043 - acc: 0.0993 - val_loss: 2.3039 - val_acc: 0.1000\n",
      "Epoch 2/100\n",
      "42000/42000 [==============================] - 2s 42us/sample - loss: 2.3037 - acc: 0.0997 - val_loss: 2.3032 - val_acc: 0.1000\n",
      "Epoch 3/100\n",
      "42000/42000 [==============================] - 2s 42us/sample - loss: 2.3033 - acc: 0.0992 - val_loss: 2.3026 - val_acc: 0.1000\n",
      "Epoch 4/100\n",
      "42000/42000 [==============================] - 2s 42us/sample - loss: 2.3030 - acc: 0.0993 - val_loss: 2.3027 - val_acc: 0.1000\n",
      "Epoch 5/100\n",
      "42000/42000 [==============================] - 2s 42us/sample - loss: 2.3029 - acc: 0.0990 - val_loss: 2.3026 - val_acc: 0.1000\n",
      "Epoch 6/100\n",
      "42000/42000 [==============================] - 2s 42us/sample - loss: 2.3028 - acc: 0.1008 - val_loss: 2.3027 - val_acc: 0.1000\n",
      "Epoch 7/100\n",
      "42000/42000 [==============================] - 2s 41us/sample - loss: 2.3027 - acc: 0.1013 - val_loss: 2.3027 - val_acc: 0.1000\n",
      "Epoch 8/100\n",
      "42000/42000 [==============================] - 2s 42us/sample - loss: 2.3028 - acc: 0.0986 - val_loss: 2.3027 - val_acc: 0.1000\n",
      "Epoch 9/100\n",
      "42000/42000 [==============================] - 2s 42us/sample - loss: 2.3027 - acc: 0.1010 - val_loss: 2.3026 - val_acc: 0.1000\n",
      "Epoch 10/100\n",
      "42000/42000 [==============================] - 2s 41us/sample - loss: 2.3027 - acc: 0.1004 - val_loss: 2.3026 - val_acc: 0.1000\n",
      "Epoch 11/100\n",
      "42000/42000 [==============================] - 2s 42us/sample - loss: 2.3027 - acc: 0.1006 - val_loss: 2.3026 - val_acc: 0.1000\n",
      "Epoch 12/100\n",
      "42000/42000 [==============================] - 2s 41us/sample - loss: 2.3027 - acc: 0.1019 - val_loss: 2.3026 - val_acc: 0.1000\n",
      "Epoch 13/100\n",
      "42000/42000 [==============================] - 2s 42us/sample - loss: 2.3027 - acc: 0.1015 - val_loss: 2.3026 - val_acc: 0.1000\n",
      "Epoch 14/100\n",
      "42000/42000 [==============================] - 2s 42us/sample - loss: 2.3027 - acc: 0.0996 - val_loss: 2.3026 - val_acc: 0.1000\n",
      "Epoch 15/100\n",
      "42000/42000 [==============================] - 2s 42us/sample - loss: 2.3027 - acc: 0.1019 - val_loss: 2.3026 - val_acc: 0.1000\n",
      "Epoch 16/100\n",
      "42000/42000 [==============================] - 2s 43us/sample - loss: 2.3027 - acc: 0.0995 - val_loss: 2.3026 - val_acc: 0.1000\n",
      "Epoch 17/100\n",
      "42000/42000 [==============================] - 2s 42us/sample - loss: 2.3027 - acc: 0.1018 - val_loss: 2.3026 - val_acc: 0.1000\n",
      "Epoch 18/100\n",
      "42000/42000 [==============================] - 2s 42us/sample - loss: 2.3026 - acc: 0.1019 - val_loss: 2.3026 - val_acc: 0.1000\n",
      "Epoch 19/100\n",
      "42000/42000 [==============================] - 2s 42us/sample - loss: 2.3027 - acc: 0.1015 - val_loss: 2.3026 - val_acc: 0.1000\n",
      "Epoch 20/100\n",
      "42000/42000 [==============================] - 2s 41us/sample - loss: 2.3027 - acc: 0.1013 - val_loss: 2.3026 - val_acc: 0.1000\n",
      "Epoch 21/100\n",
      "42000/42000 [==============================] - 2s 41us/sample - loss: 2.3027 - acc: 0.1014 - val_loss: 2.3026 - val_acc: 0.1000\n",
      "Epoch 22/100\n",
      "42000/42000 [==============================] - 2s 42us/sample - loss: 2.3027 - acc: 0.1019 - val_loss: 2.3026 - val_acc: 0.1000\n",
      "Epoch 23/100\n",
      "42000/42000 [==============================] - 2s 42us/sample - loss: 2.3027 - acc: 0.1019 - val_loss: 2.3026 - val_acc: 0.1000\n",
      "Epoch 24/100\n",
      "42000/42000 [==============================] - 2s 42us/sample - loss: 2.3027 - acc: 0.0970 - val_loss: 2.3026 - val_acc: 0.1000\n",
      "Epoch 25/100\n",
      "42000/42000 [==============================] - 2s 43us/sample - loss: 2.3027 - acc: 0.1019 - val_loss: 2.3026 - val_acc: 0.1000\n",
      "Epoch 26/100\n",
      "42000/42000 [==============================] - 2s 42us/sample - loss: 2.3027 - acc: 0.1019 - val_loss: 2.3026 - val_acc: 0.1000\n",
      "Epoch 27/100\n",
      "42000/42000 [==============================] - 2s 41us/sample - loss: 2.3027 - acc: 0.1019 - val_loss: 2.3026 - val_acc: 0.1000\n",
      "Epoch 28/100\n",
      "42000/42000 [==============================] - 2s 42us/sample - loss: 2.3027 - acc: 0.1008 - val_loss: 2.3026 - val_acc: 0.1000\n",
      "Epoch 29/100\n",
      "42000/42000 [==============================] - 2s 42us/sample - loss: 2.3027 - acc: 0.1019 - val_loss: 2.3026 - val_acc: 0.1000\n",
      "Epoch 30/100\n",
      "42000/42000 [==============================] - 2s 42us/sample - loss: 2.3026 - acc: 0.1016 - val_loss: 2.3026 - val_acc: 0.1000\n",
      "Epoch 31/100\n",
      "42000/42000 [==============================] - 2s 42us/sample - loss: 2.3027 - acc: 0.1014 - val_loss: 2.3026 - val_acc: 0.1000\n",
      "Epoch 32/100\n",
      "42000/42000 [==============================] - 2s 42us/sample - loss: 2.3026 - acc: 0.1003 - val_loss: 2.3026 - val_acc: 0.1000\n",
      "Epoch 33/100\n",
      "42000/42000 [==============================] - 2s 42us/sample - loss: 2.3027 - acc: 0.0999 - val_loss: 2.3026 - val_acc: 0.1000\n",
      "Epoch 34/100\n",
      "42000/42000 [==============================] - 2s 42us/sample - loss: 2.3026 - acc: 0.1019 - val_loss: 2.3026 - val_acc: 0.1000\n",
      "Epoch 35/100\n",
      "42000/42000 [==============================] - 2s 42us/sample - loss: 2.3026 - acc: 0.1007 - val_loss: 2.3026 - val_acc: 0.1000\n",
      "Epoch 36/100\n",
      "42000/42000 [==============================] - 2s 42us/sample - loss: 2.3026 - acc: 0.1019 - val_loss: 2.3026 - val_acc: 0.1000\n",
      "Epoch 37/100\n",
      "42000/42000 [==============================] - 2s 42us/sample - loss: 2.3027 - acc: 0.1019 - val_loss: 2.3026 - val_acc: 0.1000\n",
      "Epoch 38/100\n",
      "42000/42000 [==============================] - 2s 42us/sample - loss: 2.3026 - acc: 0.1009 - val_loss: 2.3026 - val_acc: 0.1000\n",
      "Epoch 39/100\n",
      "42000/42000 [==============================] - 2s 43us/sample - loss: 2.3026 - acc: 0.1019 - val_loss: 2.3026 - val_acc: 0.1000\n",
      "Epoch 40/100\n",
      "42000/42000 [==============================] - 2s 42us/sample - loss: 2.3026 - acc: 0.1019 - val_loss: 2.3026 - val_acc: 0.1000\n",
      "Epoch 41/100\n",
      "42000/42000 [==============================] - 2s 42us/sample - loss: 2.3026 - acc: 0.1019 - val_loss: 2.3026 - val_acc: 0.1000\n",
      "Epoch 42/100\n",
      "42000/42000 [==============================] - 2s 42us/sample - loss: 2.3026 - acc: 0.1019 - val_loss: 2.3026 - val_acc: 0.1000\n",
      "Epoch 43/100\n",
      "42000/42000 [==============================] - 2s 42us/sample - loss: 2.3027 - acc: 0.1019 - val_loss: 2.3026 - val_acc: 0.1000\n",
      "Epoch 44/100\n",
      "42000/42000 [==============================] - 2s 42us/sample - loss: 2.3026 - acc: 0.1019 - val_loss: 2.3026 - val_acc: 0.1000\n",
      "Epoch 45/100\n",
      "42000/42000 [==============================] - 2s 42us/sample - loss: 2.3026 - acc: 0.1019 - val_loss: 2.3026 - val_acc: 0.1000\n",
      "Epoch 46/100\n",
      "42000/42000 [==============================] - 2s 42us/sample - loss: 2.3027 - acc: 0.1019 - val_loss: 2.3026 - val_acc: 0.1000\n",
      "Epoch 47/100\n",
      "42000/42000 [==============================] - 2s 42us/sample - loss: 2.3026 - acc: 0.1019 - val_loss: 2.3026 - val_acc: 0.1000\n",
      "Epoch 48/100\n",
      "42000/42000 [==============================] - 2s 42us/sample - loss: 2.3027 - acc: 0.0999 - val_loss: 2.3026 - val_acc: 0.1000\n",
      "Epoch 49/100\n",
      "42000/42000 [==============================] - 2s 42us/sample - loss: 2.3026 - acc: 0.1019 - val_loss: 2.3026 - val_acc: 0.1000\n",
      "Epoch 50/100\n",
      "42000/42000 [==============================] - 2s 42us/sample - loss: 2.3027 - acc: 0.1019 - val_loss: 2.3026 - val_acc: 0.1000\n",
      "Epoch 51/100\n",
      "42000/42000 [==============================] - 2s 42us/sample - loss: 2.3027 - acc: 0.1010 - val_loss: 2.3026 - val_acc: 0.1000\n",
      "Epoch 52/100\n",
      "42000/42000 [==============================] - 2s 42us/sample - loss: 2.3026 - acc: 0.1019 - val_loss: 2.3026 - val_acc: 0.1000\n",
      "Epoch 53/100\n",
      "42000/42000 [==============================] - 2s 42us/sample - loss: 2.3026 - acc: 0.1011 - val_loss: 2.3026 - val_acc: 0.1000\n",
      "Epoch 54/100\n",
      "42000/42000 [==============================] - 2s 42us/sample - loss: 2.3026 - acc: 0.1019 - val_loss: 2.3026 - val_acc: 0.1000\n",
      "Epoch 55/100\n",
      "42000/42000 [==============================] - 2s 42us/sample - loss: 2.3026 - acc: 0.1019 - val_loss: 2.3026 - val_acc: 0.1000\n",
      "Epoch 56/100\n",
      "42000/42000 [==============================] - 2s 42us/sample - loss: 2.3026 - acc: 0.1010 - val_loss: 2.3026 - val_acc: 0.1000\n",
      "Epoch 57/100\n",
      "42000/42000 [==============================] - 2s 42us/sample - loss: 2.3026 - acc: 0.1019 - val_loss: 2.3026 - val_acc: 0.1000\n",
      "Epoch 58/100\n",
      "42000/42000 [==============================] - 2s 42us/sample - loss: 2.3027 - acc: 0.1015 - val_loss: 2.3026 - val_acc: 0.1000\n",
      "Epoch 59/100\n",
      "42000/42000 [==============================] - 2s 41us/sample - loss: 2.3027 - acc: 0.1019 - val_loss: 2.3026 - val_acc: 0.1000\n",
      "Epoch 60/100\n",
      "42000/42000 [==============================] - 2s 41us/sample - loss: 2.3027 - acc: 0.1003 - val_loss: 2.3026 - val_acc: 0.1000\n",
      "Epoch 61/100\n",
      "42000/42000 [==============================] - 2s 41us/sample - loss: 2.3026 - acc: 0.1019 - val_loss: 2.3026 - val_acc: 0.1000\n",
      "Epoch 62/100\n",
      "42000/42000 [==============================] - 2s 41us/sample - loss: 2.3026 - acc: 0.1001 - val_loss: 2.3026 - val_acc: 0.1000\n",
      "Epoch 63/100\n",
      "42000/42000 [==============================] - 2s 42us/sample - loss: 2.3026 - acc: 0.1019 - val_loss: 2.3026 - val_acc: 0.1000\n",
      "Epoch 64/100\n",
      "42000/42000 [==============================] - 2s 42us/sample - loss: 2.3027 - acc: 0.1019 - val_loss: 2.3026 - val_acc: 0.1000\n",
      "Epoch 65/100\n",
      "42000/42000 [==============================] - 2s 41us/sample - loss: 2.3027 - acc: 0.1019 - val_loss: 2.3026 - val_acc: 0.1000\n",
      "Epoch 66/100\n",
      "42000/42000 [==============================] - 2s 42us/sample - loss: 2.3026 - acc: 0.1019 - val_loss: 2.3026 - val_acc: 0.1000\n",
      "Epoch 67/100\n",
      "42000/42000 [==============================] - 2s 42us/sample - loss: 2.3027 - acc: 0.1019 - val_loss: 2.3026 - val_acc: 0.1000\n",
      "Epoch 68/100\n",
      "42000/42000 [==============================] - 2s 42us/sample - loss: 2.3027 - acc: 0.1005 - val_loss: 2.3026 - val_acc: 0.1000\n",
      "Epoch 69/100\n",
      "42000/42000 [==============================] - 2s 41us/sample - loss: 2.3026 - acc: 0.1019 - val_loss: 2.3026 - val_acc: 0.1000\n",
      "Epoch 70/100\n",
      "42000/42000 [==============================] - 2s 42us/sample - loss: 2.3026 - acc: 0.1019 - val_loss: 2.3026 - val_acc: 0.1000\n",
      "Epoch 71/100\n",
      "42000/42000 [==============================] - 2s 41us/sample - loss: 2.3026 - acc: 0.1012 - val_loss: 2.3026 - val_acc: 0.1000\n",
      "Epoch 72/100\n",
      "42000/42000 [==============================] - 2s 41us/sample - loss: 2.3026 - acc: 0.1011 - val_loss: 2.3026 - val_acc: 0.1000\n",
      "Epoch 73/100\n",
      "42000/42000 [==============================] - 2s 41us/sample - loss: 2.3027 - acc: 0.1019 - val_loss: 2.3026 - val_acc: 0.1000\n",
      "Epoch 74/100\n",
      "42000/42000 [==============================] - 2s 41us/sample - loss: 2.3026 - acc: 0.1019 - val_loss: 2.3026 - val_acc: 0.1000\n",
      "Epoch 75/100\n",
      "42000/42000 [==============================] - 2s 41us/sample - loss: 2.3026 - acc: 0.1013 - val_loss: 2.3026 - val_acc: 0.1000\n",
      "Epoch 76/100\n",
      "42000/42000 [==============================] - 2s 41us/sample - loss: 2.3027 - acc: 0.1016 - val_loss: 2.3026 - val_acc: 0.1000\n",
      "Epoch 77/100\n",
      "42000/42000 [==============================] - 2s 41us/sample - loss: 2.3026 - acc: 0.1019 - val_loss: 2.3026 - val_acc: 0.1000\n",
      "Epoch 78/100\n",
      "42000/42000 [==============================] - 2s 41us/sample - loss: 2.3026 - acc: 0.1019 - val_loss: 2.3026 - val_acc: 0.1000\n",
      "Epoch 79/100\n",
      "42000/42000 [==============================] - 2s 41us/sample - loss: 2.3027 - acc: 0.1019 - val_loss: 2.3026 - val_acc: 0.1000\n",
      "Epoch 80/100\n",
      "42000/42000 [==============================] - 2s 42us/sample - loss: 2.3026 - acc: 0.1007 - val_loss: 2.3026 - val_acc: 0.1000\n",
      "Epoch 81/100\n",
      "42000/42000 [==============================] - 2s 41us/sample - loss: 2.3026 - acc: 0.1019 - val_loss: 2.3026 - val_acc: 0.1000\n",
      "Epoch 82/100\n",
      "42000/42000 [==============================] - 2s 41us/sample - loss: 2.3026 - acc: 0.1019 - val_loss: 2.3026 - val_acc: 0.1000\n",
      "Epoch 83/100\n",
      "42000/42000 [==============================] - 2s 42us/sample - loss: 2.3026 - acc: 0.1019 - val_loss: 2.3026 - val_acc: 0.1000\n",
      "Epoch 84/100\n",
      "42000/42000 [==============================] - 2s 41us/sample - loss: 2.3026 - acc: 0.1013 - val_loss: 2.3026 - val_acc: 0.1000\n",
      "Epoch 85/100\n",
      "42000/42000 [==============================] - 2s 41us/sample - loss: 2.3027 - acc: 0.1019 - val_loss: 2.3026 - val_acc: 0.1000\n",
      "Epoch 86/100\n",
      "42000/42000 [==============================] - 2s 42us/sample - loss: 2.3026 - acc: 0.1011 - val_loss: 2.3026 - val_acc: 0.1000\n",
      "Epoch 87/100\n",
      "42000/42000 [==============================] - 2s 42us/sample - loss: 2.3026 - acc: 0.1008 - val_loss: 2.3026 - val_acc: 0.1000\n",
      "Epoch 88/100\n",
      "42000/42000 [==============================] - 2s 42us/sample - loss: 2.3026 - acc: 0.1019 - val_loss: 2.3026 - val_acc: 0.1000\n",
      "Epoch 89/100\n",
      "42000/42000 [==============================] - 2s 42us/sample - loss: 2.3026 - acc: 0.1019 - val_loss: 2.3026 - val_acc: 0.1000\n",
      "Epoch 90/100\n",
      "42000/42000 [==============================] - 2s 42us/sample - loss: 2.3026 - acc: 0.1019 - val_loss: 2.3026 - val_acc: 0.1000\n",
      "Epoch 91/100\n",
      "42000/42000 [==============================] - 2s 42us/sample - loss: 2.3027 - acc: 0.1017 - val_loss: 2.3026 - val_acc: 0.1000\n",
      "Epoch 92/100\n",
      "42000/42000 [==============================] - 2s 41us/sample - loss: 2.3026 - acc: 0.1019 - val_loss: 2.3026 - val_acc: 0.1000\n",
      "Epoch 93/100\n",
      "42000/42000 [==============================] - 2s 42us/sample - loss: 2.3027 - acc: 0.1019 - val_loss: 2.3026 - val_acc: 0.1000\n",
      "Epoch 94/100\n",
      "42000/42000 [==============================] - 2s 42us/sample - loss: 2.3026 - acc: 0.1019 - val_loss: 2.3026 - val_acc: 0.1000\n",
      "Epoch 95/100\n",
      "42000/42000 [==============================] - 2s 42us/sample - loss: 2.3026 - acc: 0.1019 - val_loss: 2.3026 - val_acc: 0.1000\n",
      "Epoch 96/100\n",
      "42000/42000 [==============================] - 2s 42us/sample - loss: 2.3026 - acc: 0.1019 - val_loss: 2.3026 - val_acc: 0.1000\n",
      "Epoch 97/100\n",
      "42000/42000 [==============================] - 2s 42us/sample - loss: 2.3027 - acc: 0.1006 - val_loss: 2.3026 - val_acc: 0.1000\n",
      "Epoch 98/100\n",
      "42000/42000 [==============================] - 2s 42us/sample - loss: 2.3026 - acc: 0.1019 - val_loss: 2.3026 - val_acc: 0.1000\n",
      "Epoch 99/100\n",
      "42000/42000 [==============================] - 2s 42us/sample - loss: 2.3026 - acc: 0.1019 - val_loss: 2.3026 - val_acc: 0.1000\n",
      "Epoch 100/100\n",
      "42000/42000 [==============================] - 2s 42us/sample - loss: 2.3027 - acc: 0.1019 - val_loss: 2.3026 - val_acc: 0.1000\n"
     ]
    }
   ],
   "source": [
    "mod3 = mlp_model()\n",
    "history_weight_adam = mod3.fit(X_train_reNew, y_train, batch_size = 200, validation_data=(X_val_reNew,y_val), epochs = 100, verbose = 1)"
   ]
  },
  {
   "cell_type": "code",
   "execution_count": 49,
   "metadata": {},
   "outputs": [
    {
     "name": "stdout",
     "output_type": "stream",
     "text": [
      "Model: \"sequential_1\"\n",
      "_________________________________________________________________\n",
      "Layer (type)                 Output Shape              Param #   \n",
      "=================================================================\n",
      "flatten_1 (Flatten)          multiple                  0         \n",
      "_________________________________________________________________\n",
      "dense (Dense)                multiple                  51250     \n",
      "_________________________________________________________________\n",
      "activation (Activation)      multiple                  0         \n",
      "_________________________________________________________________\n",
      "dense_1 (Dense)              multiple                  2550      \n",
      "_________________________________________________________________\n",
      "activation_1 (Activation)    multiple                  0         \n",
      "_________________________________________________________________\n",
      "dense_2 (Dense)              multiple                  2550      \n",
      "_________________________________________________________________\n",
      "activation_2 (Activation)    multiple                  0         \n",
      "_________________________________________________________________\n",
      "dense_3 (Dense)              multiple                  2550      \n",
      "_________________________________________________________________\n",
      "activation_3 (Activation)    multiple                  0         \n",
      "_________________________________________________________________\n",
      "dense_4 (Dense)              multiple                  510       \n",
      "_________________________________________________________________\n",
      "activation_4 (Activation)    multiple                  0         \n",
      "=================================================================\n",
      "Total params: 59,410\n",
      "Trainable params: 59,410\n",
      "Non-trainable params: 0\n",
      "_________________________________________________________________\n"
     ]
    }
   ],
   "source": [
    "mod3.summary()"
   ]
  },
  {
   "cell_type": "code",
   "execution_count": 50,
   "metadata": {},
   "outputs": [
    {
     "data": {
      "image/png": "[encoded data removed]",
      "text/plain": [
       "<Figure size 432x288 with 1 Axes>"
      ]
     },
     "metadata": {
      "needs_background": "light"
     },
     "output_type": "display_data"
    }
   ],
   "source": [
    "#Accuracy plot\n",
    "plt.plot(history_weight_adam.history['acc'])\n",
    "plt.plot(history_weight_adam.history['val_acc'])\n",
    "plt.title('model accuracy')\n",
    "plt.ylabel('accuracy')\n",
    "plt.xlabel('epoch')\n",
    "plt.legend(['train', 'test'], loc='upper left')\n",
    "plt.show()"
   ]
  },
  {
   "cell_type": "code",
   "execution_count": 51,
   "metadata": {},
   "outputs": [
    {
     "data": {
      "image/png": "[encoded data removed]",
      "text/plain": [
       "<Figure size 432x288 with 1 Axes>"
      ]
     },
     "metadata": {
      "needs_background": "light"
     },
     "output_type": "display_data"
    }
   ],
   "source": [
    "#Loss Plot\n",
    "plt.plot(history_weight_adam.history['loss'])\n",
    "plt.plot(history_weight_adam.history['val_loss'])\n",
    "plt.title('model loss')\n",
    "plt.ylabel('loss')\n",
    "plt.xlabel('epoch')\n",
    "plt.legend(['train', 'test'], loc='upper left')\n",
    "plt.show()"
   ]
  },
  {
   "cell_type": "code",
   "execution_count": 52,
   "metadata": {},
   "outputs": [
    {
     "name": "stdout",
     "output_type": "stream",
     "text": [
      "18000/18000 [==============================] - 1s 41us/sample - loss: 2.3028 - acc: 0.0955\n"
     ]
    }
   ],
   "source": [
    "res3 = mod3.evaluate(X_test_reNew, y_test)"
   ]
  },
  {
   "cell_type": "code",
   "execution_count": 53,
   "metadata": {},
   "outputs": [
    {
     "name": "stdout",
     "output_type": "stream",
     "text": [
      "Accuracy\n",
      "18000/18000 [==============================] - 1s 40us/sample - loss: 2.3028 - acc: 0.0955\n",
      "0.0955\n",
      "[[   0    0    0 1814    0    0    0    0    0    0]\n",
      " [   0    0    0 1828    0    0    0    0    0    0]\n",
      " [   0    0    0 1803    0    0    0    0    0    0]\n",
      " [   0    0    0 1719    0    0    0    0    0    0]\n",
      " [   0    0    0 1812    0    0    0    0    0    0]\n",
      " [   0    0    0 1768    0    0    0    0    0    0]\n",
      " [   0    0    0 1832    0    0    0    0    0    0]\n",
      " [   0    0    0 1808    0    0    0    0    0    0]\n",
      " [   0    0    0 1812    0    0    0    0    0    0]\n",
      " [   0    0    0 1804    0    0    0    0    0    0]]\n",
      "              precision    recall  f1-score   support\n",
      "\n",
      "           0       0.00      0.00      0.00         0\n",
      "           1       0.00      0.00      0.00         0\n",
      "           2       0.00      0.00      0.00         0\n",
      "           3       1.00      0.10      0.17     18000\n",
      "           4       0.00      0.00      0.00         0\n",
      "           5       0.00      0.00      0.00         0\n",
      "           6       0.00      0.00      0.00         0\n",
      "           7       0.00      0.00      0.00         0\n",
      "           8       0.00      0.00      0.00         0\n",
      "           9       0.00      0.00      0.00         0\n",
      "\n",
      "    accuracy                           0.10     18000\n",
      "   macro avg       0.10      0.01      0.02     18000\n",
      "weighted avg       1.00      0.10      0.17     18000\n",
      "\n"
     ]
    },
    {
     "name": "stderr",
     "output_type": "stream",
     "text": [
      "C:\\Users\\HI\\Anaconda3\\lib\\site-packages\\sklearn\\metrics\\_classification.py:1272: UndefinedMetricWarning: Recall and F-score are ill-defined and being set to 0.0 in labels with no true samples. Use `zero_division` parameter to control this behavior.\n",
      "  _warn_prf(average, modifier, msg_start, len(result))\n"
     ]
    },
    {
     "data": {
      "text/html": [
       "<div>\n",
       "<style scoped>\n",
       "    .dataframe tbody tr th:only-of-type {\n",
       "        vertical-align: middle;\n",
       "    }\n",
       "\n",
       "    .dataframe tbody tr th {\n",
       "        vertical-align: top;\n",
       "    }\n",
       "\n",
       "    .dataframe thead th {\n",
       "        text-align: right;\n",
       "    }\n",
       "</style>\n",
       "<table border=\"1\" class=\"dataframe\">\n",
       "  <thead>\n",
       "    <tr style=\"text-align: right;\">\n",
       "      <th></th>\n",
       "      <th>Test accuracy</th>\n",
       "      <th>F1 score</th>\n",
       "      <th>ROC AUC score</th>\n",
       "      <th>Total Loss</th>\n",
       "    </tr>\n",
       "  </thead>\n",
       "  <tbody>\n",
       "    <tr>\n",
       "      <th>0</th>\n",
       "      <td>9.55</td>\n",
       "      <td>0.096</td>\n",
       "      <td>0.499</td>\n",
       "      <td>2.303</td>\n",
       "    </tr>\n",
       "  </tbody>\n",
       "</table>\n",
       "</div>"
      ],
      "text/plain": [
       "   Test accuracy  F1 score  ROC AUC score  Total Loss\n",
       "0           9.55     0.096          0.499       2.303"
      ]
     },
     "metadata": {},
     "output_type": "display_data"
    }
   ],
   "source": [
    "Y_pred_cls_5layer = mod3.predict_classes(X_test_reNew, batch_size=200, verbose=0)\n",
    "\n",
    "print('Accuracy') \n",
    "print( str(mod3.evaluate(X_test_reNew,y_test)[1]) )\n",
    "\n",
    "label_5layer=np.argmax(y_test.T, axis=0)\n",
    "print(confusion_matrix(label_5layer, Y_pred_cls_5layer))\n",
    "print(classification_report(Y_pred_cls_5layer, label_5layer))\n",
    "\n",
    "#create evaluation dataframe\n",
    "stats_3 = pd.DataFrame({'Test accuracy' :  round(res3[1]*100,3),\n",
    "                      'F1 score'      : round(f1_score(label_5layer, Y_pred_cls_5layer, average='micro'),3),\n",
    "                      'ROC AUC score' : round(roc_auc_score(y_test, mod3.predict_proba(X_test_reNew)),3),\n",
    "                      'Total Loss'    : round(res3[0],3)}, index=[0])\n",
    "#print evaluation dataframe\n",
    "display(stats_3)"
   ]
  },
  {
   "cell_type": "code",
   "execution_count": 54,
   "metadata": {},
   "outputs": [
    {
     "data": {
      "text/html": [
       "<div>\n",
       "<style scoped>\n",
       "    .dataframe tbody tr th:only-of-type {\n",
       "        vertical-align: middle;\n",
       "    }\n",
       "\n",
       "    .dataframe tbody tr th {\n",
       "        vertical-align: top;\n",
       "    }\n",
       "\n",
       "    .dataframe thead th {\n",
       "        text-align: right;\n",
       "    }\n",
       "</style>\n",
       "<table border=\"1\" class=\"dataframe\">\n",
       "  <thead>\n",
       "    <tr style=\"text-align: right;\">\n",
       "      <th></th>\n",
       "      <th>Models</th>\n",
       "      <th>loss</th>\n",
       "      <th>Accuracy</th>\n",
       "    </tr>\n",
       "  </thead>\n",
       "  <tbody>\n",
       "    <tr>\n",
       "      <th>1</th>\n",
       "      <td>Adam with one Layer</td>\n",
       "      <td>0.678502</td>\n",
       "      <td>0.809778</td>\n",
       "    </tr>\n",
       "    <tr>\n",
       "      <th>2</th>\n",
       "      <td>Adam with two Layer</td>\n",
       "      <td>0.628856</td>\n",
       "      <td>0.831722</td>\n",
       "    </tr>\n",
       "    <tr>\n",
       "      <th>3</th>\n",
       "      <td>adam with 4 Layers</td>\n",
       "      <td>0.858889</td>\n",
       "      <td>0.730111</td>\n",
       "    </tr>\n",
       "    <tr>\n",
       "      <th>4</th>\n",
       "      <td>Random Weights</td>\n",
       "      <td>2.302752</td>\n",
       "      <td>0.095500</td>\n",
       "    </tr>\n",
       "  </tbody>\n",
       "</table>\n",
       "</div>"
      ],
      "text/plain": [
       "                Models      loss  Accuracy\n",
       "1  Adam with one Layer  0.678502  0.809778\n",
       "2  Adam with two Layer  0.628856  0.831722\n",
       "3   adam with 4 Layers  0.858889  0.730111\n",
       "4       Random Weights  2.302752  0.095500"
      ]
     },
     "execution_count": 54,
     "metadata": {},
     "output_type": "execute_result"
    }
   ],
   "source": [
    "\n",
    "temp_df = pd.DataFrame({'Models':['Random Weights'],'loss': res3[0], 'Accuracy': [res3[1]]},index={'4'})\n",
    "final_df= pd.concat([final_df, temp_df])\n",
    "final_df\n"
   ]
  },
  {
   "cell_type": "markdown",
   "metadata": {},
   "source": [
    "###  Nonlinearity (Activation function)\n",
    "Sigmoid functions suffer from gradient vanishing problem, making training slower.\n",
    "'relu' (rectified linear unit) is one of the most popular ones."
   ]
  },
  {
   "cell_type": "code",
   "execution_count": 55,
   "metadata": {},
   "outputs": [],
   "source": [
    "def mlp_model():\n",
    "    model = Sequential()\n",
    "    model.add(Flatten())\n",
    "    model.add(Dense(50, input_shape = (1024, )))\n",
    "    model.add(Activation('relu'))    \n",
    "    model.add(Dense(50))\n",
    "    model.add(Activation('relu'))    \n",
    "    model.add(Dense(50))\n",
    "    model.add(Activation('relu'))    \n",
    "    model.add(Dense(50))\n",
    "    model.add(Activation('relu'))    \n",
    "    model.add(Dense(10))\n",
    "    model.add(Activation('softmax'))\n",
    "    adam = optimizers.Adam(lr = 0.001)\n",
    "    model.compile(optimizer = adam, loss = 'categorical_crossentropy', metrics = ['accuracy'])\n",
    "    \n",
    "    return model"
   ]
  },
  {
   "cell_type": "code",
   "execution_count": 56,
   "metadata": {
    "scrolled": false
   },
   "outputs": [
    {
     "name": "stdout",
     "output_type": "stream",
     "text": [
      "Train on 42000 samples, validate on 60000 samples\n",
      "Epoch 1/100\n",
      "42000/42000 [==============================] - 2s 48us/sample - loss: 2.2752 - acc: 0.1230 - val_loss: 2.1653 - val_acc: 0.1786\n",
      "Epoch 2/100\n",
      "42000/42000 [==============================] - 2s 46us/sample - loss: 2.0196 - acc: 0.2375 - val_loss: 1.7982 - val_acc: 0.3352\n",
      "Epoch 3/100\n",
      "42000/42000 [==============================] - 2s 46us/sample - loss: 1.7020 - acc: 0.3770 - val_loss: 1.5910 - val_acc: 0.4268\n",
      "Epoch 4/100\n",
      "42000/42000 [==============================] - 2s 46us/sample - loss: 1.5366 - acc: 0.4578 - val_loss: 1.4816 - val_acc: 0.4905\n",
      "Epoch 5/100\n",
      "42000/42000 [==============================] - 2s 46us/sample - loss: 1.4333 - acc: 0.5148 - val_loss: 1.4547 - val_acc: 0.5004\n",
      "Epoch 6/100\n",
      "42000/42000 [==============================] - 2s 45us/sample - loss: 1.3606 - acc: 0.5424 - val_loss: 1.3338 - val_acc: 0.5562\n",
      "Epoch 7/100\n",
      "42000/42000 [==============================] - 2s 46us/sample - loss: 1.3127 - acc: 0.5603 - val_loss: 1.3085 - val_acc: 0.5612\n",
      "Epoch 8/100\n",
      "42000/42000 [==============================] - 2s 46us/sample - loss: 1.2960 - acc: 0.5663 - val_loss: 1.2833 - val_acc: 0.5685\n",
      "Epoch 9/100\n",
      "42000/42000 [==============================] - 2s 46us/sample - loss: 1.2731 - acc: 0.5772 - val_loss: 1.2437 - val_acc: 0.5887\n",
      "Epoch 10/100\n",
      "42000/42000 [==============================] - 2s 46us/sample - loss: 1.2462 - acc: 0.5874 - val_loss: 1.2448 - val_acc: 0.5885\n",
      "Epoch 11/100\n",
      "42000/42000 [==============================] - 2s 45us/sample - loss: 1.2190 - acc: 0.6016 - val_loss: 1.1971 - val_acc: 0.6095\n",
      "Epoch 12/100\n",
      "42000/42000 [==============================] - 2s 46us/sample - loss: 1.1925 - acc: 0.6123 - val_loss: 1.1774 - val_acc: 0.6172\n",
      "Epoch 13/100\n",
      "42000/42000 [==============================] - 2s 45us/sample - loss: 1.1740 - acc: 0.6179 - val_loss: 1.1471 - val_acc: 0.6315\n",
      "Epoch 14/100\n",
      "42000/42000 [==============================] - 2s 46us/sample - loss: 1.1509 - acc: 0.6286 - val_loss: 1.1205 - val_acc: 0.6426\n",
      "Epoch 15/100\n",
      "42000/42000 [==============================] - 2s 46us/sample - loss: 1.1488 - acc: 0.6303 - val_loss: 1.1305 - val_acc: 0.6392\n",
      "Epoch 16/100\n",
      "42000/42000 [==============================] - 2s 46us/sample - loss: 1.1357 - acc: 0.6344 - val_loss: 1.1538 - val_acc: 0.6272\n",
      "Epoch 17/100\n",
      "42000/42000 [==============================] - 2s 46us/sample - loss: 1.1265 - acc: 0.6402 - val_loss: 1.1478 - val_acc: 0.6269\n",
      "Epoch 18/100\n",
      "42000/42000 [==============================] - 2s 46us/sample - loss: 1.1171 - acc: 0.6413 - val_loss: 1.0860 - val_acc: 0.6558\n",
      "Epoch 19/100\n",
      "42000/42000 [==============================] - 2s 46us/sample - loss: 1.1042 - acc: 0.6466 - val_loss: 1.1012 - val_acc: 0.6505\n",
      "Epoch 20/100\n",
      "42000/42000 [==============================] - 2s 46us/sample - loss: 1.1000 - acc: 0.6486 - val_loss: 1.0874 - val_acc: 0.6537\n",
      "Epoch 21/100\n",
      "42000/42000 [==============================] - 2s 46us/sample - loss: 1.1004 - acc: 0.6480 - val_loss: 1.0754 - val_acc: 0.6582\n",
      "Epoch 22/100\n",
      "42000/42000 [==============================] - 2s 46us/sample - loss: 1.0928 - acc: 0.6516 - val_loss: 1.0807 - val_acc: 0.6566\n",
      "Epoch 23/100\n",
      "42000/42000 [==============================] - 2s 46us/sample - loss: 1.0916 - acc: 0.6511 - val_loss: 1.0706 - val_acc: 0.6602\n",
      "Epoch 24/100\n",
      "42000/42000 [==============================] - 2s 46us/sample - loss: 1.0908 - acc: 0.6502 - val_loss: 1.0843 - val_acc: 0.6513\n",
      "Epoch 25/100\n",
      "42000/42000 [==============================] - 2s 46us/sample - loss: 1.0866 - acc: 0.6526 - val_loss: 1.0747 - val_acc: 0.6573\n",
      "Epoch 26/100\n",
      "42000/42000 [==============================] - 2s 46us/sample - loss: 1.0774 - acc: 0.6558 - val_loss: 1.0751 - val_acc: 0.6552\n",
      "Epoch 27/100\n",
      "42000/42000 [==============================] - 2s 46us/sample - loss: 1.0764 - acc: 0.6551 - val_loss: 1.0583 - val_acc: 0.6632\n",
      "Epoch 28/100\n",
      "42000/42000 [==============================] - 2s 46us/sample - loss: 1.0750 - acc: 0.6541 - val_loss: 1.0750 - val_acc: 0.6559\n",
      "Epoch 29/100\n",
      "42000/42000 [==============================] - 2s 47us/sample - loss: 1.0800 - acc: 0.6522 - val_loss: 1.0824 - val_acc: 0.6541\n",
      "Epoch 30/100\n",
      "42000/42000 [==============================] - 2s 47us/sample - loss: 1.0640 - acc: 0.6594 - val_loss: 1.1417 - val_acc: 0.6274\n",
      "Epoch 31/100\n",
      "42000/42000 [==============================] - 2s 45us/sample - loss: 1.0669 - acc: 0.6563 - val_loss: 1.0437 - val_acc: 0.6671\n",
      "Epoch 32/100\n",
      "42000/42000 [==============================] - 2s 46us/sample - loss: 1.0660 - acc: 0.6579 - val_loss: 1.0527 - val_acc: 0.6641\n",
      "Epoch 33/100\n",
      "42000/42000 [==============================] - 2s 46us/sample - loss: 1.0650 - acc: 0.6572 - val_loss: 1.0562 - val_acc: 0.6616\n",
      "Epoch 34/100\n",
      "42000/42000 [==============================] - 2s 48us/sample - loss: 1.0616 - acc: 0.6605 - val_loss: 1.0373 - val_acc: 0.6691\n",
      "Epoch 35/100\n",
      "42000/42000 [==============================] - 2s 46us/sample - loss: 1.0585 - acc: 0.6600 - val_loss: 1.0461 - val_acc: 0.6653\n",
      "Epoch 36/100\n",
      "42000/42000 [==============================] - 2s 46us/sample - loss: 1.0507 - acc: 0.6631 - val_loss: 1.1020 - val_acc: 0.6462\n",
      "Epoch 37/100\n",
      "42000/42000 [==============================] - 2s 46us/sample - loss: 1.0513 - acc: 0.6619 - val_loss: 1.0548 - val_acc: 0.6607\n",
      "Epoch 38/100\n",
      "42000/42000 [==============================] - 2s 46us/sample - loss: 1.0536 - acc: 0.6618 - val_loss: 1.0566 - val_acc: 0.6601\n",
      "Epoch 39/100\n",
      "42000/42000 [==============================] - 2s 46us/sample - loss: 1.0587 - acc: 0.6590 - val_loss: 1.0466 - val_acc: 0.6643\n",
      "Epoch 40/100\n",
      "42000/42000 [==============================] - 2s 46us/sample - loss: 1.0474 - acc: 0.6634 - val_loss: 1.0345 - val_acc: 0.6694\n",
      "Epoch 41/100\n",
      "42000/42000 [==============================] - 2s 46us/sample - loss: 1.0414 - acc: 0.6644 - val_loss: 1.0551 - val_acc: 0.6585\n",
      "Epoch 42/100\n",
      "42000/42000 [==============================] - 2s 46us/sample - loss: 1.0440 - acc: 0.6633 - val_loss: 1.0540 - val_acc: 0.6613\n",
      "Epoch 43/100\n",
      "42000/42000 [==============================] - 2s 46us/sample - loss: 1.0401 - acc: 0.6658 - val_loss: 1.0361 - val_acc: 0.6660\n",
      "Epoch 44/100\n",
      "42000/42000 [==============================] - 2s 46us/sample - loss: 1.0432 - acc: 0.6650 - val_loss: 1.1004 - val_acc: 0.6439\n",
      "Epoch 45/100\n",
      "42000/42000 [==============================] - 2s 46us/sample - loss: 1.0356 - acc: 0.6665 - val_loss: 1.0672 - val_acc: 0.6554\n",
      "Epoch 46/100\n",
      "42000/42000 [==============================] - 2s 46us/sample - loss: 1.0396 - acc: 0.6652 - val_loss: 1.0416 - val_acc: 0.6654\n",
      "Epoch 47/100\n",
      "42000/42000 [==============================] - 2s 46us/sample - loss: 1.0319 - acc: 0.6661 - val_loss: 1.0328 - val_acc: 0.6671\n",
      "Epoch 48/100\n",
      "42000/42000 [==============================] - 2s 46us/sample - loss: 1.0372 - acc: 0.6666 - val_loss: 1.0538 - val_acc: 0.6597\n",
      "Epoch 49/100\n",
      "42000/42000 [==============================] - 2s 44us/sample - loss: 1.0317 - acc: 0.6671 - val_loss: 1.0150 - val_acc: 0.6740\n",
      "Epoch 50/100\n",
      "42000/42000 [==============================] - 2s 47us/sample - loss: 1.0286 - acc: 0.6673 - val_loss: 1.0546 - val_acc: 0.6597\n",
      "Epoch 51/100\n",
      "42000/42000 [==============================] - 2s 47us/sample - loss: 1.0325 - acc: 0.6666 - val_loss: 1.0200 - val_acc: 0.6724\n",
      "Epoch 52/100\n",
      "42000/42000 [==============================] - 2s 46us/sample - loss: 1.0280 - acc: 0.6676 - val_loss: 1.0231 - val_acc: 0.6707\n",
      "Epoch 53/100\n",
      "42000/42000 [==============================] - 2s 46us/sample - loss: 1.0207 - acc: 0.6705 - val_loss: 1.0109 - val_acc: 0.6748\n",
      "Epoch 54/100\n",
      "42000/42000 [==============================] - 2s 46us/sample - loss: 1.0194 - acc: 0.6708 - val_loss: 1.0501 - val_acc: 0.6578\n",
      "Epoch 55/100\n",
      "42000/42000 [==============================] - 2s 46us/sample - loss: 1.0218 - acc: 0.6694 - val_loss: 1.0106 - val_acc: 0.6759\n",
      "Epoch 56/100\n",
      "42000/42000 [==============================] - 2s 46us/sample - loss: 1.0133 - acc: 0.6723 - val_loss: 1.0192 - val_acc: 0.6716\n",
      "Epoch 57/100\n",
      "42000/42000 [==============================] - 2s 46us/sample - loss: 1.0274 - acc: 0.6662 - val_loss: 1.0423 - val_acc: 0.6654\n",
      "Epoch 58/100\n",
      "42000/42000 [==============================] - 2s 46us/sample - loss: 1.0215 - acc: 0.6703 - val_loss: 1.0021 - val_acc: 0.6782\n",
      "Epoch 59/100\n",
      "42000/42000 [==============================] - 2s 46us/sample - loss: 1.0111 - acc: 0.6742 - val_loss: 1.0078 - val_acc: 0.6742\n",
      "Epoch 60/100\n",
      "42000/42000 [==============================] - 2s 46us/sample - loss: 1.0209 - acc: 0.6695 - val_loss: 1.0195 - val_acc: 0.6706\n",
      "Epoch 61/100\n",
      "42000/42000 [==============================] - 2s 46us/sample - loss: 1.0158 - acc: 0.6705 - val_loss: 1.0056 - val_acc: 0.6764\n",
      "Epoch 62/100\n",
      "42000/42000 [==============================] - 2s 45us/sample - loss: 1.0095 - acc: 0.6731 - val_loss: 1.0345 - val_acc: 0.6645\n",
      "Epoch 63/100\n",
      "42000/42000 [==============================] - 2s 46us/sample - loss: 1.0079 - acc: 0.6743 - val_loss: 1.0250 - val_acc: 0.6678\n",
      "Epoch 64/100\n",
      "42000/42000 [==============================] - 2s 46us/sample - loss: 1.0071 - acc: 0.6730 - val_loss: 1.0540 - val_acc: 0.6570\n",
      "Epoch 65/100\n",
      "42000/42000 [==============================] - 2s 46us/sample - loss: 1.0087 - acc: 0.6720 - val_loss: 1.0099 - val_acc: 0.6747\n",
      "Epoch 66/100\n",
      "42000/42000 [==============================] - 2s 46us/sample - loss: 1.0038 - acc: 0.6741 - val_loss: 1.0074 - val_acc: 0.6746\n",
      "Epoch 67/100\n",
      "42000/42000 [==============================] - 2s 46us/sample - loss: 1.0135 - acc: 0.6698 - val_loss: 1.0036 - val_acc: 0.6758\n",
      "Epoch 68/100\n",
      "42000/42000 [==============================] - 2s 46us/sample - loss: 1.0037 - acc: 0.6737 - val_loss: 0.9972 - val_acc: 0.6780\n",
      "Epoch 69/100\n",
      "42000/42000 [==============================] - 2s 46us/sample - loss: 1.0054 - acc: 0.6746 - val_loss: 1.0302 - val_acc: 0.6656\n",
      "Epoch 70/100\n",
      "42000/42000 [==============================] - 2s 46us/sample - loss: 1.0036 - acc: 0.6750 - val_loss: 1.0636 - val_acc: 0.6565\n",
      "Epoch 71/100\n",
      "42000/42000 [==============================] - 2s 46us/sample - loss: 1.0098 - acc: 0.6716 - val_loss: 1.0309 - val_acc: 0.6672\n",
      "Epoch 72/100\n",
      "42000/42000 [==============================] - 2s 46us/sample - loss: 1.0090 - acc: 0.6712 - val_loss: 1.0093 - val_acc: 0.6736\n",
      "Epoch 73/100\n",
      "42000/42000 [==============================] - 2s 46us/sample - loss: 0.9961 - acc: 0.6776 - val_loss: 1.0208 - val_acc: 0.6694\n",
      "Epoch 74/100\n",
      "42000/42000 [==============================] - 2s 46us/sample - loss: 0.9997 - acc: 0.6744 - val_loss: 0.9984 - val_acc: 0.6780\n",
      "Epoch 75/100\n",
      "42000/42000 [==============================] - 2s 46us/sample - loss: 0.9920 - acc: 0.6782 - val_loss: 1.0548 - val_acc: 0.6583\n",
      "Epoch 76/100\n",
      "42000/42000 [==============================] - 2s 46us/sample - loss: 0.9984 - acc: 0.6771 - val_loss: 1.0167 - val_acc: 0.6703\n",
      "Epoch 77/100\n",
      "42000/42000 [==============================] - 2s 47us/sample - loss: 0.9940 - acc: 0.6770 - val_loss: 0.9871 - val_acc: 0.6804\n",
      "Epoch 78/100\n",
      "42000/42000 [==============================] - 2s 48us/sample - loss: 0.9897 - acc: 0.6784 - val_loss: 1.0165 - val_acc: 0.6715\n",
      "Epoch 79/100\n",
      "42000/42000 [==============================] - 2s 46us/sample - loss: 0.9920 - acc: 0.6775 - val_loss: 0.9989 - val_acc: 0.6765\n",
      "Epoch 80/100\n",
      "42000/42000 [==============================] - 2s 51us/sample - loss: 0.9885 - acc: 0.6782 - val_loss: 1.0075 - val_acc: 0.6743\n",
      "Epoch 81/100\n",
      "42000/42000 [==============================] - 2s 49us/sample - loss: 0.9890 - acc: 0.6777 - val_loss: 1.0256 - val_acc: 0.6654\n",
      "Epoch 82/100\n",
      "42000/42000 [==============================] - 2s 46us/sample - loss: 0.9975 - acc: 0.6755 - val_loss: 0.9923 - val_acc: 0.6785\n",
      "Epoch 83/100\n",
      "42000/42000 [==============================] - 2s 46us/sample - loss: 0.9846 - acc: 0.6796 - val_loss: 0.9965 - val_acc: 0.6759\n",
      "Epoch 84/100\n",
      "42000/42000 [==============================] - 2s 46us/sample - loss: 0.9875 - acc: 0.6777 - val_loss: 1.0002 - val_acc: 0.6763\n",
      "Epoch 85/100\n",
      "42000/42000 [==============================] - 2s 46us/sample - loss: 0.9872 - acc: 0.6774 - val_loss: 0.9723 - val_acc: 0.6851\n",
      "Epoch 86/100\n",
      "42000/42000 [==============================] - 2s 46us/sample - loss: 0.9946 - acc: 0.6756 - val_loss: 0.9911 - val_acc: 0.6777\n",
      "Epoch 87/100\n",
      "42000/42000 [==============================] - 2s 46us/sample - loss: 0.9841 - acc: 0.6791 - val_loss: 0.9832 - val_acc: 0.6819\n",
      "Epoch 88/100\n",
      "42000/42000 [==============================] - 2s 45us/sample - loss: 0.9797 - acc: 0.6797 - val_loss: 1.0218 - val_acc: 0.6677\n",
      "Epoch 89/100\n",
      "42000/42000 [==============================] - 2s 46us/sample - loss: 0.9871 - acc: 0.6778 - val_loss: 0.9883 - val_acc: 0.6802\n",
      "Epoch 90/100\n",
      "42000/42000 [==============================] - 2s 46us/sample - loss: 0.9786 - acc: 0.6820 - val_loss: 1.0059 - val_acc: 0.6753\n",
      "Epoch 91/100\n",
      "42000/42000 [==============================] - 2s 46us/sample - loss: 0.9784 - acc: 0.6796 - val_loss: 0.9945 - val_acc: 0.6784\n",
      "Epoch 92/100\n",
      "42000/42000 [==============================] - 2s 46us/sample - loss: 0.9941 - acc: 0.6753 - val_loss: 0.9805 - val_acc: 0.6827\n",
      "Epoch 93/100\n",
      "42000/42000 [==============================] - 2s 46us/sample - loss: 0.9767 - acc: 0.6818 - val_loss: 0.9766 - val_acc: 0.6838\n",
      "Epoch 94/100\n",
      "42000/42000 [==============================] - 2s 46us/sample - loss: 0.9746 - acc: 0.6830 - val_loss: 0.9994 - val_acc: 0.6758\n",
      "Epoch 95/100\n",
      "42000/42000 [==============================] - 2s 46us/sample - loss: 0.9736 - acc: 0.6819 - val_loss: 0.9819 - val_acc: 0.6834\n",
      "Epoch 96/100\n",
      "42000/42000 [==============================] - 2s 46us/sample - loss: 0.9785 - acc: 0.6812 - val_loss: 0.9926 - val_acc: 0.6765\n",
      "Epoch 97/100\n",
      "42000/42000 [==============================] - 2s 47us/sample - loss: 0.9825 - acc: 0.6795 - val_loss: 0.9915 - val_acc: 0.6775\n",
      "Epoch 98/100\n",
      "42000/42000 [==============================] - 2s 46us/sample - loss: 0.9719 - acc: 0.6839 - val_loss: 0.9821 - val_acc: 0.6816\n",
      "Epoch 99/100\n",
      "42000/42000 [==============================] - 2s 46us/sample - loss: 0.9720 - acc: 0.6841 - val_loss: 0.9904 - val_acc: 0.6783\n",
      "Epoch 100/100\n",
      "42000/42000 [==============================] - 2s 46us/sample - loss: 0.9699 - acc: 0.6850 - val_loss: 0.9802 - val_acc: 0.6834\n"
     ]
    }
   ],
   "source": [
    "mod4 = mlp_model()\n",
    "history_relu = mod4.fit(X_train_reNew, y_train, batch_size = 200, validation_data=(X_val_reNew,y_val), epochs = 100, verbose = 1)"
   ]
  },
  {
   "cell_type": "code",
   "execution_count": 57,
   "metadata": {},
   "outputs": [
    {
     "name": "stdout",
     "output_type": "stream",
     "text": [
      "Model: \"sequential_2\"\n",
      "_________________________________________________________________\n",
      "Layer (type)                 Output Shape              Param #   \n",
      "=================================================================\n",
      "flatten_2 (Flatten)          multiple                  0         \n",
      "_________________________________________________________________\n",
      "dense_5 (Dense)              multiple                  51250     \n",
      "_________________________________________________________________\n",
      "activation_5 (Activation)    multiple                  0         \n",
      "_________________________________________________________________\n",
      "dense_6 (Dense)              multiple                  2550      \n",
      "_________________________________________________________________\n",
      "activation_6 (Activation)    multiple                  0         \n",
      "_________________________________________________________________\n",
      "dense_7 (Dense)              multiple                  2550      \n",
      "_________________________________________________________________\n",
      "activation_7 (Activation)    multiple                  0         \n",
      "_________________________________________________________________\n",
      "dense_8 (Dense)              multiple                  2550      \n",
      "_________________________________________________________________\n",
      "activation_8 (Activation)    multiple                  0         \n",
      "_________________________________________________________________\n",
      "dense_9 (Dense)              multiple                  510       \n",
      "_________________________________________________________________\n",
      "activation_9 (Activation)    multiple                  0         \n",
      "=================================================================\n",
      "Total params: 59,410\n",
      "Trainable params: 59,410\n",
      "Non-trainable params: 0\n",
      "_________________________________________________________________\n"
     ]
    }
   ],
   "source": [
    "mod4.summary()"
   ]
  },
  {
   "cell_type": "code",
   "execution_count": 58,
   "metadata": {},
   "outputs": [
    {
     "name": "stdout",
     "output_type": "stream",
     "text": [
      "18000/18000 [==============================] - 1s 42us/sample - loss: 1.0364 - acc: 0.6703\n"
     ]
    }
   ],
   "source": [
    "res4= mod4.evaluate(X_test_reNew, y_test)"
   ]
  },
  {
   "cell_type": "code",
   "execution_count": 59,
   "metadata": {},
   "outputs": [
    {
     "name": "stdout",
     "output_type": "stream",
     "text": [
      "Accuracy\n",
      "18000/18000 [==============================] - 1s 40us/sample - loss: 1.0364 - acc: 0.6703\n",
      "0.6703333\n",
      "[[1294   79   56   25   87   15   72   38   33  115]\n",
      " [  80 1300   34   59  193   27   21   69   10   35]\n",
      " [  67   73 1236   71   89   30   24  132   15   66]\n",
      " [  35  105   71 1084   66  175   25   59   65   34]\n",
      " [  51   98   17   16 1481   35   51   10   17   36]\n",
      " [  60   65   36  165   71 1087  115   20   86   63]\n",
      " [  88   66    7   26  153   88 1260   21   85   38]\n",
      " [  51  135  153   54   60   26   38 1254    7   30]\n",
      " [ 101   96   18   49  118  147  192   24  932  135]\n",
      " [ 139  100   51   68   74   82   38   30   84 1138]]\n",
      "              precision    recall  f1-score   support\n",
      "\n",
      "           0       0.71      0.66      0.68      1966\n",
      "           1       0.71      0.61      0.66      2117\n",
      "           2       0.69      0.74      0.71      1679\n",
      "           3       0.63      0.67      0.65      1617\n",
      "           4       0.82      0.62      0.70      2392\n",
      "           5       0.61      0.63      0.62      1712\n",
      "           6       0.69      0.69      0.69      1836\n",
      "           7       0.69      0.76      0.72      1657\n",
      "           8       0.51      0.70      0.59      1334\n",
      "           9       0.63      0.67      0.65      1690\n",
      "\n",
      "    accuracy                           0.67     18000\n",
      "   macro avg       0.67      0.67      0.67     18000\n",
      "weighted avg       0.68      0.67      0.67     18000\n",
      "\n"
     ]
    },
    {
     "data": {
      "text/html": [
       "<div>\n",
       "<style scoped>\n",
       "    .dataframe tbody tr th:only-of-type {\n",
       "        vertical-align: middle;\n",
       "    }\n",
       "\n",
       "    .dataframe tbody tr th {\n",
       "        vertical-align: top;\n",
       "    }\n",
       "\n",
       "    .dataframe thead th {\n",
       "        text-align: right;\n",
       "    }\n",
       "</style>\n",
       "<table border=\"1\" class=\"dataframe\">\n",
       "  <thead>\n",
       "    <tr style=\"text-align: right;\">\n",
       "      <th></th>\n",
       "      <th>Test accuracy</th>\n",
       "      <th>F1 score</th>\n",
       "      <th>ROC AUC score</th>\n",
       "      <th>Total Loss</th>\n",
       "    </tr>\n",
       "  </thead>\n",
       "  <tbody>\n",
       "    <tr>\n",
       "      <th>0</th>\n",
       "      <td>67.033</td>\n",
       "      <td>0.67</td>\n",
       "      <td>0.935</td>\n",
       "      <td>1.036</td>\n",
       "    </tr>\n",
       "  </tbody>\n",
       "</table>\n",
       "</div>"
      ],
      "text/plain": [
       "   Test accuracy  F1 score  ROC AUC score  Total Loss\n",
       "0         67.033      0.67          0.935       1.036"
      ]
     },
     "metadata": {},
     "output_type": "display_data"
    }
   ],
   "source": [
    "Y_pred_cls_6layer = mod4.predict_classes(X_test_reNew, batch_size=200, verbose=0)\n",
    "\n",
    "print('Accuracy') \n",
    "print( str(mod4.evaluate(X_test_reNew,y_test)[1]) )\n",
    "\n",
    "label_6layer=np.argmax(y_test.T, axis=0)\n",
    "print(confusion_matrix(label_6layer, Y_pred_cls_6layer))\n",
    "print(classification_report(Y_pred_cls_6layer, label_6layer))\n",
    "\n",
    "#create evaluation dataframe\n",
    "stats_4 = pd.DataFrame({'Test accuracy' :  round(res4[1]*100,3),\n",
    "                      'F1 score'      : round(f1_score(label_6layer, Y_pred_cls_6layer, average='micro'),3),\n",
    "                      'ROC AUC score' : round(roc_auc_score(y_test, mod4.predict_proba(X_test_reNew)),3),\n",
    "                      'Total Loss'    : round(res4[0],3)}, index=[0])\n",
    "#print evaluation dataframe\n",
    "display(stats_4)"
   ]
  },
  {
   "cell_type": "code",
   "execution_count": 60,
   "metadata": {},
   "outputs": [
    {
     "data": {
      "image/png": "[encoded data removed]",
      "text/plain": [
       "<Figure size 432x288 with 1 Axes>"
      ]
     },
     "metadata": {
      "needs_background": "light"
     },
     "output_type": "display_data"
    }
   ],
   "source": [
    "#Accuracy plot\n",
    "plt.plot(history_relu.history['acc'])\n",
    "plt.plot(history_relu.history['val_acc'])\n",
    "plt.title('model accuracy')\n",
    "plt.ylabel('accuracy')\n",
    "plt.xlabel('epoch')\n",
    "plt.legend(['train', 'test'], loc='upper left')\n",
    "plt.show()"
   ]
  },
  {
   "cell_type": "code",
   "execution_count": 61,
   "metadata": {},
   "outputs": [
    {
     "data": {
      "image/png": "[encoded data removed]",
      "text/plain": [
       "<Figure size 432x288 with 1 Axes>"
      ]
     },
     "metadata": {
      "needs_background": "light"
     },
     "output_type": "display_data"
    }
   ],
   "source": [
    "#Loss Plot\n",
    "plt.plot(history_relu.history['loss'])\n",
    "plt.plot(history_relu.history['val_loss'])\n",
    "plt.title('model loss')\n",
    "plt.ylabel('loss')\n",
    "plt.xlabel('epoch')\n",
    "plt.legend(['train', 'test'], loc='upper left')\n",
    "plt.show()"
   ]
  },
  {
   "cell_type": "code",
   "execution_count": 62,
   "metadata": {},
   "outputs": [
    {
     "data": {
      "text/html": [
       "<div>\n",
       "<style scoped>\n",
       "    .dataframe tbody tr th:only-of-type {\n",
       "        vertical-align: middle;\n",
       "    }\n",
       "\n",
       "    .dataframe tbody tr th {\n",
       "        vertical-align: top;\n",
       "    }\n",
       "\n",
       "    .dataframe thead th {\n",
       "        text-align: right;\n",
       "    }\n",
       "</style>\n",
       "<table border=\"1\" class=\"dataframe\">\n",
       "  <thead>\n",
       "    <tr style=\"text-align: right;\">\n",
       "      <th></th>\n",
       "      <th>Models</th>\n",
       "      <th>loss</th>\n",
       "      <th>Accuracy</th>\n",
       "    </tr>\n",
       "  </thead>\n",
       "  <tbody>\n",
       "    <tr>\n",
       "      <th>1</th>\n",
       "      <td>Adam with one Layer</td>\n",
       "      <td>0.678502</td>\n",
       "      <td>0.809778</td>\n",
       "    </tr>\n",
       "    <tr>\n",
       "      <th>2</th>\n",
       "      <td>Adam with two Layer</td>\n",
       "      <td>0.628856</td>\n",
       "      <td>0.831722</td>\n",
       "    </tr>\n",
       "    <tr>\n",
       "      <th>3</th>\n",
       "      <td>adam with 4 Layers</td>\n",
       "      <td>0.858889</td>\n",
       "      <td>0.730111</td>\n",
       "    </tr>\n",
       "    <tr>\n",
       "      <th>4</th>\n",
       "      <td>Random Weights</td>\n",
       "      <td>2.302752</td>\n",
       "      <td>0.095500</td>\n",
       "    </tr>\n",
       "    <tr>\n",
       "      <th>5</th>\n",
       "      <td>Relu</td>\n",
       "      <td>1.036408</td>\n",
       "      <td>0.670333</td>\n",
       "    </tr>\n",
       "  </tbody>\n",
       "</table>\n",
       "</div>"
      ],
      "text/plain": [
       "                Models      loss  Accuracy\n",
       "1  Adam with one Layer  0.678502  0.809778\n",
       "2  Adam with two Layer  0.628856  0.831722\n",
       "3   adam with 4 Layers  0.858889  0.730111\n",
       "4       Random Weights  2.302752  0.095500\n",
       "5                 Relu  1.036408  0.670333"
      ]
     },
     "execution_count": 62,
     "metadata": {},
     "output_type": "execute_result"
    }
   ],
   "source": [
    "temp_df = pd.DataFrame({'Models':['Relu'],'loss': res4[0], 'Accuracy': [res4[1]]},index={'5'})\n",
    "final_df= pd.concat([final_df, temp_df])\n",
    "final_df"
   ]
  },
  {
   "cell_type": "markdown",
   "metadata": {},
   "source": [
    "### Batch Normalization"
   ]
  },
  {
   "cell_type": "markdown",
   "metadata": {},
   "source": [
    "Batch Normalization, one of the methods to prevent the \"internal covariance shift\" problem, has proven to be highly effective\n",
    "Normalize each mini-batch before nonlinearity"
   ]
  },
  {
   "cell_type": "code",
   "execution_count": 63,
   "metadata": {},
   "outputs": [],
   "source": [
    "# Batch normalization with sigmoid as activation function for hidden layers.\n",
    "def mlp_model():\n",
    "    model = Sequential()\n",
    "    model.add(Flatten())\n",
    "    model.add(Dense(50, input_shape = (1024, )))\n",
    "    model.add(BatchNormalization())                    \n",
    "    model.add(Activation('sigmoid'))    \n",
    "    model.add(Dense(50))\n",
    "    model.add(BatchNormalization())                    \n",
    "    model.add(Activation('sigmoid'))    \n",
    "    model.add(Dense(50))\n",
    "    model.add(BatchNormalization())                    \n",
    "    model.add(Activation('sigmoid'))    \n",
    "    model.add(Dense(50))\n",
    "    model.add(BatchNormalization())                    \n",
    "    model.add(Activation('sigmoid'))    \n",
    "    model.add(Dense(10))\n",
    "    model.add(Activation('softmax'))\n",
    "    \n",
    "    adam = optimizers.Adam(lr = 0.001)\n",
    "    model.compile(optimizer = adam, loss = 'categorical_crossentropy', metrics = ['accuracy'])\n",
    "\n",
    "    return model"
   ]
  },
  {
   "cell_type": "code",
   "execution_count": 64,
   "metadata": {
    "scrolled": false
   },
   "outputs": [
    {
     "name": "stdout",
     "output_type": "stream",
     "text": [
      "Train on 42000 samples, validate on 60000 samples\n",
      "Epoch 1/100\n",
      "42000/42000 [==============================] - 4s 96us/sample - loss: 2.2967 - acc: 0.1649 - val_loss: 2.2988 - val_acc: 0.1186\n",
      "Epoch 2/100\n",
      "42000/42000 [==============================] - 2s 59us/sample - loss: 2.1928 - acc: 0.2370 - val_loss: 2.2479 - val_acc: 0.1508\n",
      "Epoch 3/100\n",
      "42000/42000 [==============================] - 3s 60us/sample - loss: 1.7385 - acc: 0.4391 - val_loss: 2.0640 - val_acc: 0.2539\n",
      "Epoch 4/100\n",
      "42000/42000 [==============================] - 2s 59us/sample - loss: 1.3397 - acc: 0.5983 - val_loss: 1.6285 - val_acc: 0.4034\n",
      "Epoch 5/100\n",
      "42000/42000 [==============================] - 2s 59us/sample - loss: 1.1412 - acc: 0.6535 - val_loss: 1.3401 - val_acc: 0.5519\n",
      "Epoch 6/100\n",
      "42000/42000 [==============================] - 2s 59us/sample - loss: 1.0344 - acc: 0.6844 - val_loss: 1.2245 - val_acc: 0.6109\n",
      "Epoch 7/100\n",
      "42000/42000 [==============================] - 3s 60us/sample - loss: 0.9550 - acc: 0.7089 - val_loss: 1.2057 - val_acc: 0.6101\n",
      "Epoch 8/100\n",
      "42000/42000 [==============================] - 2s 59us/sample - loss: 0.8961 - acc: 0.7231 - val_loss: 1.2302 - val_acc: 0.6214\n",
      "Epoch 9/100\n",
      "42000/42000 [==============================] - 2s 59us/sample - loss: 0.8528 - acc: 0.7353 - val_loss: 1.1182 - val_acc: 0.6464\n",
      "Epoch 10/100\n",
      "42000/42000 [==============================] - 2s 59us/sample - loss: 0.8068 - acc: 0.7504 - val_loss: 1.2529 - val_acc: 0.6184\n",
      "Epoch 11/100\n",
      "42000/42000 [==============================] - 2s 59us/sample - loss: 0.7754 - acc: 0.7616 - val_loss: 1.1991 - val_acc: 0.6373\n",
      "Epoch 12/100\n",
      "42000/42000 [==============================] - 2s 59us/sample - loss: 0.7429 - acc: 0.7712 - val_loss: 1.0239 - val_acc: 0.6836\n",
      "Epoch 13/100\n",
      "42000/42000 [==============================] - 3s 60us/sample - loss: 0.7178 - acc: 0.7771 - val_loss: 0.9159 - val_acc: 0.7107\n",
      "Epoch 14/100\n",
      "42000/42000 [==============================] - 2s 59us/sample - loss: 0.6964 - acc: 0.7842 - val_loss: 1.0407 - val_acc: 0.6618\n",
      "Epoch 15/100\n",
      "42000/42000 [==============================] - 2s 59us/sample - loss: 0.6751 - acc: 0.7916 - val_loss: 0.9041 - val_acc: 0.7184\n",
      "Epoch 16/100\n",
      "42000/42000 [==============================] - 2s 59us/sample - loss: 0.6540 - acc: 0.7978 - val_loss: 0.8079 - val_acc: 0.7487\n",
      "Epoch 17/100\n",
      "42000/42000 [==============================] - 2s 59us/sample - loss: 0.6435 - acc: 0.7998 - val_loss: 0.8901 - val_acc: 0.7190\n",
      "Epoch 18/100\n",
      "42000/42000 [==============================] - 2s 59us/sample - loss: 0.6264 - acc: 0.8060 - val_loss: 0.8771 - val_acc: 0.7290\n",
      "Epoch 19/100\n",
      "42000/42000 [==============================] - 3s 60us/sample - loss: 0.6116 - acc: 0.8090 - val_loss: 0.8513 - val_acc: 0.7359\n",
      "Epoch 20/100\n",
      "42000/42000 [==============================] - 2s 59us/sample - loss: 0.6028 - acc: 0.8126 - val_loss: 0.7270 - val_acc: 0.7714\n",
      "Epoch 21/100\n",
      "42000/42000 [==============================] - 3s 60us/sample - loss: 0.5924 - acc: 0.8170 - val_loss: 0.8571 - val_acc: 0.7275\n",
      "Epoch 22/100\n",
      "42000/42000 [==============================] - 3s 60us/sample - loss: 0.5835 - acc: 0.8204 - val_loss: 1.1475 - val_acc: 0.6573\n",
      "Epoch 23/100\n",
      "42000/42000 [==============================] - 3s 60us/sample - loss: 0.5725 - acc: 0.8223 - val_loss: 0.8243 - val_acc: 0.7509\n",
      "Epoch 24/100\n",
      "42000/42000 [==============================] - 3s 60us/sample - loss: 0.5652 - acc: 0.8251 - val_loss: 0.7666 - val_acc: 0.7590\n",
      "Epoch 25/100\n",
      "42000/42000 [==============================] - 3s 60us/sample - loss: 0.5487 - acc: 0.8309 - val_loss: 0.7310 - val_acc: 0.7719\n",
      "Epoch 26/100\n",
      "42000/42000 [==============================] - 3s 60us/sample - loss: 0.5477 - acc: 0.8282 - val_loss: 0.7577 - val_acc: 0.7571\n",
      "Epoch 27/100\n",
      "42000/42000 [==============================] - 3s 60us/sample - loss: 0.5347 - acc: 0.8326 - val_loss: 0.7017 - val_acc: 0.7879\n",
      "Epoch 28/100\n",
      "42000/42000 [==============================] - 3s 60us/sample - loss: 0.5277 - acc: 0.8364 - val_loss: 0.8744 - val_acc: 0.7311\n",
      "Epoch 29/100\n",
      "42000/42000 [==============================] - 2s 59us/sample - loss: 0.5252 - acc: 0.8364 - val_loss: 1.0833 - val_acc: 0.6805\n",
      "Epoch 30/100\n",
      "42000/42000 [==============================] - 2s 59us/sample - loss: 0.5174 - acc: 0.8400 - val_loss: 0.7185 - val_acc: 0.7720\n",
      "Epoch 31/100\n",
      "42000/42000 [==============================] - 3s 63us/sample - loss: 0.5109 - acc: 0.8416 - val_loss: 0.7365 - val_acc: 0.7767\n",
      "Epoch 32/100\n",
      "42000/42000 [==============================] - 3s 65us/sample - loss: 0.5032 - acc: 0.8417 - val_loss: 0.8308 - val_acc: 0.7460\n",
      "Epoch 33/100\n",
      "42000/42000 [==============================] - 3s 73us/sample - loss: 0.4963 - acc: 0.8451 - val_loss: 0.6914 - val_acc: 0.7842\n",
      "Epoch 34/100\n",
      "42000/42000 [==============================] - 3s 73us/sample - loss: 0.4917 - acc: 0.8460 - val_loss: 0.7364 - val_acc: 0.7713\n",
      "Epoch 35/100\n",
      "42000/42000 [==============================] - 3s 69us/sample - loss: 0.4827 - acc: 0.8500 - val_loss: 0.8990 - val_acc: 0.7301\n",
      "Epoch 36/100\n",
      "42000/42000 [==============================] - 3s 68us/sample - loss: 0.4823 - acc: 0.8483 - val_loss: 0.6732 - val_acc: 0.7944\n",
      "Epoch 37/100\n",
      "42000/42000 [==============================] - 3s 61us/sample - loss: 0.4693 - acc: 0.8531 - val_loss: 0.7815 - val_acc: 0.7520\n",
      "Epoch 38/100\n",
      "42000/42000 [==============================] - 3s 60us/sample - loss: 0.4665 - acc: 0.8545 - val_loss: 0.8100 - val_acc: 0.7437\n",
      "Epoch 39/100\n",
      "42000/42000 [==============================] - 3s 67us/sample - loss: 0.4648 - acc: 0.8547 - val_loss: 0.7577 - val_acc: 0.7642\n",
      "Epoch 40/100\n",
      "42000/42000 [==============================] - 3s 66us/sample - loss: 0.4561 - acc: 0.8585 - val_loss: 0.6398 - val_acc: 0.7993\n",
      "Epoch 41/100\n",
      "42000/42000 [==============================] - 3s 65us/sample - loss: 0.4561 - acc: 0.8575 - val_loss: 0.6576 - val_acc: 0.7972\n",
      "Epoch 42/100\n",
      "42000/42000 [==============================] - 3s 62us/sample - loss: 0.4555 - acc: 0.8567 - val_loss: 0.7442 - val_acc: 0.7707\n",
      "Epoch 43/100\n",
      "42000/42000 [==============================] - 3s 61us/sample - loss: 0.4469 - acc: 0.8609 - val_loss: 0.6120 - val_acc: 0.8091\n",
      "Epoch 44/100\n",
      "42000/42000 [==============================] - 3s 61us/sample - loss: 0.4419 - acc: 0.8631 - val_loss: 0.7132 - val_acc: 0.7796\n",
      "Epoch 45/100\n",
      "42000/42000 [==============================] - 3s 62us/sample - loss: 0.4424 - acc: 0.8626 - val_loss: 0.6421 - val_acc: 0.8028\n",
      "Epoch 46/100\n",
      "42000/42000 [==============================] - 3s 60us/sample - loss: 0.4318 - acc: 0.8644 - val_loss: 0.5829 - val_acc: 0.8206\n",
      "Epoch 47/100\n",
      "42000/42000 [==============================] - 3s 61us/sample - loss: 0.4282 - acc: 0.8654 - val_loss: 0.6936 - val_acc: 0.7873\n",
      "Epoch 48/100\n",
      "42000/42000 [==============================] - 3s 62us/sample - loss: 0.4244 - acc: 0.8670 - val_loss: 0.6742 - val_acc: 0.7979\n",
      "Epoch 49/100\n",
      "42000/42000 [==============================] - 3s 65us/sample - loss: 0.4215 - acc: 0.8687 - val_loss: 0.6657 - val_acc: 0.7925\n",
      "Epoch 50/100\n",
      "42000/42000 [==============================] - 2s 57us/sample - loss: 0.4174 - acc: 0.8697 - val_loss: 0.7413 - val_acc: 0.7718\n",
      "Epoch 51/100\n",
      "42000/42000 [==============================] - 2s 58us/sample - loss: 0.4134 - acc: 0.8722 - val_loss: 0.6707 - val_acc: 0.7959\n",
      "Epoch 52/100\n",
      "42000/42000 [==============================] - 2s 59us/sample - loss: 0.4200 - acc: 0.8689 - val_loss: 0.7156 - val_acc: 0.7821\n",
      "Epoch 53/100\n",
      "42000/42000 [==============================] - 3s 67us/sample - loss: 0.4126 - acc: 0.8713 - val_loss: 0.6773 - val_acc: 0.7928\n",
      "Epoch 54/100\n",
      "42000/42000 [==============================] - 3s 62us/sample - loss: 0.4061 - acc: 0.8726 - val_loss: 0.5802 - val_acc: 0.8199\n",
      "Epoch 55/100\n",
      "42000/42000 [==============================] - 3s 69us/sample - loss: 0.3999 - acc: 0.8752 - val_loss: 0.4981 - val_acc: 0.8457\n",
      "Epoch 56/100\n",
      "42000/42000 [==============================] - 3s 61us/sample - loss: 0.4021 - acc: 0.8742 - val_loss: 0.6816 - val_acc: 0.7952\n",
      "Epoch 57/100\n",
      "42000/42000 [==============================] - 3s 66us/sample - loss: 0.3986 - acc: 0.8754 - val_loss: 0.6212 - val_acc: 0.8102\n",
      "Epoch 58/100\n",
      "42000/42000 [==============================] - 3s 68us/sample - loss: 0.3950 - acc: 0.8770 - val_loss: 0.6399 - val_acc: 0.8038\n",
      "Epoch 59/100\n",
      "42000/42000 [==============================] - 3s 60us/sample - loss: 0.3961 - acc: 0.8749 - val_loss: 0.9166 - val_acc: 0.7363\n",
      "Epoch 60/100\n",
      "42000/42000 [==============================] - 3s 60us/sample - loss: 0.3950 - acc: 0.8759 - val_loss: 0.6527 - val_acc: 0.7987\n",
      "Epoch 61/100\n",
      "42000/42000 [==============================] - 2s 59us/sample - loss: 0.3867 - acc: 0.8781 - val_loss: 0.6024 - val_acc: 0.8143\n",
      "Epoch 62/100\n",
      "42000/42000 [==============================] - 2s 59us/sample - loss: 0.3814 - acc: 0.8803 - val_loss: 0.7807 - val_acc: 0.7619\n",
      "Epoch 63/100\n",
      "42000/42000 [==============================] - 2s 59us/sample - loss: 0.3774 - acc: 0.8822 - val_loss: 0.6551 - val_acc: 0.8012\n",
      "Epoch 64/100\n",
      "42000/42000 [==============================] - 2s 59us/sample - loss: 0.3808 - acc: 0.8796 - val_loss: 0.6346 - val_acc: 0.8079\n",
      "Epoch 65/100\n",
      "42000/42000 [==============================] - 2s 59us/sample - loss: 0.3760 - acc: 0.8823 - val_loss: 0.5749 - val_acc: 0.8274\n",
      "Epoch 66/100\n",
      "42000/42000 [==============================] - 2s 59us/sample - loss: 0.3831 - acc: 0.8799 - val_loss: 0.7535 - val_acc: 0.7726\n",
      "Epoch 67/100\n",
      "42000/42000 [==============================] - 2s 59us/sample - loss: 0.3736 - acc: 0.8831 - val_loss: 0.6633 - val_acc: 0.8012\n",
      "Epoch 68/100\n",
      "42000/42000 [==============================] - 3s 60us/sample - loss: 0.3677 - acc: 0.8848 - val_loss: 0.7042 - val_acc: 0.7854\n",
      "Epoch 69/100\n",
      "42000/42000 [==============================] - 3s 60us/sample - loss: 0.3680 - acc: 0.8844 - val_loss: 0.5007 - val_acc: 0.8507\n",
      "Epoch 70/100\n",
      "42000/42000 [==============================] - 3s 60us/sample - loss: 0.3616 - acc: 0.8864 - val_loss: 0.8037 - val_acc: 0.7544\n",
      "Epoch 71/100\n",
      "42000/42000 [==============================] - 3s 60us/sample - loss: 0.3714 - acc: 0.8834 - val_loss: 0.6013 - val_acc: 0.8158\n",
      "Epoch 72/100\n",
      "42000/42000 [==============================] - 2s 59us/sample - loss: 0.3654 - acc: 0.8849 - val_loss: 0.6173 - val_acc: 0.8062\n",
      "Epoch 73/100\n",
      "42000/42000 [==============================] - 2s 60us/sample - loss: 0.3560 - acc: 0.8873 - val_loss: 0.5409 - val_acc: 0.8336\n",
      "Epoch 74/100\n",
      "42000/42000 [==============================] - 2s 60us/sample - loss: 0.3560 - acc: 0.8889 - val_loss: 0.7157 - val_acc: 0.7896\n",
      "Epoch 75/100\n",
      "42000/42000 [==============================] - 2s 59us/sample - loss: 0.3543 - acc: 0.8884 - val_loss: 0.5779 - val_acc: 0.8198\n",
      "Epoch 76/100\n",
      "42000/42000 [==============================] - 3s 60us/sample - loss: 0.3549 - acc: 0.8887 - val_loss: 0.8236 - val_acc: 0.7596\n",
      "Epoch 77/100\n",
      "42000/42000 [==============================] - 3s 60us/sample - loss: 0.3517 - acc: 0.8887 - val_loss: 0.5831 - val_acc: 0.8219\n",
      "Epoch 78/100\n",
      "42000/42000 [==============================] - 3s 60us/sample - loss: 0.3476 - acc: 0.8907 - val_loss: 0.5879 - val_acc: 0.8237\n",
      "Epoch 79/100\n",
      "42000/42000 [==============================] - 3s 60us/sample - loss: 0.3427 - acc: 0.8936 - val_loss: 0.5882 - val_acc: 0.8171\n",
      "Epoch 80/100\n",
      "42000/42000 [==============================] - 3s 60us/sample - loss: 0.3489 - acc: 0.8898 - val_loss: 0.5518 - val_acc: 0.8290\n",
      "Epoch 81/100\n",
      "42000/42000 [==============================] - 3s 60us/sample - loss: 0.3365 - acc: 0.8936 - val_loss: 0.6111 - val_acc: 0.8138\n",
      "Epoch 82/100\n",
      "42000/42000 [==============================] - 2s 59us/sample - loss: 0.3412 - acc: 0.8923 - val_loss: 0.6224 - val_acc: 0.8078\n",
      "Epoch 83/100\n",
      "42000/42000 [==============================] - 2s 59us/sample - loss: 0.3373 - acc: 0.8944 - val_loss: 0.5428 - val_acc: 0.8362\n",
      "Epoch 84/100\n",
      "42000/42000 [==============================] - 2s 59us/sample - loss: 0.3347 - acc: 0.8945 - val_loss: 0.7931 - val_acc: 0.7701\n",
      "Epoch 85/100\n",
      "42000/42000 [==============================] - 2s 60us/sample - loss: 0.3350 - acc: 0.8943 - val_loss: 0.5574 - val_acc: 0.8304\n",
      "Epoch 86/100\n",
      "42000/42000 [==============================] - 3s 60us/sample - loss: 0.3325 - acc: 0.8942 - val_loss: 0.5653 - val_acc: 0.8276\n",
      "Epoch 87/100\n",
      "42000/42000 [==============================] - 3s 60us/sample - loss: 0.3343 - acc: 0.8946 - val_loss: 0.6416 - val_acc: 0.8072\n",
      "Epoch 88/100\n",
      "42000/42000 [==============================] - 2s 59us/sample - loss: 0.3352 - acc: 0.8941 - val_loss: 0.7083 - val_acc: 0.7957\n",
      "Epoch 89/100\n",
      "42000/42000 [==============================] - 3s 60us/sample - loss: 0.3279 - acc: 0.8960 - val_loss: 0.6582 - val_acc: 0.8005\n",
      "Epoch 90/100\n",
      "42000/42000 [==============================] - 3s 62us/sample - loss: 0.3263 - acc: 0.8972 - val_loss: 0.5997 - val_acc: 0.8184\n",
      "Epoch 91/100\n",
      "42000/42000 [==============================] - 3s 68us/sample - loss: 0.3224 - acc: 0.8977 - val_loss: 0.6825 - val_acc: 0.7934\n",
      "Epoch 92/100\n",
      "42000/42000 [==============================] - 3s 66us/sample - loss: 0.3227 - acc: 0.8988 - val_loss: 0.7814 - val_acc: 0.7705\n",
      "Epoch 93/100\n",
      "42000/42000 [==============================] - 3s 61us/sample - loss: 0.3180 - acc: 0.8995 - val_loss: 0.7768 - val_acc: 0.7710\n",
      "Epoch 94/100\n",
      "42000/42000 [==============================] - 3s 61us/sample - loss: 0.3243 - acc: 0.8960 - val_loss: 0.6741 - val_acc: 0.7997\n",
      "Epoch 95/100\n",
      "42000/42000 [==============================] - 3s 61us/sample - loss: 0.3221 - acc: 0.8987 - val_loss: 0.5819 - val_acc: 0.8228\n",
      "Epoch 96/100\n",
      "42000/42000 [==============================] - 3s 61us/sample - loss: 0.3190 - acc: 0.8994 - val_loss: 0.7273 - val_acc: 0.7857\n",
      "Epoch 97/100\n",
      "42000/42000 [==============================] - 3s 61us/sample - loss: 0.3190 - acc: 0.8983 - val_loss: 0.5443 - val_acc: 0.8359\n",
      "Epoch 98/100\n",
      "42000/42000 [==============================] - 3s 61us/sample - loss: 0.3132 - acc: 0.9015 - val_loss: 0.5493 - val_acc: 0.8360\n",
      "Epoch 99/100\n",
      "42000/42000 [==============================] - 3s 61us/sample - loss: 0.3158 - acc: 0.9009 - val_loss: 0.5575 - val_acc: 0.8377\n",
      "Epoch 100/100\n",
      "42000/42000 [==============================] - 3s 61us/sample - loss: 0.3110 - acc: 0.9013 - val_loss: 0.5747 - val_acc: 0.8291\n"
     ]
    }
   ],
   "source": [
    "mod5 = mlp_model()\n",
    "history_batch = mod5.fit(X_train_reNew, y_train, batch_size = 200, validation_data=(X_val_reNew,y_val), epochs = 100, verbose = 1)"
   ]
  },
  {
   "cell_type": "code",
   "execution_count": 65,
   "metadata": {},
   "outputs": [
    {
     "name": "stdout",
     "output_type": "stream",
     "text": [
      "Model: \"sequential_3\"\n",
      "_________________________________________________________________\n",
      "Layer (type)                 Output Shape              Param #   \n",
      "=================================================================\n",
      "flatten_3 (Flatten)          multiple                  0         \n",
      "_________________________________________________________________\n",
      "dense_10 (Dense)             multiple                  51250     \n",
      "_________________________________________________________________\n",
      "batch_normalization (BatchNo multiple                  200       \n",
      "_________________________________________________________________\n",
      "activation_10 (Activation)   multiple                  0         \n",
      "_________________________________________________________________\n",
      "dense_11 (Dense)             multiple                  2550      \n",
      "_________________________________________________________________\n",
      "batch_normalization_1 (Batch multiple                  200       \n",
      "_________________________________________________________________\n",
      "activation_11 (Activation)   multiple                  0         \n",
      "_________________________________________________________________\n",
      "dense_12 (Dense)             multiple                  2550      \n",
      "_________________________________________________________________\n",
      "batch_normalization_2 (Batch multiple                  200       \n",
      "_________________________________________________________________\n",
      "activation_12 (Activation)   multiple                  0         \n",
      "_________________________________________________________________\n",
      "dense_13 (Dense)             multiple                  2550      \n",
      "_________________________________________________________________\n",
      "batch_normalization_3 (Batch multiple                  200       \n",
      "_________________________________________________________________\n",
      "activation_13 (Activation)   multiple                  0         \n",
      "_________________________________________________________________\n",
      "dense_14 (Dense)             multiple                  510       \n",
      "_________________________________________________________________\n",
      "activation_14 (Activation)   multiple                  0         \n",
      "=================================================================\n",
      "Total params: 60,210\n",
      "Trainable params: 59,810\n",
      "Non-trainable params: 400\n",
      "_________________________________________________________________\n"
     ]
    }
   ],
   "source": [
    "mod5.summary()"
   ]
  },
  {
   "cell_type": "code",
   "execution_count": 66,
   "metadata": {},
   "outputs": [
    {
     "data": {
      "image/png": "[encoded data removed]",
      "text/plain": [
       "<Figure size 432x288 with 1 Axes>"
      ]
     },
     "metadata": {
      "needs_background": "light"
     },
     "output_type": "display_data"
    }
   ],
   "source": [
    "#Accuracy Plot\n",
    "plt.plot(history_batch.history['acc'])\n",
    "plt.plot(history_batch.history['val_acc'])\n",
    "plt.title('model accuracy')\n",
    "plt.ylabel('accuracy')\n",
    "plt.xlabel('epoch')\n",
    "plt.legend(['train', 'test'], loc='upper left')\n",
    "plt.show()"
   ]
  },
  {
   "cell_type": "code",
   "execution_count": 67,
   "metadata": {},
   "outputs": [
    {
     "data": {
      "image/png": "[encoded data removed]",
      "text/plain": [
       "<Figure size 432x288 with 1 Axes>"
      ]
     },
     "metadata": {
      "needs_background": "light"
     },
     "output_type": "display_data"
    }
   ],
   "source": [
    "#Loss Plot\n",
    "plt.plot(history_batch.history['loss'])\n",
    "plt.plot(history_batch.history['val_loss'])\n",
    "plt.title('model loss')\n",
    "plt.ylabel('loss')\n",
    "plt.xlabel('epoch')\n",
    "plt.legend(['train', 'test'], loc='upper left')\n",
    "plt.show()"
   ]
  },
  {
   "cell_type": "code",
   "execution_count": 68,
   "metadata": {},
   "outputs": [
    {
     "name": "stdout",
     "output_type": "stream",
     "text": [
      "18000/18000 [==============================] - 1s 57us/sample - loss: 0.7938 - acc: 0.7856\n"
     ]
    }
   ],
   "source": [
    "res5= mod5.evaluate(X_test_reNew, y_test)"
   ]
  },
  {
   "cell_type": "code",
   "execution_count": 69,
   "metadata": {},
   "outputs": [
    {
     "name": "stdout",
     "output_type": "stream",
     "text": [
      "Accuracy\n",
      "18000/18000 [==============================] - 1s 56us/sample - loss: 0.7938 - acc: 0.7856\n",
      "0.78555554\n",
      "[[1387   56   12   66  166   12   38   42   11   24]\n",
      " [  12 1430    8   94  175    9   10   69   14    7]\n",
      " [   9   23 1335  139   78   18    6  151   17   27]\n",
      " [   6   19   21 1447   45   87   21   39   25    9]\n",
      " [  13   29   17   46 1648    9   18   11    7   14]\n",
      " [   4   14    5  206   50 1350   82   22   24   11]\n",
      " [  16   21    5   59  121   72 1449   15   62   12]\n",
      " [   6   53   27   71   49   11    4 1577    5    5]\n",
      " [  21   35   21  145  103   59   95   27 1271   35]\n",
      " [  43   37   30  104  140   87   33   48   36 1246]]\n",
      "              precision    recall  f1-score   support\n",
      "\n",
      "           0       0.76      0.91      0.83      1517\n",
      "           1       0.78      0.83      0.81      1717\n",
      "           2       0.74      0.90      0.81      1481\n",
      "           3       0.84      0.61      0.71      2377\n",
      "           4       0.91      0.64      0.75      2575\n",
      "           5       0.76      0.79      0.78      1714\n",
      "           6       0.79      0.83      0.81      1756\n",
      "           7       0.87      0.79      0.83      2001\n",
      "           8       0.70      0.86      0.77      1472\n",
      "           9       0.69      0.90      0.78      1390\n",
      "\n",
      "    accuracy                           0.79     18000\n",
      "   macro avg       0.79      0.81      0.79     18000\n",
      "weighted avg       0.80      0.79      0.78     18000\n",
      "\n"
     ]
    },
    {
     "data": {
      "text/html": [
       "<div>\n",
       "<style scoped>\n",
       "    .dataframe tbody tr th:only-of-type {\n",
       "        vertical-align: middle;\n",
       "    }\n",
       "\n",
       "    .dataframe tbody tr th {\n",
       "        vertical-align: top;\n",
       "    }\n",
       "\n",
       "    .dataframe thead th {\n",
       "        text-align: right;\n",
       "    }\n",
       "</style>\n",
       "<table border=\"1\" class=\"dataframe\">\n",
       "  <thead>\n",
       "    <tr style=\"text-align: right;\">\n",
       "      <th></th>\n",
       "      <th>Test accuracy</th>\n",
       "      <th>F1 score</th>\n",
       "      <th>ROC AUC score</th>\n",
       "      <th>Total Loss</th>\n",
       "    </tr>\n",
       "  </thead>\n",
       "  <tbody>\n",
       "    <tr>\n",
       "      <th>0</th>\n",
       "      <td>78.556</td>\n",
       "      <td>0.786</td>\n",
       "      <td>0.973</td>\n",
       "      <td>0.794</td>\n",
       "    </tr>\n",
       "  </tbody>\n",
       "</table>\n",
       "</div>"
      ],
      "text/plain": [
       "   Test accuracy  F1 score  ROC AUC score  Total Loss\n",
       "0         78.556     0.786          0.973       0.794"
      ]
     },
     "metadata": {},
     "output_type": "display_data"
    }
   ],
   "source": [
    "Y_pred_cls_7layer = mod5.predict_classes(X_test_reNew, batch_size=200, verbose=0)\n",
    "\n",
    "print('Accuracy') \n",
    "print( str(mod5.evaluate(X_test_reNew,y_test)[1]) )\n",
    "\n",
    "label_7layer=np.argmax(y_test.T, axis=0)\n",
    "print(confusion_matrix(label_7layer, Y_pred_cls_7layer))\n",
    "print(classification_report(Y_pred_cls_7layer, label_7layer))\n",
    "\n",
    "#create evaluation dataframe\n",
    "stats_5 = pd.DataFrame({'Test accuracy' :  round(res5[1]*100,3),\n",
    "                      'F1 score'      : round(f1_score(label_7layer, Y_pred_cls_7layer, average='micro'),3),\n",
    "                      'ROC AUC score' : round(roc_auc_score(y_test, mod5.predict_proba(X_test_reNew)),3),\n",
    "                      'Total Loss'    : round(res5[0],3)}, index=[0])\n",
    "#print evaluation dataframe\n",
    "display(stats_5)"
   ]
  },
  {
   "cell_type": "code",
   "execution_count": 70,
   "metadata": {},
   "outputs": [
    {
     "data": {
      "text/html": [
       "<div>\n",
       "<style scoped>\n",
       "    .dataframe tbody tr th:only-of-type {\n",
       "        vertical-align: middle;\n",
       "    }\n",
       "\n",
       "    .dataframe tbody tr th {\n",
       "        vertical-align: top;\n",
       "    }\n",
       "\n",
       "    .dataframe thead th {\n",
       "        text-align: right;\n",
       "    }\n",
       "</style>\n",
       "<table border=\"1\" class=\"dataframe\">\n",
       "  <thead>\n",
       "    <tr style=\"text-align: right;\">\n",
       "      <th></th>\n",
       "      <th>Models</th>\n",
       "      <th>loss</th>\n",
       "      <th>Accuracy</th>\n",
       "    </tr>\n",
       "  </thead>\n",
       "  <tbody>\n",
       "    <tr>\n",
       "      <th>1</th>\n",
       "      <td>Adam with one Layer</td>\n",
       "      <td>0.678502</td>\n",
       "      <td>0.809778</td>\n",
       "    </tr>\n",
       "    <tr>\n",
       "      <th>2</th>\n",
       "      <td>Adam with two Layer</td>\n",
       "      <td>0.628856</td>\n",
       "      <td>0.831722</td>\n",
       "    </tr>\n",
       "    <tr>\n",
       "      <th>3</th>\n",
       "      <td>adam with 4 Layers</td>\n",
       "      <td>0.858889</td>\n",
       "      <td>0.730111</td>\n",
       "    </tr>\n",
       "    <tr>\n",
       "      <th>4</th>\n",
       "      <td>Random Weights</td>\n",
       "      <td>2.302752</td>\n",
       "      <td>0.095500</td>\n",
       "    </tr>\n",
       "    <tr>\n",
       "      <th>5</th>\n",
       "      <td>Relu</td>\n",
       "      <td>1.036408</td>\n",
       "      <td>0.670333</td>\n",
       "    </tr>\n",
       "    <tr>\n",
       "      <th>6</th>\n",
       "      <td>sigmoid</td>\n",
       "      <td>0.793837</td>\n",
       "      <td>0.785556</td>\n",
       "    </tr>\n",
       "  </tbody>\n",
       "</table>\n",
       "</div>"
      ],
      "text/plain": [
       "                Models      loss  Accuracy\n",
       "1  Adam with one Layer  0.678502  0.809778\n",
       "2  Adam with two Layer  0.628856  0.831722\n",
       "3   adam with 4 Layers  0.858889  0.730111\n",
       "4       Random Weights  2.302752  0.095500\n",
       "5                 Relu  1.036408  0.670333\n",
       "6              sigmoid  0.793837  0.785556"
      ]
     },
     "execution_count": 70,
     "metadata": {},
     "output_type": "execute_result"
    }
   ],
   "source": [
    "temp_df = pd.DataFrame({'Models':['sigmoid'],'loss': res5[0], 'Accuracy': [res5[1]]},index={'6'})\n",
    "final_df= pd.concat([final_df, temp_df])\n",
    "final_df"
   ]
  },
  {
   "cell_type": "markdown",
   "metadata": {},
   "source": [
    "### Dropout"
   ]
  },
  {
   "cell_type": "code",
   "execution_count": 71,
   "metadata": {},
   "outputs": [],
   "source": [
    "def mlp_model():\n",
    "    model = Sequential()\n",
    "    model.add(Flatten())\n",
    "    model.add(Dense(50, input_shape = (1024, ), kernel_initializer='uniform'))\n",
    "    model.add(BatchNormalization())\n",
    "    model.add(Activation('relu'))\n",
    "    model.add(Dropout(0.2))\n",
    "    model.add(Dense(50, kernel_initializer='uniform'))\n",
    "    model.add(BatchNormalization())\n",
    "    model.add(Activation('relu'))    \n",
    "    model.add(Dropout(0.2))\n",
    "    model.add(Dense(10, kernel_initializer='uniform'))\n",
    "    model.add(Activation('softmax'))\n",
    "    \n",
    "    adam = optimizers.Adam(lr = 0.001)\n",
    "    model.compile(optimizer = adam, loss = 'categorical_crossentropy', metrics = ['accuracy'])\n",
    "    \n",
    "    return model"
   ]
  },
  {
   "cell_type": "code",
   "execution_count": 72,
   "metadata": {
    "scrolled": false
   },
   "outputs": [
    {
     "name": "stdout",
     "output_type": "stream",
     "text": [
      "Train on 42000 samples, validate on 60000 samples\n",
      "Epoch 1/100\n",
      "42000/42000 [==============================] - 4s 84us/sample - loss: 1.8412 - acc: 0.3701 - val_loss: 1.8734 - val_acc: 0.4349\n",
      "Epoch 2/100\n",
      "42000/42000 [==============================] - 2s 58us/sample - loss: 1.3338 - acc: 0.5595 - val_loss: 1.4483 - val_acc: 0.5273\n",
      "Epoch 3/100\n",
      "42000/42000 [==============================] - 2s 56us/sample - loss: 1.2040 - acc: 0.6053 - val_loss: 1.1609 - val_acc: 0.6603\n",
      "Epoch 4/100\n",
      "42000/42000 [==============================] - 2s 57us/sample - loss: 1.1314 - acc: 0.6309 - val_loss: 1.1898 - val_acc: 0.6138\n",
      "Epoch 5/100\n",
      "42000/42000 [==============================] - 3s 62us/sample - loss: 1.0888 - acc: 0.6486 - val_loss: 0.9668 - val_acc: 0.7011\n",
      "Epoch 6/100\n",
      "42000/42000 [==============================] - 2s 57us/sample - loss: 1.0481 - acc: 0.6627 - val_loss: 1.1119 - val_acc: 0.6466\n",
      "Epoch 7/100\n",
      "42000/42000 [==============================] - 2s 55us/sample - loss: 1.0168 - acc: 0.6729 - val_loss: 0.9735 - val_acc: 0.6903\n",
      "Epoch 8/100\n",
      "42000/42000 [==============================] - 2s 55us/sample - loss: 0.9949 - acc: 0.6843 - val_loss: 0.9701 - val_acc: 0.7006\n",
      "Epoch 9/100\n",
      "42000/42000 [==============================] - 2s 55us/sample - loss: 0.9834 - acc: 0.6870 - val_loss: 0.9618 - val_acc: 0.6985\n",
      "Epoch 10/100\n",
      "42000/42000 [==============================] - 2s 56us/sample - loss: 0.9603 - acc: 0.6911 - val_loss: 1.1206 - val_acc: 0.6547\n",
      "Epoch 11/100\n",
      "42000/42000 [==============================] - 2s 55us/sample - loss: 0.9495 - acc: 0.6974 - val_loss: 0.9422 - val_acc: 0.6925\n",
      "Epoch 12/100\n",
      "42000/42000 [==============================] - 2s 55us/sample - loss: 0.9436 - acc: 0.7012 - val_loss: 0.9103 - val_acc: 0.7114\n",
      "Epoch 13/100\n",
      "42000/42000 [==============================] - 3s 62us/sample - loss: 0.9224 - acc: 0.7073 - val_loss: 1.0293 - val_acc: 0.6628\n",
      "Epoch 14/100\n",
      "42000/42000 [==============================] - 3s 66us/sample - loss: 0.9180 - acc: 0.7088 - val_loss: 0.9121 - val_acc: 0.7128\n",
      "Epoch 15/100\n",
      "42000/42000 [==============================] - 3s 65us/sample - loss: 0.9072 - acc: 0.7132 - val_loss: 0.9054 - val_acc: 0.7110\n",
      "Epoch 16/100\n",
      "42000/42000 [==============================] - 2s 57us/sample - loss: 0.8964 - acc: 0.7145 - val_loss: 0.8665 - val_acc: 0.7350\n",
      "Epoch 17/100\n",
      "42000/42000 [==============================] - 2s 56us/sample - loss: 0.9010 - acc: 0.7150 - val_loss: 0.8388 - val_acc: 0.7437\n",
      "Epoch 18/100\n",
      "42000/42000 [==============================] - 2s 56us/sample - loss: 0.8884 - acc: 0.7192 - val_loss: 0.7570 - val_acc: 0.7631\n",
      "Epoch 19/100\n",
      "42000/42000 [==============================] - 2s 56us/sample - loss: 0.8833 - acc: 0.7178 - val_loss: 1.4095 - val_acc: 0.6011\n",
      "Epoch 20/100\n",
      "42000/42000 [==============================] - 2s 55us/sample - loss: 0.8752 - acc: 0.7237 - val_loss: 0.7744 - val_acc: 0.7596\n",
      "Epoch 21/100\n",
      "42000/42000 [==============================] - 2s 55us/sample - loss: 0.8656 - acc: 0.7258 - val_loss: 0.8321 - val_acc: 0.7439\n",
      "Epoch 22/100\n",
      "42000/42000 [==============================] - 2s 55us/sample - loss: 0.8637 - acc: 0.7255 - val_loss: 0.8675 - val_acc: 0.7309\n",
      "Epoch 23/100\n",
      "42000/42000 [==============================] - 2s 56us/sample - loss: 0.8582 - acc: 0.7270 - val_loss: 0.8915 - val_acc: 0.7165\n",
      "Epoch 24/100\n",
      "42000/42000 [==============================] - 2s 55us/sample - loss: 0.8619 - acc: 0.7265 - val_loss: 0.7835 - val_acc: 0.7585\n",
      "Epoch 25/100\n",
      "42000/42000 [==============================] - 2s 55us/sample - loss: 0.8597 - acc: 0.7282 - val_loss: 0.8347 - val_acc: 0.7303\n",
      "Epoch 26/100\n",
      "42000/42000 [==============================] - 2s 55us/sample - loss: 0.8501 - acc: 0.7301 - val_loss: 0.7808 - val_acc: 0.7637\n",
      "Epoch 27/100\n",
      "42000/42000 [==============================] - 2s 55us/sample - loss: 0.8560 - acc: 0.7305 - val_loss: 0.7717 - val_acc: 0.7669\n",
      "Epoch 28/100\n",
      "42000/42000 [==============================] - 2s 55us/sample - loss: 0.8462 - acc: 0.7320 - val_loss: 0.8094 - val_acc: 0.7454\n",
      "Epoch 29/100\n",
      "42000/42000 [==============================] - 2s 55us/sample - loss: 0.8410 - acc: 0.7329 - val_loss: 0.9946 - val_acc: 0.6814\n",
      "Epoch 30/100\n",
      "42000/42000 [==============================] - 2s 55us/sample - loss: 0.8407 - acc: 0.7349 - val_loss: 0.7724 - val_acc: 0.7624\n",
      "Epoch 31/100\n",
      "42000/42000 [==============================] - 2s 56us/sample - loss: 0.8374 - acc: 0.7343 - val_loss: 0.7166 - val_acc: 0.7830\n",
      "Epoch 32/100\n",
      "42000/42000 [==============================] - 2s 55us/sample - loss: 0.8355 - acc: 0.7365 - val_loss: 0.8094 - val_acc: 0.7507\n",
      "Epoch 33/100\n",
      "42000/42000 [==============================] - 2s 55us/sample - loss: 0.8274 - acc: 0.7365 - val_loss: 0.9076 - val_acc: 0.7027\n",
      "Epoch 34/100\n",
      "42000/42000 [==============================] - 2s 55us/sample - loss: 0.8286 - acc: 0.7367 - val_loss: 0.8409 - val_acc: 0.7353\n",
      "Epoch 35/100\n",
      "42000/42000 [==============================] - 2s 56us/sample - loss: 0.8283 - acc: 0.7398 - val_loss: 0.7359 - val_acc: 0.7767\n",
      "Epoch 36/100\n",
      "42000/42000 [==============================] - 2s 55us/sample - loss: 0.8230 - acc: 0.7395 - val_loss: 0.7773 - val_acc: 0.7617\n",
      "Epoch 37/100\n",
      "42000/42000 [==============================] - 2s 55us/sample - loss: 0.8192 - acc: 0.7405 - val_loss: 0.8373 - val_acc: 0.7381\n",
      "Epoch 38/100\n",
      "42000/42000 [==============================] - 2s 56us/sample - loss: 0.8219 - acc: 0.7387 - val_loss: 0.9230 - val_acc: 0.6967\n",
      "Epoch 39/100\n",
      "42000/42000 [==============================] - 2s 55us/sample - loss: 0.8134 - acc: 0.7427 - val_loss: 0.7306 - val_acc: 0.7770\n",
      "Epoch 40/100\n",
      "42000/42000 [==============================] - 2s 56us/sample - loss: 0.8167 - acc: 0.7443 - val_loss: 0.7546 - val_acc: 0.7726\n",
      "Epoch 41/100\n",
      "42000/42000 [==============================] - 2s 56us/sample - loss: 0.8181 - acc: 0.7406 - val_loss: 0.8193 - val_acc: 0.7396\n",
      "Epoch 42/100\n",
      "42000/42000 [==============================] - 2s 55us/sample - loss: 0.8089 - acc: 0.7444 - val_loss: 0.6937 - val_acc: 0.7954\n",
      "Epoch 43/100\n",
      "42000/42000 [==============================] - 2s 55us/sample - loss: 0.8082 - acc: 0.7445 - val_loss: 0.8933 - val_acc: 0.7200\n",
      "Epoch 44/100\n",
      "42000/42000 [==============================] - 2s 55us/sample - loss: 0.8084 - acc: 0.7419 - val_loss: 0.7790 - val_acc: 0.7594\n",
      "Epoch 45/100\n",
      "42000/42000 [==============================] - 2s 56us/sample - loss: 0.8053 - acc: 0.7422 - val_loss: 0.6469 - val_acc: 0.8045\n",
      "Epoch 46/100\n",
      "42000/42000 [==============================] - 2s 56us/sample - loss: 0.8008 - acc: 0.7476 - val_loss: 0.7452 - val_acc: 0.7652\n",
      "Epoch 47/100\n",
      "42000/42000 [==============================] - 2s 56us/sample - loss: 0.7988 - acc: 0.7445 - val_loss: 0.7268 - val_acc: 0.7710\n",
      "Epoch 48/100\n",
      "42000/42000 [==============================] - 2s 55us/sample - loss: 0.8018 - acc: 0.7443 - val_loss: 0.6983 - val_acc: 0.7944\n",
      "Epoch 49/100\n",
      "42000/42000 [==============================] - 2s 56us/sample - loss: 0.7996 - acc: 0.7463 - val_loss: 0.7396 - val_acc: 0.7688\n",
      "Epoch 50/100\n",
      "42000/42000 [==============================] - 2s 55us/sample - loss: 0.8000 - acc: 0.7462 - val_loss: 0.7696 - val_acc: 0.7591\n",
      "Epoch 51/100\n",
      "42000/42000 [==============================] - 2s 55us/sample - loss: 0.7999 - acc: 0.7463 - val_loss: 0.6854 - val_acc: 0.7904\n",
      "Epoch 52/100\n",
      "42000/42000 [==============================] - 2s 55us/sample - loss: 0.7908 - acc: 0.7493 - val_loss: 0.8929 - val_acc: 0.7192\n",
      "Epoch 53/100\n",
      "42000/42000 [==============================] - 2s 56us/sample - loss: 0.7951 - acc: 0.7472 - val_loss: 0.8553 - val_acc: 0.7290\n",
      "Epoch 54/100\n",
      "42000/42000 [==============================] - 2s 56us/sample - loss: 0.7943 - acc: 0.7483 - val_loss: 0.6895 - val_acc: 0.7884\n",
      "Epoch 55/100\n",
      "42000/42000 [==============================] - 2s 55us/sample - loss: 0.7907 - acc: 0.7508 - val_loss: 0.7273 - val_acc: 0.7750\n",
      "Epoch 56/100\n",
      "42000/42000 [==============================] - 2s 55us/sample - loss: 0.7826 - acc: 0.7538 - val_loss: 0.8028 - val_acc: 0.7511\n",
      "Epoch 57/100\n",
      "42000/42000 [==============================] - 2s 58us/sample - loss: 0.7894 - acc: 0.7510 - val_loss: 0.7001 - val_acc: 0.7803\n",
      "Epoch 58/100\n",
      "42000/42000 [==============================] - 2s 56us/sample - loss: 0.7868 - acc: 0.7486 - val_loss: 0.7308 - val_acc: 0.7713\n",
      "Epoch 59/100\n",
      "42000/42000 [==============================] - 2s 55us/sample - loss: 0.7880 - acc: 0.7514 - val_loss: 0.7154 - val_acc: 0.7803\n",
      "Epoch 60/100\n",
      "42000/42000 [==============================] - 2s 55us/sample - loss: 0.7820 - acc: 0.7505 - val_loss: 0.7237 - val_acc: 0.7848\n",
      "Epoch 61/100\n",
      "42000/42000 [==============================] - 2s 55us/sample - loss: 0.7879 - acc: 0.7510 - val_loss: 0.7489 - val_acc: 0.7692\n",
      "Epoch 62/100\n",
      "42000/42000 [==============================] - 2s 55us/sample - loss: 0.7837 - acc: 0.7511 - val_loss: 0.7289 - val_acc: 0.7711\n",
      "Epoch 63/100\n",
      "42000/42000 [==============================] - 2s 55us/sample - loss: 0.7811 - acc: 0.7507 - val_loss: 0.7202 - val_acc: 0.7750\n",
      "Epoch 64/100\n",
      "42000/42000 [==============================] - 2s 55us/sample - loss: 0.7855 - acc: 0.7524 - val_loss: 0.7823 - val_acc: 0.7525\n",
      "Epoch 65/100\n",
      "42000/42000 [==============================] - 2s 55us/sample - loss: 0.7841 - acc: 0.7520 - val_loss: 0.8287 - val_acc: 0.7313\n",
      "Epoch 66/100\n",
      "42000/42000 [==============================] - 2s 55us/sample - loss: 0.7738 - acc: 0.7564 - val_loss: 0.7525 - val_acc: 0.7662\n",
      "Epoch 67/100\n",
      "42000/42000 [==============================] - 2s 55us/sample - loss: 0.7747 - acc: 0.7528 - val_loss: 0.6961 - val_acc: 0.7867\n",
      "Epoch 68/100\n",
      "42000/42000 [==============================] - 2s 55us/sample - loss: 0.7762 - acc: 0.7559 - val_loss: 0.7160 - val_acc: 0.7716\n",
      "Epoch 69/100\n",
      "42000/42000 [==============================] - 2s 55us/sample - loss: 0.7784 - acc: 0.7536 - val_loss: 0.7766 - val_acc: 0.7547\n",
      "Epoch 70/100\n",
      "42000/42000 [==============================] - 2s 55us/sample - loss: 0.7770 - acc: 0.7542 - val_loss: 0.6764 - val_acc: 0.7907\n",
      "Epoch 71/100\n",
      "42000/42000 [==============================] - 2s 55us/sample - loss: 0.7771 - acc: 0.7534 - val_loss: 0.6811 - val_acc: 0.7987\n",
      "Epoch 72/100\n",
      "42000/42000 [==============================] - 2s 55us/sample - loss: 0.7709 - acc: 0.7554 - val_loss: 0.6712 - val_acc: 0.7929\n",
      "Epoch 73/100\n",
      "42000/42000 [==============================] - 2s 55us/sample - loss: 0.7756 - acc: 0.7533 - val_loss: 0.8968 - val_acc: 0.7183\n",
      "Epoch 74/100\n",
      "42000/42000 [==============================] - 2s 55us/sample - loss: 0.7725 - acc: 0.7550 - val_loss: 0.6322 - val_acc: 0.8135\n",
      "Epoch 75/100\n",
      "42000/42000 [==============================] - 2s 55us/sample - loss: 0.7725 - acc: 0.7552 - val_loss: 0.9207 - val_acc: 0.7130\n",
      "Epoch 76/100\n",
      "42000/42000 [==============================] - 2s 55us/sample - loss: 0.7687 - acc: 0.7548 - val_loss: 0.7622 - val_acc: 0.7675\n",
      "Epoch 77/100\n",
      "42000/42000 [==============================] - 2s 55us/sample - loss: 0.7650 - acc: 0.7572 - val_loss: 0.6981 - val_acc: 0.7846\n",
      "Epoch 78/100\n",
      "42000/42000 [==============================] - 2s 55us/sample - loss: 0.7738 - acc: 0.7547 - val_loss: 0.6905 - val_acc: 0.7825\n",
      "Epoch 79/100\n",
      "42000/42000 [==============================] - 2s 55us/sample - loss: 0.7669 - acc: 0.7565 - val_loss: 0.7328 - val_acc: 0.7787\n",
      "Epoch 80/100\n",
      "42000/42000 [==============================] - 2s 55us/sample - loss: 0.7735 - acc: 0.7561 - val_loss: 0.6998 - val_acc: 0.7827\n",
      "Epoch 81/100\n",
      "42000/42000 [==============================] - 2s 56us/sample - loss: 0.7680 - acc: 0.7576 - val_loss: 0.7681 - val_acc: 0.7601\n",
      "Epoch 82/100\n",
      "42000/42000 [==============================] - 2s 55us/sample - loss: 0.7717 - acc: 0.7560 - val_loss: 0.7399 - val_acc: 0.7734\n",
      "Epoch 83/100\n",
      "42000/42000 [==============================] - 2s 55us/sample - loss: 0.7601 - acc: 0.7603 - val_loss: 0.7437 - val_acc: 0.7624\n",
      "Epoch 84/100\n",
      "42000/42000 [==============================] - 2s 55us/sample - loss: 0.7657 - acc: 0.7555 - val_loss: 0.7354 - val_acc: 0.7736\n",
      "Epoch 85/100\n",
      "42000/42000 [==============================] - 2s 55us/sample - loss: 0.7657 - acc: 0.7574 - val_loss: 0.6984 - val_acc: 0.7870\n",
      "Epoch 86/100\n",
      "42000/42000 [==============================] - 2s 57us/sample - loss: 0.7645 - acc: 0.7586 - val_loss: 0.7333 - val_acc: 0.7668\n",
      "Epoch 87/100\n",
      "42000/42000 [==============================] - 2s 56us/sample - loss: 0.7654 - acc: 0.7563 - val_loss: 0.6856 - val_acc: 0.7861\n",
      "Epoch 88/100\n",
      "42000/42000 [==============================] - 2s 55us/sample - loss: 0.7554 - acc: 0.7607 - val_loss: 0.6899 - val_acc: 0.7908\n",
      "Epoch 89/100\n",
      "42000/42000 [==============================] - 2s 56us/sample - loss: 0.7662 - acc: 0.7574 - val_loss: 0.6576 - val_acc: 0.7981\n",
      "Epoch 90/100\n",
      "42000/42000 [==============================] - 2s 56us/sample - loss: 0.7600 - acc: 0.7599 - val_loss: 0.7518 - val_acc: 0.7646\n",
      "Epoch 91/100\n",
      "42000/42000 [==============================] - 2s 56us/sample - loss: 0.7598 - acc: 0.7607 - val_loss: 0.6202 - val_acc: 0.8133\n",
      "Epoch 92/100\n",
      "42000/42000 [==============================] - 2s 55us/sample - loss: 0.7627 - acc: 0.7569 - val_loss: 0.6954 - val_acc: 0.7857\n",
      "Epoch 93/100\n",
      "42000/42000 [==============================] - 2s 55us/sample - loss: 0.7587 - acc: 0.7590 - val_loss: 0.7393 - val_acc: 0.7749\n",
      "Epoch 94/100\n",
      "42000/42000 [==============================] - 2s 55us/sample - loss: 0.7619 - acc: 0.7596 - val_loss: 0.7415 - val_acc: 0.7694\n",
      "Epoch 95/100\n",
      "42000/42000 [==============================] - 2s 55us/sample - loss: 0.7593 - acc: 0.7596 - val_loss: 0.6140 - val_acc: 0.8180\n",
      "Epoch 96/100\n",
      "42000/42000 [==============================] - 2s 55us/sample - loss: 0.7551 - acc: 0.7596 - val_loss: 0.6355 - val_acc: 0.8062\n",
      "Epoch 97/100\n",
      "42000/42000 [==============================] - 2s 55us/sample - loss: 0.7576 - acc: 0.7599 - val_loss: 0.6378 - val_acc: 0.8104\n",
      "Epoch 98/100\n",
      "42000/42000 [==============================] - 2s 55us/sample - loss: 0.7668 - acc: 0.7592 - val_loss: 0.6727 - val_acc: 0.7919\n",
      "Epoch 99/100\n",
      "42000/42000 [==============================] - 2s 55us/sample - loss: 0.7590 - acc: 0.7580 - val_loss: 0.7245 - val_acc: 0.7792\n",
      "Epoch 100/100\n",
      "42000/42000 [==============================] - 2s 56us/sample - loss: 0.7579 - acc: 0.7614 - val_loss: 0.7124 - val_acc: 0.7781\n"
     ]
    }
   ],
   "source": [
    "mod6 = mlp_model()\n",
    "history_dropout = mod6.fit(X_train_reNew, y_train, batch_size = 200, validation_data=(X_val_reNew,y_val), epochs = 100, verbose = 1)"
   ]
  },
  {
   "cell_type": "code",
   "execution_count": 73,
   "metadata": {},
   "outputs": [
    {
     "name": "stdout",
     "output_type": "stream",
     "text": [
      "Model: \"sequential_4\"\n",
      "_________________________________________________________________\n",
      "Layer (type)                 Output Shape              Param #   \n",
      "=================================================================\n",
      "flatten_4 (Flatten)          multiple                  0         \n",
      "_________________________________________________________________\n",
      "dense_15 (Dense)             multiple                  51250     \n",
      "_________________________________________________________________\n",
      "batch_normalization_4 (Batch multiple                  200       \n",
      "_________________________________________________________________\n",
      "activation_15 (Activation)   multiple                  0         \n",
      "_________________________________________________________________\n",
      "dropout (Dropout)            multiple                  0         \n",
      "_________________________________________________________________\n",
      "dense_16 (Dense)             multiple                  2550      \n",
      "_________________________________________________________________\n",
      "batch_normalization_5 (Batch multiple                  200       \n",
      "_________________________________________________________________\n",
      "activation_16 (Activation)   multiple                  0         \n",
      "_________________________________________________________________\n",
      "dropout_1 (Dropout)          multiple                  0         \n",
      "_________________________________________________________________\n",
      "dense_17 (Dense)             multiple                  510       \n",
      "_________________________________________________________________\n",
      "activation_17 (Activation)   multiple                  0         \n",
      "=================================================================\n",
      "Total params: 54,710\n",
      "Trainable params: 54,510\n",
      "Non-trainable params: 200\n",
      "_________________________________________________________________\n"
     ]
    }
   ],
   "source": [
    "mod6.summary()"
   ]
  },
  {
   "cell_type": "code",
   "execution_count": 74,
   "metadata": {},
   "outputs": [
    {
     "name": "stdout",
     "output_type": "stream",
     "text": [
      "18000/18000 [==============================] - 1s 51us/sample - loss: 42.2125 - acc: 0.7140\n"
     ]
    }
   ],
   "source": [
    "res6= mod6.evaluate(X_test_reNew, y_test)"
   ]
  },
  {
   "cell_type": "code",
   "execution_count": 75,
   "metadata": {},
   "outputs": [
    {
     "name": "stdout",
     "output_type": "stream",
     "text": [
      "Accuracy\n",
      "18000/18000 [==============================] - 1s 49us/sample - loss: 0.7742 - acc: 0.7614\n",
      "0.76144445\n",
      "[[1459   74  115    8   47    2   13   23   30   43]\n",
      " [  39 1532   78    8   83    3    2   51   20   12]\n",
      " [  12   30 1586    9   30    3    0   77   22   34]\n",
      " [  11   58  179 1048   75   83   20   27  146   72]\n",
      " [  16   50   62    4 1589    5    6   20   20   40]\n",
      " [  11   36   55  107   44 1177   93   11  127  107]\n",
      " [  46   33   46   14  110   39 1291   17  212   24]\n",
      " [  27  106  402   10   28    2    4 1201   14   14]\n",
      " [  23   44   89   17   72   15   50   14 1405   83]\n",
      " [  34   50  113   20   54   24    9   19   63 1418]]\n",
      "              precision    recall  f1-score   support\n",
      "\n",
      "           0       0.80      0.87      0.84      1678\n",
      "           1       0.84      0.76      0.80      2013\n",
      "           2       0.88      0.58      0.70      2725\n",
      "           3       0.61      0.84      0.71      1245\n",
      "           4       0.88      0.75      0.81      2132\n",
      "           5       0.67      0.87      0.75      1353\n",
      "           6       0.70      0.87      0.78      1488\n",
      "           7       0.66      0.82      0.74      1460\n",
      "           8       0.78      0.68      0.73      2059\n",
      "           9       0.79      0.77      0.78      1847\n",
      "\n",
      "    accuracy                           0.76     18000\n",
      "   macro avg       0.76      0.78      0.76     18000\n",
      "weighted avg       0.78      0.76      0.76     18000\n",
      "\n"
     ]
    },
    {
     "data": {
      "text/html": [
       "<div>\n",
       "<style scoped>\n",
       "    .dataframe tbody tr th:only-of-type {\n",
       "        vertical-align: middle;\n",
       "    }\n",
       "\n",
       "    .dataframe tbody tr th {\n",
       "        vertical-align: top;\n",
       "    }\n",
       "\n",
       "    .dataframe thead th {\n",
       "        text-align: right;\n",
       "    }\n",
       "</style>\n",
       "<table border=\"1\" class=\"dataframe\">\n",
       "  <thead>\n",
       "    <tr style=\"text-align: right;\">\n",
       "      <th></th>\n",
       "      <th>Test accuracy</th>\n",
       "      <th>F1 score</th>\n",
       "      <th>ROC AUC score</th>\n",
       "      <th>Total Loss</th>\n",
       "    </tr>\n",
       "  </thead>\n",
       "  <tbody>\n",
       "    <tr>\n",
       "      <th>0</th>\n",
       "      <td>71.4</td>\n",
       "      <td>0.761</td>\n",
       "      <td>0.967</td>\n",
       "      <td>0.794</td>\n",
       "    </tr>\n",
       "  </tbody>\n",
       "</table>\n",
       "</div>"
      ],
      "text/plain": [
       "   Test accuracy  F1 score  ROC AUC score  Total Loss\n",
       "0           71.4     0.761          0.967       0.794"
      ]
     },
     "metadata": {},
     "output_type": "display_data"
    }
   ],
   "source": [
    "Y_pred_cls_8layer = mod6.predict_classes(X_test_reNew, batch_size=200, verbose=0)\n",
    "\n",
    "print('Accuracy') \n",
    "print( str(mod6.evaluate(X_test_reNew,y_test)[1]) )\n",
    "\n",
    "label_8layer=np.argmax(y_test.T, axis=0)\n",
    "print(confusion_matrix(label_8layer, Y_pred_cls_8layer))\n",
    "print(classification_report(Y_pred_cls_8layer, label_8layer))\n",
    "\n",
    "#create evaluation dataframe\n",
    "stats_6 = pd.DataFrame({'Test accuracy' :  round(res6[1]*100,3),\n",
    "                      'F1 score'      : round(f1_score(label_8layer, Y_pred_cls_8layer, average='micro'),3),\n",
    "                      'ROC AUC score' : round(roc_auc_score(y_test, mod6.predict_proba(X_test_reNew)),3),\n",
    "                      'Total Loss'    : round(res5[0],3)}, index=[0])\n",
    "#print evaluation dataframe\n",
    "display(stats_6)"
   ]
  },
  {
   "cell_type": "code",
   "execution_count": 76,
   "metadata": {},
   "outputs": [
    {
     "data": {
      "image/png": "[encoded data removed]",
      "text/plain": [
       "<Figure size 432x288 with 1 Axes>"
      ]
     },
     "metadata": {
      "needs_background": "light"
     },
     "output_type": "display_data"
    }
   ],
   "source": [
    "#Accuracy Plot\n",
    "plt.plot(history_dropout.history['acc'])\n",
    "plt.plot(history_dropout.history['val_acc'])\n",
    "plt.title('model accuracy')\n",
    "plt.ylabel('accuracy')\n",
    "plt.xlabel('epoch')\n",
    "plt.legend(['train', 'test'], loc='upper left')\n",
    "plt.show()"
   ]
  },
  {
   "cell_type": "code",
   "execution_count": 77,
   "metadata": {},
   "outputs": [
    {
     "data": {
      "image/png": "[encoded data removed]",
      "text/plain": [
       "<Figure size 432x288 with 1 Axes>"
      ]
     },
     "metadata": {
      "needs_background": "light"
     },
     "output_type": "display_data"
    }
   ],
   "source": [
    "#Loss Plot\n",
    "plt.plot(history_dropout.history['loss'])\n",
    "plt.plot(history_dropout.history['val_loss'])\n",
    "plt.title('model loss')\n",
    "plt.ylabel('loss')\n",
    "plt.xlabel('epoch')\n",
    "plt.legend(['train', 'test'], loc='upper left')\n",
    "plt.show()"
   ]
  },
  {
   "cell_type": "code",
   "execution_count": 78,
   "metadata": {},
   "outputs": [
    {
     "data": {
      "text/html": [
       "<div>\n",
       "<style scoped>\n",
       "    .dataframe tbody tr th:only-of-type {\n",
       "        vertical-align: middle;\n",
       "    }\n",
       "\n",
       "    .dataframe tbody tr th {\n",
       "        vertical-align: top;\n",
       "    }\n",
       "\n",
       "    .dataframe thead th {\n",
       "        text-align: right;\n",
       "    }\n",
       "</style>\n",
       "<table border=\"1\" class=\"dataframe\">\n",
       "  <thead>\n",
       "    <tr style=\"text-align: right;\">\n",
       "      <th></th>\n",
       "      <th>Models</th>\n",
       "      <th>loss</th>\n",
       "      <th>Accuracy</th>\n",
       "    </tr>\n",
       "  </thead>\n",
       "  <tbody>\n",
       "    <tr>\n",
       "      <th>1</th>\n",
       "      <td>Adam with one Layer</td>\n",
       "      <td>0.678502</td>\n",
       "      <td>0.809778</td>\n",
       "    </tr>\n",
       "    <tr>\n",
       "      <th>2</th>\n",
       "      <td>Adam with two Layer</td>\n",
       "      <td>0.628856</td>\n",
       "      <td>0.831722</td>\n",
       "    </tr>\n",
       "    <tr>\n",
       "      <th>3</th>\n",
       "      <td>adam with 4 Layers</td>\n",
       "      <td>0.858889</td>\n",
       "      <td>0.730111</td>\n",
       "    </tr>\n",
       "    <tr>\n",
       "      <th>4</th>\n",
       "      <td>Random Weights</td>\n",
       "      <td>2.302752</td>\n",
       "      <td>0.095500</td>\n",
       "    </tr>\n",
       "    <tr>\n",
       "      <th>5</th>\n",
       "      <td>Relu</td>\n",
       "      <td>1.036408</td>\n",
       "      <td>0.670333</td>\n",
       "    </tr>\n",
       "    <tr>\n",
       "      <th>6</th>\n",
       "      <td>sigmoid</td>\n",
       "      <td>0.793837</td>\n",
       "      <td>0.785556</td>\n",
       "    </tr>\n",
       "    <tr>\n",
       "      <th>7</th>\n",
       "      <td>Dropout</td>\n",
       "      <td>42.212529</td>\n",
       "      <td>0.714000</td>\n",
       "    </tr>\n",
       "  </tbody>\n",
       "</table>\n",
       "</div>"
      ],
      "text/plain": [
       "                Models       loss  Accuracy\n",
       "1  Adam with one Layer   0.678502  0.809778\n",
       "2  Adam with two Layer   0.628856  0.831722\n",
       "3   adam with 4 Layers   0.858889  0.730111\n",
       "4       Random Weights   2.302752  0.095500\n",
       "5                 Relu   1.036408  0.670333\n",
       "6              sigmoid   0.793837  0.785556\n",
       "7              Dropout  42.212529  0.714000"
      ]
     },
     "execution_count": 78,
     "metadata": {},
     "output_type": "execute_result"
    }
   ],
   "source": [
    "temp_df = pd.DataFrame({'Models':['Dropout'],'loss': res6[0], 'Accuracy': [res6[1]]},index={'7'})\n",
    "final_df= pd.concat([final_df, temp_df])\n",
    "final_df"
   ]
  },
  {
   "cell_type": "markdown",
   "metadata": {},
   "source": [
    "# Tuning"
   ]
  },
  {
   "cell_type": "code",
   "execution_count": 79,
   "metadata": {
    "scrolled": false
   },
   "outputs": [
    {
     "name": "stdout",
     "output_type": "stream",
     "text": [
      "Train on 42000 samples, validate on 60000 samples\n",
      "Epoch 1/100\n",
      "42000/42000 [==============================] - 10s 227us/sample - loss: 1.6417 - acc: 0.4513 - val_loss: 1.7864 - val_acc: 0.4108\n",
      "Epoch 2/100\n",
      "42000/42000 [==============================] - 9s 211us/sample - loss: 1.0796 - acc: 0.6562 - val_loss: 1.2878 - val_acc: 0.5895\n",
      "Epoch 3/100\n",
      "42000/42000 [==============================] - 9s 212us/sample - loss: 0.9328 - acc: 0.7096 - val_loss: 1.3429 - val_acc: 0.5642\n",
      "Epoch 4/100\n",
      "42000/42000 [==============================] - 9s 212us/sample - loss: 0.8404 - acc: 0.7375 - val_loss: 1.0176 - val_acc: 0.6730\n",
      "Epoch 5/100\n",
      "42000/42000 [==============================] - 9s 215us/sample - loss: 0.7812 - acc: 0.7585 - val_loss: 1.1008 - val_acc: 0.6415\n",
      "Epoch 6/100\n",
      "42000/42000 [==============================] - 9s 211us/sample - loss: 0.7317 - acc: 0.7747 - val_loss: 0.9185 - val_acc: 0.7099\n",
      "Epoch 7/100\n",
      "42000/42000 [==============================] - 9s 208us/sample - loss: 0.7018 - acc: 0.7823 - val_loss: 0.8858 - val_acc: 0.7293\n",
      "Epoch 8/100\n",
      "42000/42000 [==============================] - 9s 211us/sample - loss: 0.6736 - acc: 0.7893 - val_loss: 0.9575 - val_acc: 0.6837\n",
      "Epoch 9/100\n",
      "42000/42000 [==============================] - 9s 211us/sample - loss: 0.6449 - acc: 0.8013 - val_loss: 1.0372 - val_acc: 0.6704\n",
      "Epoch 10/100\n",
      "42000/42000 [==============================] - 9s 211us/sample - loss: 0.6192 - acc: 0.8072 - val_loss: 0.8701 - val_acc: 0.7166\n",
      "Epoch 11/100\n",
      "42000/42000 [==============================] - 9s 210us/sample - loss: 0.6005 - acc: 0.8124 - val_loss: 0.7523 - val_acc: 0.7715\n",
      "Epoch 12/100\n",
      "42000/42000 [==============================] - 9s 211us/sample - loss: 0.5884 - acc: 0.8163 - val_loss: 0.6878 - val_acc: 0.7850\n",
      "Epoch 13/100\n",
      "42000/42000 [==============================] - 9s 211us/sample - loss: 0.5693 - acc: 0.8253 - val_loss: 0.7574 - val_acc: 0.7538\n",
      "Epoch 14/100\n",
      "42000/42000 [==============================] - 9s 211us/sample - loss: 0.5562 - acc: 0.8272 - val_loss: 0.9597 - val_acc: 0.6856\n",
      "Epoch 15/100\n",
      "42000/42000 [==============================] - 9s 212us/sample - loss: 0.5457 - acc: 0.8302 - val_loss: 0.9651 - val_acc: 0.6839\n",
      "Epoch 16/100\n",
      "42000/42000 [==============================] - 9s 212us/sample - loss: 0.5347 - acc: 0.8329 - val_loss: 0.6934 - val_acc: 0.8164\n",
      "Epoch 17/100\n",
      "42000/42000 [==============================] - 9s 213us/sample - loss: 0.5187 - acc: 0.8364 - val_loss: 0.8072 - val_acc: 0.7435\n",
      "Epoch 18/100\n",
      "42000/42000 [==============================] - 9s 211us/sample - loss: 0.5133 - acc: 0.8389 - val_loss: 0.7562 - val_acc: 0.7736\n",
      "Epoch 19/100\n",
      "42000/42000 [==============================] - 9s 211us/sample - loss: 0.4986 - acc: 0.8459 - val_loss: 0.8048 - val_acc: 0.7333\n",
      "Epoch 20/100\n",
      "42000/42000 [==============================] - 9s 212us/sample - loss: 0.4928 - acc: 0.8454 - val_loss: 0.6827 - val_acc: 0.7868\n",
      "Epoch 21/100\n",
      "42000/42000 [==============================] - 9s 215us/sample - loss: 0.4851 - acc: 0.8477 - val_loss: 0.7067 - val_acc: 0.7755\n",
      "Epoch 22/100\n",
      "42000/42000 [==============================] - 9s 215us/sample - loss: 0.4794 - acc: 0.8500 - val_loss: 0.6985 - val_acc: 0.7681\n",
      "Epoch 23/100\n",
      "42000/42000 [==============================] - 9s 209us/sample - loss: 0.4641 - acc: 0.8528 - val_loss: 0.7639 - val_acc: 0.7568\n",
      "Epoch 24/100\n",
      "42000/42000 [==============================] - 9s 211us/sample - loss: 0.4592 - acc: 0.8543 - val_loss: 0.6347 - val_acc: 0.7992\n",
      "Epoch 25/100\n",
      "42000/42000 [==============================] - 9s 211us/sample - loss: 0.4515 - acc: 0.8569 - val_loss: 0.6560 - val_acc: 0.7961\n",
      "Epoch 26/100\n",
      "42000/42000 [==============================] - 9s 217us/sample - loss: 0.4491 - acc: 0.8583 - val_loss: 0.6024 - val_acc: 0.8124\n",
      "Epoch 27/100\n",
      "42000/42000 [==============================] - 9s 212us/sample - loss: 0.4351 - acc: 0.8622 - val_loss: 0.6153 - val_acc: 0.8105\n",
      "Epoch 28/100\n",
      "42000/42000 [==============================] - 9s 213us/sample - loss: 0.4303 - acc: 0.8644 - val_loss: 0.7622 - val_acc: 0.7447\n",
      "Epoch 29/100\n",
      "42000/42000 [==============================] - 9s 212us/sample - loss: 0.4298 - acc: 0.8641 - val_loss: 0.6350 - val_acc: 0.7928\n",
      "Epoch 30/100\n",
      "42000/42000 [==============================] - 9s 208us/sample - loss: 0.4194 - acc: 0.8672 - val_loss: 0.6287 - val_acc: 0.7972\n",
      "Epoch 31/100\n",
      "42000/42000 [==============================] - 9s 209us/sample - loss: 0.4098 - acc: 0.8700 - val_loss: 0.7005 - val_acc: 0.7719\n",
      "Epoch 32/100\n",
      "42000/42000 [==============================] - 9s 206us/sample - loss: 0.4080 - acc: 0.8707 - val_loss: 0.6359 - val_acc: 0.7998\n",
      "Epoch 33/100\n",
      "42000/42000 [==============================] - 9s 207us/sample - loss: 0.4021 - acc: 0.8714 - val_loss: 0.5798 - val_acc: 0.8235\n",
      "Epoch 34/100\n",
      "42000/42000 [==============================] - 9s 205us/sample - loss: 0.4000 - acc: 0.8727 - val_loss: 1.2597 - val_acc: 0.6482\n",
      "Epoch 35/100\n",
      "42000/42000 [==============================] - 9s 209us/sample - loss: 0.3903 - acc: 0.8752 - val_loss: 0.6046 - val_acc: 0.8065\n",
      "Epoch 36/100\n",
      "42000/42000 [==============================] - 9s 205us/sample - loss: 0.3860 - acc: 0.8769 - val_loss: 0.5907 - val_acc: 0.8191\n",
      "Epoch 37/100\n",
      "42000/42000 [==============================] - 9s 209us/sample - loss: 0.3832 - acc: 0.8771 - val_loss: 0.6713 - val_acc: 0.7840\n",
      "Epoch 38/100\n",
      "42000/42000 [==============================] - 9s 209us/sample - loss: 0.3771 - acc: 0.8798 - val_loss: 0.7121 - val_acc: 0.7656\n",
      "Epoch 39/100\n",
      "42000/42000 [==============================] - 9s 214us/sample - loss: 0.3747 - acc: 0.8793 - val_loss: 0.5795 - val_acc: 0.8184\n",
      "Epoch 40/100\n",
      "42000/42000 [==============================] - 9s 217us/sample - loss: 0.3715 - acc: 0.8805 - val_loss: 0.5693 - val_acc: 0.8336\n",
      "Epoch 41/100\n",
      "42000/42000 [==============================] - 9s 214us/sample - loss: 0.3683 - acc: 0.8827 - val_loss: 0.6983 - val_acc: 0.7697\n",
      "Epoch 42/100\n",
      "42000/42000 [==============================] - 9s 214us/sample - loss: 0.3600 - acc: 0.8850 - val_loss: 0.6945 - val_acc: 0.7615\n",
      "Epoch 43/100\n",
      "42000/42000 [==============================] - 9s 212us/sample - loss: 0.3602 - acc: 0.8840 - val_loss: 0.5750 - val_acc: 0.8209\n",
      "Epoch 44/100\n",
      "42000/42000 [==============================] - 9s 215us/sample - loss: 0.3524 - acc: 0.8854 - val_loss: 0.5407 - val_acc: 0.8345\n",
      "Epoch 45/100\n",
      "42000/42000 [==============================] - 9s 209us/sample - loss: 0.3476 - acc: 0.8876 - val_loss: 0.6198 - val_acc: 0.8049\n",
      "Epoch 46/100\n",
      "42000/42000 [==============================] - 9s 209us/sample - loss: 0.3451 - acc: 0.8895 - val_loss: 0.6716 - val_acc: 0.7795\n",
      "Epoch 47/100\n",
      "42000/42000 [==============================] - 9s 211us/sample - loss: 0.3481 - acc: 0.8870 - val_loss: 0.5270 - val_acc: 0.8419\n",
      "Epoch 48/100\n",
      "42000/42000 [==============================] - 9s 213us/sample - loss: 0.3361 - acc: 0.8895 - val_loss: 0.6885 - val_acc: 0.7631\n",
      "Epoch 49/100\n",
      "42000/42000 [==============================] - 9s 212us/sample - loss: 0.3452 - acc: 0.8889 - val_loss: 0.7207 - val_acc: 0.7615\n",
      "Epoch 50/100\n",
      "42000/42000 [==============================] - 9s 211us/sample - loss: 0.3358 - acc: 0.8918 - val_loss: 0.6403 - val_acc: 0.7909\n",
      "Epoch 51/100\n",
      "42000/42000 [==============================] - 9s 213us/sample - loss: 0.3338 - acc: 0.8922 - val_loss: 0.6331 - val_acc: 0.7936\n",
      "Epoch 52/100\n",
      "42000/42000 [==============================] - 9s 207us/sample - loss: 0.3248 - acc: 0.8936 - val_loss: 0.5637 - val_acc: 0.8296\n",
      "Epoch 53/100\n",
      "42000/42000 [==============================] - 9s 210us/sample - loss: 0.3198 - acc: 0.8964 - val_loss: 0.5552 - val_acc: 0.8280\n",
      "Epoch 54/100\n",
      "42000/42000 [==============================] - 9s 210us/sample - loss: 0.3225 - acc: 0.8966 - val_loss: 0.5670 - val_acc: 0.8194\n",
      "Epoch 55/100\n",
      "42000/42000 [==============================] - 9s 208us/sample - loss: 0.3176 - acc: 0.8970 - val_loss: 0.5628 - val_acc: 0.8249\n",
      "Epoch 56/100\n",
      "42000/42000 [==============================] - 9s 214us/sample - loss: 0.3127 - acc: 0.8986 - val_loss: 0.5984 - val_acc: 0.8119\n",
      "Epoch 57/100\n",
      "42000/42000 [==============================] - 9s 206us/sample - loss: 0.3098 - acc: 0.8983 - val_loss: 0.6029 - val_acc: 0.8080\n",
      "Epoch 58/100\n",
      "42000/42000 [==============================] - 9s 210us/sample - loss: 0.3120 - acc: 0.8972 - val_loss: 0.7322 - val_acc: 0.7827\n",
      "Epoch 59/100\n",
      "42000/42000 [==============================] - 9s 210us/sample - loss: 0.3097 - acc: 0.8988 - val_loss: 0.5171 - val_acc: 0.8375\n",
      "Epoch 60/100\n",
      "42000/42000 [==============================] - 9s 212us/sample - loss: 0.3079 - acc: 0.8994 - val_loss: 0.4688 - val_acc: 0.8552\n",
      "Epoch 61/100\n",
      "42000/42000 [==============================] - 9s 214us/sample - loss: 0.2991 - acc: 0.9022 - val_loss: 0.6371 - val_acc: 0.7985\n",
      "Epoch 62/100\n",
      "42000/42000 [==============================] - 9s 226us/sample - loss: 0.3010 - acc: 0.9006 - val_loss: 0.6407 - val_acc: 0.8019\n",
      "Epoch 63/100\n",
      "42000/42000 [==============================] - 10s 228us/sample - loss: 0.2944 - acc: 0.9029 - val_loss: 0.5684 - val_acc: 0.8132\n",
      "Epoch 64/100\n",
      "42000/42000 [==============================] - 10s 235us/sample - loss: 0.2975 - acc: 0.9027 - val_loss: 0.5945 - val_acc: 0.8069\n",
      "Epoch 65/100\n",
      "42000/42000 [==============================] - 9s 224us/sample - loss: 0.2953 - acc: 0.9030 - val_loss: 0.6204 - val_acc: 0.7978\n",
      "Epoch 66/100\n",
      "42000/42000 [==============================] - 10s 227us/sample - loss: 0.2889 - acc: 0.9057 - val_loss: 0.4893 - val_acc: 0.8428\n",
      "Epoch 67/100\n",
      "42000/42000 [==============================] - 10s 230us/sample - loss: 0.2882 - acc: 0.9044 - val_loss: 0.5585 - val_acc: 0.8105\n",
      "Epoch 68/100\n",
      "42000/42000 [==============================] - 9s 225us/sample - loss: 0.2889 - acc: 0.9046 - val_loss: 0.6870 - val_acc: 0.7866\n",
      "Epoch 69/100\n",
      "42000/42000 [==============================] - 9s 212us/sample - loss: 0.2812 - acc: 0.9086 - val_loss: 0.4810 - val_acc: 0.8461\n",
      "Epoch 70/100\n",
      "42000/42000 [==============================] - 10s 247us/sample - loss: 0.2820 - acc: 0.9075 - val_loss: 0.4945 - val_acc: 0.8439\n",
      "Epoch 71/100\n",
      "42000/42000 [==============================] - 10s 228us/sample - loss: 0.2768 - acc: 0.9095 - val_loss: 0.6372 - val_acc: 0.7957\n",
      "Epoch 72/100\n",
      "42000/42000 [==============================] - 10s 234us/sample - loss: 0.2787 - acc: 0.9077 - val_loss: 0.5980 - val_acc: 0.8081\n",
      "Epoch 73/100\n",
      "42000/42000 [==============================] - 9s 212us/sample - loss: 0.2766 - acc: 0.9103 - val_loss: 0.5478 - val_acc: 0.8186\n",
      "Epoch 74/100\n",
      "42000/42000 [==============================] - 9s 214us/sample - loss: 0.2759 - acc: 0.9090 - val_loss: 0.5762 - val_acc: 0.8189\n",
      "Epoch 75/100\n",
      "42000/42000 [==============================] - 9s 219us/sample - loss: 0.2708 - acc: 0.9102 - val_loss: 0.4979 - val_acc: 0.8374\n",
      "Epoch 76/100\n",
      "42000/42000 [==============================] - 9s 224us/sample - loss: 0.2697 - acc: 0.9121 - val_loss: 0.4616 - val_acc: 0.8603\n",
      "Epoch 77/100\n",
      "42000/42000 [==============================] - 10s 230us/sample - loss: 0.2658 - acc: 0.9131 - val_loss: 0.5064 - val_acc: 0.8440\n",
      "Epoch 78/100\n",
      "42000/42000 [==============================] - 10s 231us/sample - loss: 0.2710 - acc: 0.9118 - val_loss: 0.5938 - val_acc: 0.8062\n",
      "Epoch 79/100\n",
      "42000/42000 [==============================] - 9s 217us/sample - loss: 0.2645 - acc: 0.9120 - val_loss: 0.5015 - val_acc: 0.8465\n",
      "Epoch 80/100\n",
      "42000/42000 [==============================] - 9s 210us/sample - loss: 0.2607 - acc: 0.9137 - val_loss: 0.4755 - val_acc: 0.8545 - loss: 0.2630 \n",
      "Epoch 81/100\n",
      "42000/42000 [==============================] - 9s 214us/sample - loss: 0.2611 - acc: 0.9147 - val_loss: 0.6961 - val_acc: 0.7777\n",
      "Epoch 82/100\n",
      "42000/42000 [==============================] - 9s 213us/sample - loss: 0.2615 - acc: 0.9130 - val_loss: 0.4679 - val_acc: 0.8546\n",
      "Epoch 83/100\n",
      "42000/42000 [==============================] - 9s 212us/sample - loss: 0.2582 - acc: 0.9152 - val_loss: 0.4977 - val_acc: 0.8388\n",
      "Epoch 84/100\n",
      "42000/42000 [==============================] - 9s 225us/sample - loss: 0.2520 - acc: 0.9170 - val_loss: 0.5217 - val_acc: 0.8454\n",
      "Epoch 85/100\n",
      "42000/42000 [==============================] - 9s 222us/sample - loss: 0.2550 - acc: 0.9158 - val_loss: 0.5263 - val_acc: 0.8348\n",
      "Epoch 86/100\n",
      "42000/42000 [==============================] - 9s 220us/sample - loss: 0.2544 - acc: 0.9170 - val_loss: 0.5580 - val_acc: 0.8142\n",
      "Epoch 87/100\n",
      "42000/42000 [==============================] - 9s 220us/sample - loss: 0.2558 - acc: 0.9156 - val_loss: 0.4899 - val_acc: 0.8493\n",
      "Epoch 88/100\n",
      "42000/42000 [==============================] - 10s 236us/sample - loss: 0.2487 - acc: 0.9162 - val_loss: 0.3859 - val_acc: 0.8861\n",
      "Epoch 89/100\n",
      "42000/42000 [==============================] - 9s 220us/sample - loss: 0.2501 - acc: 0.9188 - val_loss: 0.4457 - val_acc: 0.8633\n",
      "Epoch 90/100\n",
      "42000/42000 [==============================] - 9s 213us/sample - loss: 0.2488 - acc: 0.9179 - val_loss: 0.4296 - val_acc: 0.8638\n",
      "Epoch 91/100\n",
      "42000/42000 [==============================] - 9s 214us/sample - loss: 0.2430 - acc: 0.9199 - val_loss: 0.4383 - val_acc: 0.8625\n",
      "Epoch 92/100\n",
      "42000/42000 [==============================] - 9s 214us/sample - loss: 0.2447 - acc: 0.9203 - val_loss: 0.5366 - val_acc: 0.8314\n",
      "Epoch 93/100\n",
      "42000/42000 [==============================] - 9s 214us/sample - loss: 0.2440 - acc: 0.9196 - val_loss: 0.4873 - val_acc: 0.8508\n",
      "Epoch 94/100\n",
      "42000/42000 [==============================] - 9s 219us/sample - loss: 0.2461 - acc: 0.9185 - val_loss: 0.4897 - val_acc: 0.8511\n",
      "Epoch 95/100\n",
      "42000/42000 [==============================] - 9s 211us/sample - loss: 0.2359 - acc: 0.9220 - val_loss: 0.5441 - val_acc: 0.8203\n",
      "Epoch 96/100\n",
      "42000/42000 [==============================] - 9s 211us/sample - loss: 0.2379 - acc: 0.9209 - val_loss: 0.6824 - val_acc: 0.8040\n",
      "Epoch 97/100\n",
      "42000/42000 [==============================] - 9s 212us/sample - loss: 0.2387 - acc: 0.9203 - val_loss: 0.4850 - val_acc: 0.8519\n",
      "Epoch 98/100\n",
      "42000/42000 [==============================] - 9s 214us/sample - loss: 0.2445 - acc: 0.9196 - val_loss: 0.6288 - val_acc: 0.7895\n",
      "Epoch 99/100\n",
      "42000/42000 [==============================] - 9s 212us/sample - loss: 0.2383 - acc: 0.9205 - val_loss: 0.3920 - val_acc: 0.8814\n",
      "Epoch 100/100\n",
      "42000/42000 [==============================] - 9s 212us/sample - loss: 0.2319 - acc: 0.9232 - val_loss: 0.5394 - val_acc: 0.8303\n"
     ]
    }
   ],
   "source": [
    "tf.keras.backend.clear_session()\n",
    "\n",
    "mod_tune = Sequential() \n",
    "mod_tune.add(Flatten())#Flatten layer\n",
    "mod_tune.add(Dense(800, kernel_initializer='he_normal')) #First hidden layer with  neurons, equal to input neurons. \n",
    "mod_tune.add(BatchNormalization()) \n",
    "mod_tune.add(LeakyReLU(alpha=0.05)) #activation function Leakyrelu.\n",
    "mod_tune.add(Dropout(0.3)) \n",
    "\n",
    "mod_tune.add(Dense(800, kernel_initializer='he_normal')) #Second hidden layer with  neurons. \n",
    "mod_tune.add(BatchNormalization()) \n",
    "mod_tune.add(LeakyReLU(alpha=0.05)) #activation function Leakyrelu.\n",
    "mod_tune.add(Dropout(0.3))\n",
    "\n",
    "mod_tune.add(Dense(10)) #output layer with 10 neurons since we have 10 different classes\n",
    "mod_tune.add(Activation('softmax'))\n",
    "\n",
    "mod_tune.compile(optimizer='adam', loss='categorical_crossentropy', metrics=['accuracy'])\n",
    " \n",
    "history_tune = mod_tune.fit(X_train_reNew, y_train, batch_size = 200, validation_data=(X_val_reNew,y_val), epochs = 100) #200 epochs with batch size 200."
   ]
  },
  {
   "cell_type": "code",
   "execution_count": 80,
   "metadata": {},
   "outputs": [
    {
     "name": "stdout",
     "output_type": "stream",
     "text": [
      "Model: \"sequential\"\n",
      "_________________________________________________________________\n",
      "Layer (type)                 Output Shape              Param #   \n",
      "=================================================================\n",
      "flatten (Flatten)            multiple                  0         \n",
      "_________________________________________________________________\n",
      "dense (Dense)                multiple                  512500    \n",
      "_________________________________________________________________\n",
      "batch_normalization (BatchNo multiple                  2000      \n",
      "_________________________________________________________________\n",
      "leaky_re_lu (LeakyReLU)      multiple                  0         \n",
      "_________________________________________________________________\n",
      "dropout (Dropout)            multiple                  0         \n",
      "_________________________________________________________________\n",
      "dense_1 (Dense)              multiple                  250500    \n",
      "_________________________________________________________________\n",
      "batch_normalization_1 (Batch multiple                  2000      \n",
      "_________________________________________________________________\n",
      "leaky_re_lu_1 (LeakyReLU)    multiple                  0         \n",
      "_________________________________________________________________\n",
      "dropout_1 (Dropout)          multiple                  0         \n",
      "_________________________________________________________________\n",
      "dense_2 (Dense)              multiple                  5010      \n",
      "_________________________________________________________________\n",
      "activation (Activation)      multiple                  0         \n",
      "=================================================================\n",
      "Total params: 772,010\n",
      "Trainable params: 770,010\n",
      "Non-trainable params: 2,000\n",
      "_________________________________________________________________\n",
      "18000/18000 [==============================] - 3s 149us/sample - loss: 0.7977 - acc: 0.7729\n"
     ]
    }
   ],
   "source": [
    "mod_tune.summary()\n",
    "res_tune= mod_tune.evaluate(X_test_reNew, y_test)"
   ]
  },
  {
   "cell_type": "code",
   "execution_count": 81,
   "metadata": {},
   "outputs": [
    {
     "name": "stdout",
     "output_type": "stream",
     "text": [
      "Accuracy\n",
      "18000/18000 [==============================] - 3s 155us/sample - loss: 0.7977 - acc: 0.7729\n",
      "0.77294445\n",
      "[[1245   18    3   95   11   21  223    7  149   42]\n",
      " [  11 1247   18  202   41   82   35   14  168   10]\n",
      " [   2    6 1405  209    5   34   12    9  100   21]\n",
      " [   4    6   11 1458    4  145   16    2   68    5]\n",
      " [   5   23   14   82 1390   49   98    4  123   24]\n",
      " [   2    4    7  113    3 1501   47    1   76   14]\n",
      " [   9    5    6   41    5   98 1514    2  142   10]\n",
      " [   7   42   53  334   10   43   22 1230   52   15]\n",
      " [   5    9    5   88    2   43   77    1 1565   17]\n",
      " [  11    7   11  102   10   88   45    7  165 1358]]\n",
      "              precision    recall  f1-score   support\n",
      "\n",
      "           0       0.69      0.96      0.80      1301\n",
      "           1       0.68      0.91      0.78      1367\n",
      "           2       0.78      0.92      0.84      1533\n",
      "           3       0.85      0.54      0.66      2724\n",
      "           4       0.77      0.94      0.84      1481\n",
      "           5       0.85      0.71      0.78      2104\n",
      "           6       0.83      0.72      0.77      2089\n",
      "           7       0.68      0.96      0.80      1277\n",
      "           8       0.86      0.60      0.71      2608\n",
      "           9       0.75      0.90      0.82      1516\n",
      "\n",
      "    accuracy                           0.77     18000\n",
      "   macro avg       0.77      0.82      0.78     18000\n",
      "weighted avg       0.79      0.77      0.77     18000\n",
      "\n"
     ]
    },
    {
     "data": {
      "text/html": [
       "<div>\n",
       "<style scoped>\n",
       "    .dataframe tbody tr th:only-of-type {\n",
       "        vertical-align: middle;\n",
       "    }\n",
       "\n",
       "    .dataframe tbody tr th {\n",
       "        vertical-align: top;\n",
       "    }\n",
       "\n",
       "    .dataframe thead th {\n",
       "        text-align: right;\n",
       "    }\n",
       "</style>\n",
       "<table border=\"1\" class=\"dataframe\">\n",
       "  <thead>\n",
       "    <tr style=\"text-align: right;\">\n",
       "      <th></th>\n",
       "      <th>Test accuracy</th>\n",
       "      <th>F1 score</th>\n",
       "      <th>ROC AUC score</th>\n",
       "      <th>Total Loss</th>\n",
       "    </tr>\n",
       "  </thead>\n",
       "  <tbody>\n",
       "    <tr>\n",
       "      <th>0</th>\n",
       "      <td>77.294</td>\n",
       "      <td>0.773</td>\n",
       "      <td>0.977</td>\n",
       "      <td>0.798</td>\n",
       "    </tr>\n",
       "  </tbody>\n",
       "</table>\n",
       "</div>"
      ],
      "text/plain": [
       "   Test accuracy  F1 score  ROC AUC score  Total Loss\n",
       "0         77.294     0.773          0.977       0.798"
      ]
     },
     "metadata": {},
     "output_type": "display_data"
    }
   ],
   "source": [
    "Y_pred_cls_tune = mod_tune.predict_classes(X_test_reNew, batch_size=200, verbose=0)\n",
    "\n",
    "print('Accuracy') \n",
    "print( str(mod_tune.evaluate(X_test_reNew,y_test)[1]) )\n",
    "\n",
    "\n",
    "label_tune=np.argmax(y_test.T, axis=0)\n",
    "print(confusion_matrix(label_tune, Y_pred_cls_tune))\n",
    "print(classification_report(Y_pred_cls_tune, label_tune))\n",
    "\n",
    "#calculate evaluation parameters\n",
    "f1_tune = f1_score(label_tune, Y_pred_cls_tune, average='micro')\n",
    "roc_tune = roc_auc_score(y_test, mod_tune.predict_proba(X_test_reNew))\n",
    "#create evaluation dataframe\n",
    "stats_tune = pd.DataFrame({'Test accuracy' :  round(res_tune[1]*100,3),\n",
    "                      'F1 score'      : round(f1_tune,3),\n",
    "                      'ROC AUC score' : round(roc_tune,3),\n",
    "                      'Total Loss'    : round(res_tune[0],3)}, index=[0])\n",
    "#print evaluation dataframe\n",
    "display(stats_tune)"
   ]
  },
  {
   "cell_type": "code",
   "execution_count": 82,
   "metadata": {},
   "outputs": [
    {
     "data": {
      "image/png": "[encoded data removed]",
      "text/plain": [
       "<Figure size 432x288 with 1 Axes>"
      ]
     },
     "metadata": {
      "needs_background": "light"
     },
     "output_type": "display_data"
    }
   ],
   "source": [
    "#Accuracy plot\n",
    "plt.plot(history_tune.history['acc'])\n",
    "plt.plot(history_tune.history['val_acc'])\n",
    "plt.title('model accuracy')\n",
    "plt.ylabel('accuracy')\n",
    "plt.xlabel('epoch')\n",
    "plt.legend(['train', 'test'], loc='upper left')\n",
    "plt.show()\n",
    "\n"
   ]
  },
  {
   "cell_type": "code",
   "execution_count": 83,
   "metadata": {},
   "outputs": [
    {
     "data": {
      "image/png": "[encoded data removed]",
      "text/plain": [
       "<Figure size 432x288 with 1 Axes>"
      ]
     },
     "metadata": {
      "needs_background": "light"
     },
     "output_type": "display_data"
    }
   ],
   "source": [
    "#Loss Plot\n",
    "plt.plot(history_tune.history['loss'])\n",
    "plt.plot(history_tune.history['val_loss'])\n",
    "plt.title('model loss')\n",
    "plt.ylabel('loss')\n",
    "plt.xlabel('epoch')\n",
    "plt.legend(['train', 'test'], loc='upper left')\n",
    "plt.show()\n",
    "\n"
   ]
  },
  {
   "cell_type": "code",
   "execution_count": 90,
   "metadata": {},
   "outputs": [
    {
     "data": {
      "text/html": [
       "<div>\n",
       "<style scoped>\n",
       "    .dataframe tbody tr th:only-of-type {\n",
       "        vertical-align: middle;\n",
       "    }\n",
       "\n",
       "    .dataframe tbody tr th {\n",
       "        vertical-align: top;\n",
       "    }\n",
       "\n",
       "    .dataframe thead th {\n",
       "        text-align: right;\n",
       "    }\n",
       "</style>\n",
       "<table border=\"1\" class=\"dataframe\">\n",
       "  <thead>\n",
       "    <tr style=\"text-align: right;\">\n",
       "      <th></th>\n",
       "      <th>Models</th>\n",
       "      <th>loss</th>\n",
       "      <th>Accuracy</th>\n",
       "    </tr>\n",
       "  </thead>\n",
       "  <tbody>\n",
       "    <tr>\n",
       "      <th>8</th>\n",
       "      <td>Adam with tuning</td>\n",
       "      <td>0.797687</td>\n",
       "      <td>0.772944</td>\n",
       "    </tr>\n",
       "  </tbody>\n",
       "</table>\n",
       "</div>"
      ],
      "text/plain": [
       "             Models      loss  Accuracy\n",
       "8  Adam with tuning  0.797687  0.772944"
      ]
     },
     "execution_count": 90,
     "metadata": {},
     "output_type": "execute_result"
    }
   ],
   "source": [
    "#Store the Accuracy in a dataframe for final comparison\n",
    "tuned_df = pd.DataFrame({'Models':['Adam with tuning'], 'loss': res_tune[0], 'Accuracy': res_tune[1]},index={'8'})\n",
    "tuned_df"
   ]
  },
  {
   "cell_type": "markdown",
   "metadata": {},
   "source": [
    "# Conclusion"
   ]
  },
  {
   "cell_type": "markdown",
   "metadata": {},
   "source": [
    "Conclusion:\n",
    "The assignment is to build a Neural network to classify the labels in SVHN image dataset.\n",
    "\n",
    "SVHN dataset contains 42000, 18000 and 60000 images of Train, Validation and Test set respectively. Input images are having additional numbers present in Left or right side. These images can be cropped without loosing the actual data.\n",
    "\n",
    "1 layer NN gives 80% of accuracy,\n",
    "2 layer NN(83%) gives more accuracy than 1 layered NN(80%).\n",
    "After that I tried with different combination for tuning the Neural networks and achieved 80% of accuracy.\n",
    "*NN gives more accuracy when we tune the parmaters with multiple combination like activations functions, epochs, batch size, optimizers etc *.,"
   ]
  }
 ],
 "metadata": {
  "kernelspec": {
   "display_name": "Python 3",
   "language": "python",
   "name": "python3"
  },
  "language_info": {
   "codemirror_mode": {
    "name": "ipython",
    "version": 3
   },
   "file_extension": ".py",
   "mimetype": "text/x-python",
   "name": "python",
   "nbconvert_exporter": "python",
   "pygments_lexer": "ipython3",
   "version": "3.7.6"
  }
 },
 "nbformat": 4,
 "nbformat_minor": 4
}
